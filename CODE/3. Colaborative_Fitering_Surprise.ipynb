{
 "cells": [
  {
   "cell_type": "code",
<<<<<<< HEAD
   "execution_count": 1,
=======
   "execution_count": 24,
>>>>>>> 2cb647c7b0dd179fbb536c81b29248fbbf7aa691
   "id": "f31aebd6-e028-48c5-9212-18353f6064ce",
   "metadata": {
    "executionInfo": {
     "elapsed": 974,
     "status": "ok",
     "timestamp": 1710404552630,
     "user": {
      "displayName": "Quốc Thái Phạm",
      "userId": "05056944187763502577"
     },
     "user_tz": -420
    },
    "id": "nX5-ZIKa0uXa"
   },
   "outputs": [],
   "source": [
    "import pandas as pd\n",
    "import numpy as np\n",
    "# from surprise import Reader, Dataset, SVD, SVDpp, NMF, SlopeOne, KNNBasic, KNNBaseline, KNNWithMeans, KNNWithZScore, CoClustering, BaselineOnly\n",
    "#from surprise import *\n",
    "from surprise.model_selection.validation import cross_validate\n",
    "\n",
<<<<<<< HEAD
    "from surprise import Dataset, Reader, KNNBasic, SVD\n",
    "from surprise.model_selection import train_test_split"
=======
    "from surprise import Dataset, Reader, KNNBasic, SVD, dump\n",
    "from surprise.model_selection import train_test_split\n",
    "import pickle"
   ]
  },
  {
   "cell_type": "markdown",
   "id": "f0ec28d0-130f-4074-82f8-5856dec67ac5",
   "metadata": {},
   "source": [
    "# Load Data"
>>>>>>> 2cb647c7b0dd179fbb536c81b29248fbbf7aa691
   ]
  },
  {
   "cell_type": "code",
<<<<<<< HEAD
   "execution_count": 2,
=======
   "execution_count": 47,
>>>>>>> 2cb647c7b0dd179fbb536c81b29248fbbf7aa691
   "id": "26e628b9-f899-464f-9cba-592d7b9531bb",
   "metadata": {
    "executionInfo": {
     "elapsed": 882,
     "status": "ok",
     "timestamp": 1710404553502,
     "user": {
      "displayName": "Quốc Thái Phạm",
      "userId": "05056944187763502577"
     },
     "user_tz": -420
    },
    "id": "B0iUAGgd0axD"
   },
   "outputs": [],
   "source": [
<<<<<<< HEAD
    "df = pd.read_csv(\"../DATA/clean_details.csv\")"
=======
    "df = pd.read_csv(\"../DATA/clean_details.csv\")\n",
    "df_prd = pd.read_csv(\"../DATA/clean_products.csv\").drop(columns='Unnamed: 0')"
>>>>>>> 2cb647c7b0dd179fbb536c81b29248fbbf7aa691
   ]
  },
  {
   "cell_type": "code",
   "execution_count": 3,
   "id": "12599412-9935-4422-bdf0-ce60589a6773",
   "metadata": {
    "colab": {
     "base_uri": "https://localhost:8080/"
    },
    "executionInfo": {
     "elapsed": 45,
     "status": "ok",
     "timestamp": 1710404553503,
     "user": {
      "displayName": "Quốc Thái Phạm",
      "userId": "05056944187763502577"
     },
     "user_tz": -420
    },
    "id": "9C4zj8S21RIs",
    "outputId": "90af2ee6-bf4c-495a-983f-f461583b6c47"
   },
   "outputs": [
    {
     "name": "stdout",
     "output_type": "stream",
     "text": [
      "<class 'pandas.core.frame.DataFrame'>\n",
      "RangeIndex: 486351 entries, 0 to 486350\n",
      "Data columns (total 3 columns):\n",
      " #   Column      Non-Null Count   Dtype\n",
      "---  ------      --------------   -----\n",
      " 0   product_id  486351 non-null  int64\n",
      " 1   user_id     486351 non-null  int64\n",
      " 2   rating      486351 non-null  int64\n",
      "dtypes: int64(3)\n",
      "memory usage: 11.1 MB\n"
     ]
    }
   ],
   "source": [
    "df.info()"
   ]
  },
  {
   "cell_type": "code",
   "execution_count": 4,
   "id": "a02f7915-2ca6-42f6-b8dd-db8fcb5cf21e",
   "metadata": {
    "executionInfo": {
     "elapsed": 37,
     "status": "ok",
     "timestamp": 1710404553503,
     "user": {
      "displayName": "Quốc Thái Phạm",
      "userId": "05056944187763502577"
     },
     "user_tz": -420
    },
    "id": "UUrpqXNzt9KN"
   },
   "outputs": [],
   "source": [
    "#df['product_id'] = df['product_id'].astype('int8')\n",
    "#df['user_id'] = df['user_id'].astype('int8')\n",
    "#df['rating'] = df['rating'].astype('float16')"
   ]
  },
  {
   "cell_type": "code",
<<<<<<< HEAD
   "execution_count": 4,
=======
   "execution_count": 5,
>>>>>>> 2cb647c7b0dd179fbb536c81b29248fbbf7aa691
   "id": "8d675287-8bfc-42dc-aa26-ea55c40a6ad2",
   "metadata": {
    "colab": {
     "base_uri": "https://localhost:8080/",
     "height": 206
    },
    "executionInfo": {
     "elapsed": 36,
     "status": "ok",
     "timestamp": 1710404553503,
     "user": {
      "displayName": "Quốc Thái Phạm",
      "userId": "05056944187763502577"
     },
     "user_tz": -420
    },
    "id": "eLsk07V51SUK",
    "outputId": "fc347eea-49ee-47a0-f261-271556ce700c"
   },
   "outputs": [
    {
     "data": {
      "text/html": [
       "<div>\n",
       "<style scoped>\n",
       "    .dataframe tbody tr th:only-of-type {\n",
       "        vertical-align: middle;\n",
       "    }\n",
       "\n",
       "    .dataframe tbody tr th {\n",
       "        vertical-align: top;\n",
       "    }\n",
       "\n",
       "    .dataframe thead th {\n",
       "        text-align: right;\n",
       "    }\n",
       "</style>\n",
       "<table border=\"1\" class=\"dataframe\">\n",
       "  <thead>\n",
       "    <tr style=\"text-align: right;\">\n",
       "      <th></th>\n",
       "      <th>product_id</th>\n",
       "      <th>user_id</th>\n",
       "      <th>rating</th>\n",
       "    </tr>\n",
       "  </thead>\n",
       "  <tbody>\n",
       "    <tr>\n",
       "      <th>0</th>\n",
       "      <td>190</td>\n",
       "      <td>2</td>\n",
       "      <td>5</td>\n",
       "    </tr>\n",
       "    <tr>\n",
       "      <th>1</th>\n",
       "      <td>190</td>\n",
       "      <td>5</td>\n",
       "      <td>5</td>\n",
       "    </tr>\n",
       "    <tr>\n",
       "      <th>2</th>\n",
       "      <td>190</td>\n",
       "      <td>6</td>\n",
       "      <td>5</td>\n",
       "    </tr>\n",
       "    <tr>\n",
       "      <th>3</th>\n",
       "      <td>190</td>\n",
       "      <td>8</td>\n",
       "      <td>5</td>\n",
       "    </tr>\n",
       "    <tr>\n",
       "      <th>4</th>\n",
       "      <td>190</td>\n",
       "      <td>9</td>\n",
       "      <td>5</td>\n",
       "    </tr>\n",
       "  </tbody>\n",
       "</table>\n",
       "</div>"
      ],
      "text/plain": [
       "   product_id  user_id  rating\n",
       "0         190        2       5\n",
       "1         190        5       5\n",
       "2         190        6       5\n",
       "3         190        8       5\n",
       "4         190        9       5"
      ]
     },
<<<<<<< HEAD
     "execution_count": 4,
     "metadata": {},
     "output_type": "execute_result"
    }
   ],
   "source": [
    "df.head()"
   ]
  },
  {
   "cell_type": "code",
   "execution_count": 5,
   "id": "99c568d6-92e4-4a0a-8e0c-54be0846ce1c",
   "metadata": {},
   "outputs": [
    {
     "data": {
      "text/html": [
       "<div>\n",
       "<style scoped>\n",
       "    .dataframe tbody tr th:only-of-type {\n",
       "        vertical-align: middle;\n",
       "    }\n",
       "\n",
       "    .dataframe tbody tr th {\n",
       "        vertical-align: top;\n",
       "    }\n",
       "\n",
       "    .dataframe thead th {\n",
       "        text-align: right;\n",
       "    }\n",
       "</style>\n",
       "<table border=\"1\" class=\"dataframe\">\n",
       "  <thead>\n",
       "    <tr style=\"text-align: right;\">\n",
       "      <th></th>\n",
       "      <th>product_id</th>\n",
       "      <th>user_id</th>\n",
       "      <th>rating</th>\n",
       "    </tr>\n",
       "  </thead>\n",
       "  <tbody>\n",
       "    <tr>\n",
       "      <th>count</th>\n",
       "      <td>486351.000000</td>\n",
       "      <td>486351.000000</td>\n",
       "      <td>486351.000000</td>\n",
       "    </tr>\n",
       "    <tr>\n",
       "      <th>mean</th>\n",
       "      <td>62408.151668</td>\n",
       "      <td>143226.680073</td>\n",
       "      <td>4.567095</td>\n",
       "    </tr>\n",
       "    <tr>\n",
       "      <th>std</th>\n",
       "      <td>83086.216321</td>\n",
       "      <td>173845.983819</td>\n",
       "      <td>0.974977</td>\n",
       "    </tr>\n",
       "    <tr>\n",
       "      <th>min</th>\n",
       "      <td>100.000000</td>\n",
       "      <td>2.000000</td>\n",
       "      <td>1.000000</td>\n",
       "    </tr>\n",
       "    <tr>\n",
       "      <th>25%</th>\n",
       "      <td>13455.000000</td>\n",
       "      <td>1305.000000</td>\n",
       "      <td>5.000000</td>\n",
       "    </tr>\n",
       "    <tr>\n",
       "      <th>50%</th>\n",
       "      <td>18938.000000</td>\n",
       "      <td>57304.000000</td>\n",
       "      <td>5.000000</td>\n",
       "    </tr>\n",
       "    <tr>\n",
       "      <th>75%</th>\n",
       "      <td>131012.000000</td>\n",
       "      <td>245489.000000</td>\n",
       "      <td>5.000000</td>\n",
       "    </tr>\n",
       "    <tr>\n",
       "      <th>max</th>\n",
       "      <td>261469.000000</td>\n",
       "      <td>650003.000000</td>\n",
       "      <td>5.000000</td>\n",
       "    </tr>\n",
       "  </tbody>\n",
       "</table>\n",
       "</div>"
      ],
      "text/plain": [
       "          product_id        user_id         rating\n",
       "count  486351.000000  486351.000000  486351.000000\n",
       "mean    62408.151668  143226.680073       4.567095\n",
       "std     83086.216321  173845.983819       0.974977\n",
       "min       100.000000       2.000000       1.000000\n",
       "25%     13455.000000    1305.000000       5.000000\n",
       "50%     18938.000000   57304.000000       5.000000\n",
       "75%    131012.000000  245489.000000       5.000000\n",
       "max    261469.000000  650003.000000       5.000000"
      ]
     },
=======
>>>>>>> 2cb647c7b0dd179fbb536c81b29248fbbf7aa691
     "execution_count": 5,
     "metadata": {},
     "output_type": "execute_result"
    }
   ],
   "source": [
<<<<<<< HEAD
    "df.groupby().describe()"
=======
    "df.head()"
>>>>>>> 2cb647c7b0dd179fbb536c81b29248fbbf7aa691
   ]
  },
  {
   "cell_type": "code",
   "execution_count": 6,
   "id": "5510bc61-78ad-4622-b764-750e7322e2e0",
   "metadata": {
    "executionInfo": {
     "elapsed": 33,
     "status": "ok",
     "timestamp": 1710404553504,
     "user": {
      "displayName": "Quốc Thái Phạm",
      "userId": "05056944187763502577"
     },
     "user_tz": -420
    },
    "id": "5ewunQXg7m3P"
   },
   "outputs": [],
   "source": [
    "n_ratings = len(df)\n",
    "n_movies = len(df['product_id'].unique())\n",
    "n_users = len(df['user_id'].unique())"
   ]
  },
  {
   "cell_type": "code",
   "execution_count": 7,
   "id": "5d224c60-4c80-417c-804b-161b7e33bbbf",
   "metadata": {
    "colab": {
     "base_uri": "https://localhost:8080/",
     "height": 69
    },
    "executionInfo": {
     "elapsed": 32,
     "status": "ok",
     "timestamp": 1710404553504,
     "user": {
      "displayName": "Quốc Thái Phạm",
      "userId": "05056944187763502577"
     },
     "user_tz": -420
    },
    "id": "sx71m3kK7sPi",
    "outputId": "7939365b-d7c6-4eff-c724-5d475833dda8"
   },
   "outputs": [
    {
     "data": {
      "text/plain": [
<<<<<<< HEAD
       "1024482"
=======
       "486351"
>>>>>>> 2cb647c7b0dd179fbb536c81b29248fbbf7aa691
      ]
     },
     "metadata": {},
     "output_type": "display_data"
    },
    {
     "data": {
      "text/plain": [
<<<<<<< HEAD
       "31267"
=======
       "27730"
>>>>>>> 2cb647c7b0dd179fbb536c81b29248fbbf7aa691
      ]
     },
     "metadata": {},
     "output_type": "display_data"
    },
    {
     "data": {
      "text/plain": [
<<<<<<< HEAD
       "650636"
=======
       "113516"
>>>>>>> 2cb647c7b0dd179fbb536c81b29248fbbf7aa691
      ]
     },
     "metadata": {},
     "output_type": "display_data"
    }
   ],
   "source": [
    "display(n_ratings, n_movies, n_users)"
   ]
  },
  {
   "cell_type": "code",
   "execution_count": 8,
   "id": "b033f7a1-7a66-4d00-8025-deda9fd50a61",
   "metadata": {},
   "outputs": [
    {
     "data": {
      "text/plain": [
       "user_id\n",
<<<<<<< HEAD
       "199       19615\n",
       "159        2585\n",
       "831        2541\n",
       "324        2415\n",
       "860        2088\n",
       "          ...  \n",
       "252672        1\n",
       "252671        1\n",
       "252670        1\n",
       "252669        1\n",
       "650636        1\n",
       "Name: count, Length: 650636, dtype: int64"
=======
       "199       19549\n",
       "159        2581\n",
       "831        2533\n",
       "324        2412\n",
       "860        2080\n",
       "          ...  \n",
       "207441        1\n",
       "224495        1\n",
       "151770        1\n",
       "49381         1\n",
       "426265        1\n",
       "Name: count, Length: 113516, dtype: int64"
>>>>>>> 2cb647c7b0dd179fbb536c81b29248fbbf7aa691
      ]
     },
     "execution_count": 8,
     "metadata": {},
     "output_type": "execute_result"
    }
   ],
   "source": [
    "df['user_id'].value_counts()"
   ]
  },
  {
   "cell_type": "code",
   "execution_count": 9,
   "id": "0447792b-7586-4613-a2c8-3704d5c7a1bb",
   "metadata": {
    "colab": {
     "base_uri": "https://localhost:8080/"
    },
    "executionInfo": {
     "elapsed": 30,
     "status": "ok",
     "timestamp": 1710404553505,
     "user": {
      "displayName": "Quốc Thái Phạm",
      "userId": "05056944187763502577"
     },
     "user_tz": -420
    },
    "id": "Z794igWN1UFC",
    "outputId": "00b4e1d5-40fd-4f63-bc6b-bea26a4807a9"
   },
   "outputs": [
    {
     "data": {
      "text/plain": [
       "product_id\n",
<<<<<<< HEAD
       "1731      412\n",
       "177       395\n",
       "231       391\n",
       "17194     389\n",
       "2359      387\n",
       "         ... \n",
       "121331      1\n",
       "121330      1\n",
       "121328      1\n",
       "121326      1\n",
       "26899       1\n",
       "Name: count, Length: 31267, dtype: int64"
=======
       "2114      270\n",
       "21123     270\n",
       "21132     270\n",
       "21122     270\n",
       "212       270\n",
       "         ... \n",
       "112299      1\n",
       "112297      1\n",
       "112295      1\n",
       "112294      1\n",
       "26819       1\n",
       "Name: count, Length: 27730, dtype: int64"
>>>>>>> 2cb647c7b0dd179fbb536c81b29248fbbf7aa691
      ]
     },
     "execution_count": 9,
     "metadata": {},
     "output_type": "execute_result"
    }
   ],
   "source": [
    "df['product_id'].value_counts()"
   ]
  },
  {
<<<<<<< HEAD
=======
   "cell_type": "markdown",
   "id": "1186a800-2d97-49b5-9353-da41eab4210e",
   "metadata": {},
   "source": [
    "# Build Model and Evaluation"
   ]
  },
  {
>>>>>>> 2cb647c7b0dd179fbb536c81b29248fbbf7aa691
   "cell_type": "code",
   "execution_count": 10,
   "id": "32f8814d-9e67-407d-b4a1-02bb5d9ba74e",
   "metadata": {
    "executionInfo": {
     "elapsed": 838,
     "status": "ok",
     "timestamp": 1710404554319,
     "user": {
      "displayName": "Quốc Thái Phạm",
      "userId": "05056944187763502577"
     },
     "user_tz": -420
    },
    "id": "K3luERvf2cGK"
   },
   "outputs": [],
   "source": [
    "# https://surprise.readthedocs.io/en/stable/reader.html\n",
    "reader = Reader()\n",
    "data = Dataset.load_from_df(df[['user_id', 'product_id', 'rating']], reader)"
   ]
  },
  {
   "cell_type": "code",
   "execution_count": 11,
<<<<<<< HEAD
   "id": "53f89e29-af95-4c48-ad53-e1299165af62",
   "metadata": {
    "colab": {
     "base_uri": "https://localhost:8080/"
    },
    "executionInfo": {
     "elapsed": 27518,
     "status": "ok",
     "timestamp": 1710404730633,
     "user": {
      "displayName": "Quốc Thái Phạm",
      "userId": "05056944187763502577"
     },
     "user_tz": -420
    },
    "id": "NQ6h7lLL9avn",
    "outputId": "9967bef8-8ddc-439c-ddb9-1c7b4650fe93"
   },
   "outputs": [
    {
     "name": "stdout",
     "output_type": "stream",
     "text": [
      "Item ID: 128 Estimated rating: 5\n",
      "Item ID: 268 Estimated rating: 5\n",
      "Item ID: 1017 Estimated rating: 5\n",
      "Item ID: 1029 Estimated rating: 5\n",
      "Item ID: 1092 Estimated rating: 5\n",
      "Item ID: 1230 Estimated rating: 5\n",
      "Item ID: 1287 Estimated rating: 5\n",
      "Item ID: 1342 Estimated rating: 5\n",
      "Item ID: 1614 Estimated rating: 5\n",
      "Item ID: 1635 Estimated rating: 5\n"
     ]
    }
   ],
   "source": [
    "# Define similarity measure\n",
    "sim_options = {'name': 'cosine', 'user_based': True}\n",
    "\n",
    "# Split dataset into train and test sets\n",
    "trainset, testset = train_test_split(data, test_size=0.2)\n",
    "\n",
    "# Build and train model\n",
    "#model = KNNBasic(sim_options=sim_options)\n",
    "model = SVD()\n",
    "model.fit(trainset)\n",
    "\n",
    "# Make recommendations for a specific user (replace 'user_id' with the desired user ID)\n",
    "user_id = 199\n",
    "# Get items the user hasn't rated yet\n",
    "items_to_predict = [item_id for item_id in data.build_full_trainset().all_items() if item_id not in trainset.ur[trainset.to_inner_uid(user_id)]]\n",
    "# Predict ratings for the items\n",
    "predictions = [model.predict(user_id, item_id) for item_id in items_to_predict]\n",
    "# Sort predictions by estimated rating\n",
    "top_n = sorted(predictions, key=lambda x: x.est, reverse=True)[:10]\n",
    "\n",
    "# Print top recommendations\n",
    "for prediction in top_n:\n",
    "    print('Item ID:', prediction.iid, 'Estimated rating:', prediction.est)\n"
   ]
  },
  {
   "cell_type": "code",
   "execution_count": 12,
=======
>>>>>>> 2cb647c7b0dd179fbb536c81b29248fbbf7aa691
   "id": "86a1ac88-ceac-44e4-997b-1a63b4be4d73",
   "metadata": {
    "colab": {
     "base_uri": "https://localhost:8080/"
    },
    "executionInfo": {
     "elapsed": 119539,
     "status": "ok",
     "timestamp": 1710404882588,
     "user": {
      "displayName": "Quốc Thái Phạm",
      "userId": "05056944187763502577"
     },
     "user_tz": -420
    },
    "id": "Y99JaeRn25JD",
    "outputId": "6dfd0055-00bb-4539-f6fb-bb73f7b75159"
   },
   "outputs": [
    {
     "name": "stdout",
     "output_type": "stream",
     "text": [
<<<<<<< HEAD
      "Evaluating RMSE, MAE of algorithm SVD on 5 split(s).\n",
      "\n",
      "                  Fold 1  Fold 2  Fold 3  Fold 4  Fold 5  Mean    Std     \n",
      "RMSE (testset)    0.8846  0.8768  0.8789  0.8806  0.8785  0.8798  0.0027  \n",
      "MAE (testset)     0.5606  0.5566  0.5573  0.5584  0.5572  0.5580  0.0014  \n",
      "Fit time          8.70    8.55    8.94    8.59    8.79    8.71    0.14    \n",
      "Test time         1.03    0.56    1.03    1.00    1.01    0.93    0.18    \n"
=======
      "Evaluating RMSE, MAE of algorithm SVD on 10 split(s).\n",
      "\n",
      "                  Fold 1  Fold 2  Fold 3  Fold 4  Fold 5  Fold 6  Fold 7  Fold 8  Fold 9  Fold 10 Mean    Std     \n",
      "RMSE (testset)    0.8657  0.8661  0.8543  0.8667  0.8595  0.8672  0.8773  0.8608  0.8666  0.8654  0.8650  0.0057  \n",
      "MAE (testset)     0.5434  0.5459  0.5386  0.5456  0.5422  0.5452  0.5506  0.5395  0.5453  0.5445  0.5441  0.0033  \n",
      "Fit time          6.23    6.35    6.68    6.69    6.76    6.65    6.54    6.54    6.62    6.49    6.56    0.16    \n",
      "Test time         0.55    0.51    0.35    0.51    0.54    0.54    0.50    0.34    0.34    0.51    0.47    0.08    \n"
>>>>>>> 2cb647c7b0dd179fbb536c81b29248fbbf7aa691
     ]
    }
   ],
   "source": [
    "# https://www.youtube.com/watch?v=8wLKuscyO9I\n",
    "# Singular value decomposition\n",
    "algorithm = SVD()\n",
    "#algorithm = KNNBasic()\n",
    "#Run 5-fold cross-validation and print results\n",
<<<<<<< HEAD
    "results = cross_validate(algorithm, data, measures=['RMSE', 'MAE'], cv=5, verbose=True)"
=======
    "results = cross_validate(algorithm, data, measures=['RMSE', 'MAE'], cv=10, verbose=True)"
>>>>>>> 2cb647c7b0dd179fbb536c81b29248fbbf7aa691
   ]
  },
  {
   "cell_type": "code",
<<<<<<< HEAD
   "execution_count": 13,
=======
   "execution_count": 12,
>>>>>>> 2cb647c7b0dd179fbb536c81b29248fbbf7aa691
   "id": "e77b1689-ba9c-4499-aecd-97ec44a893fd",
   "metadata": {
    "colab": {
     "base_uri": "https://localhost:8080/"
    },
    "executionInfo": {
     "elapsed": 36,
     "status": "ok",
     "timestamp": 1710404882591,
     "user": {
      "displayName": "Quốc Thái Phạm",
      "userId": "05056944187763502577"
     },
     "user_tz": -420
    },
    "id": "SA_bW3qlClpx",
    "outputId": "aeb154fd-ac68-49eb-8f67-8eb390852767"
   },
   "outputs": [
    {
     "data": {
<<<<<<< HEAD
      "text/plain": [
       "{'test_rmse': array([0.88457469, 0.87675962, 0.87885906, 0.88058919, 0.87846046]),\n",
       " 'test_mae': array([0.56060421, 0.55655786, 0.55727482, 0.55844335, 0.5572296 ]),\n",
       " 'fit_time': (8.70039701461792,\n",
       "  8.548640727996826,\n",
       "  8.93690824508667,\n",
       "  8.590626001358032,\n",
       "  8.786329507827759),\n",
       " 'test_time': (1.0321078300476074,\n",
       "  0.564140796661377,\n",
       "  1.0273747444152832,\n",
       "  1.0025465488433838,\n",
       "  1.0110280513763428)}"
      ]
     },
     "execution_count": 13,
=======
      "text/html": [
       "<div>\n",
       "<style scoped>\n",
       "    .dataframe tbody tr th:only-of-type {\n",
       "        vertical-align: middle;\n",
       "    }\n",
       "\n",
       "    .dataframe tbody tr th {\n",
       "        vertical-align: top;\n",
       "    }\n",
       "\n",
       "    .dataframe thead th {\n",
       "        text-align: right;\n",
       "    }\n",
       "</style>\n",
       "<table border=\"1\" class=\"dataframe\">\n",
       "  <thead>\n",
       "    <tr style=\"text-align: right;\">\n",
       "      <th></th>\n",
       "      <th>fold_times</th>\n",
       "      <th>test_rmse</th>\n",
       "      <th>test_mae</th>\n",
       "      <th>fit_time</th>\n",
       "      <th>test_time</th>\n",
       "    </tr>\n",
       "  </thead>\n",
       "  <tbody>\n",
       "    <tr>\n",
       "      <th>0</th>\n",
       "      <td>1</td>\n",
       "      <td>0.865701</td>\n",
       "      <td>0.543421</td>\n",
       "      <td>6.228877</td>\n",
       "      <td>0.546711</td>\n",
       "    </tr>\n",
       "    <tr>\n",
       "      <th>1</th>\n",
       "      <td>2</td>\n",
       "      <td>0.866071</td>\n",
       "      <td>0.545918</td>\n",
       "      <td>6.345538</td>\n",
       "      <td>0.513987</td>\n",
       "    </tr>\n",
       "    <tr>\n",
       "      <th>2</th>\n",
       "      <td>3</td>\n",
       "      <td>0.854315</td>\n",
       "      <td>0.538556</td>\n",
       "      <td>6.684258</td>\n",
       "      <td>0.349781</td>\n",
       "    </tr>\n",
       "    <tr>\n",
       "      <th>3</th>\n",
       "      <td>4</td>\n",
       "      <td>0.866678</td>\n",
       "      <td>0.545628</td>\n",
       "      <td>6.689959</td>\n",
       "      <td>0.509532</td>\n",
       "    </tr>\n",
       "    <tr>\n",
       "      <th>4</th>\n",
       "      <td>5</td>\n",
       "      <td>0.859541</td>\n",
       "      <td>0.542220</td>\n",
       "      <td>6.757740</td>\n",
       "      <td>0.544884</td>\n",
       "    </tr>\n",
       "    <tr>\n",
       "      <th>5</th>\n",
       "      <td>6</td>\n",
       "      <td>0.867183</td>\n",
       "      <td>0.545170</td>\n",
       "      <td>6.653796</td>\n",
       "      <td>0.536163</td>\n",
       "    </tr>\n",
       "    <tr>\n",
       "      <th>6</th>\n",
       "      <td>7</td>\n",
       "      <td>0.877342</td>\n",
       "      <td>0.550608</td>\n",
       "      <td>6.544965</td>\n",
       "      <td>0.501960</td>\n",
       "    </tr>\n",
       "    <tr>\n",
       "      <th>7</th>\n",
       "      <td>8</td>\n",
       "      <td>0.860814</td>\n",
       "      <td>0.539495</td>\n",
       "      <td>6.539474</td>\n",
       "      <td>0.338623</td>\n",
       "    </tr>\n",
       "    <tr>\n",
       "      <th>8</th>\n",
       "      <td>9</td>\n",
       "      <td>0.866564</td>\n",
       "      <td>0.545279</td>\n",
       "      <td>6.617720</td>\n",
       "      <td>0.344224</td>\n",
       "    </tr>\n",
       "    <tr>\n",
       "      <th>9</th>\n",
       "      <td>10</td>\n",
       "      <td>0.865449</td>\n",
       "      <td>0.544501</td>\n",
       "      <td>6.491946</td>\n",
       "      <td>0.512496</td>\n",
       "    </tr>\n",
       "  </tbody>\n",
       "</table>\n",
       "</div>"
      ],
      "text/plain": [
       "   fold_times  test_rmse  test_mae  fit_time  test_time\n",
       "0           1   0.865701  0.543421  6.228877   0.546711\n",
       "1           2   0.866071  0.545918  6.345538   0.513987\n",
       "2           3   0.854315  0.538556  6.684258   0.349781\n",
       "3           4   0.866678  0.545628  6.689959   0.509532\n",
       "4           5   0.859541  0.542220  6.757740   0.544884\n",
       "5           6   0.867183  0.545170  6.653796   0.536163\n",
       "6           7   0.877342  0.550608  6.544965   0.501960\n",
       "7           8   0.860814  0.539495  6.539474   0.338623\n",
       "8           9   0.866564  0.545279  6.617720   0.344224\n",
       "9          10   0.865449  0.544501  6.491946   0.512496"
      ]
     },
     "execution_count": 12,
>>>>>>> 2cb647c7b0dd179fbb536c81b29248fbbf7aa691
     "metadata": {},
     "output_type": "execute_result"
    }
   ],
   "source": [
<<<<<<< HEAD
    "results"
=======
    "res_df = pd.DataFrame(data=results).reset_index().rename(columns={'index':'fold_times'})\n",
    "res_df['fold_times'] = res_df['fold_times'] + 1\n",
    "res_df"
   ]
  },
  {
   "cell_type": "markdown",
   "id": "da4dbe7f-a624-45fa-8ab7-cb7f9a1c5516",
   "metadata": {},
   "source": [
    "## If the results are OK => getting full dataset => fit model"
>>>>>>> 2cb647c7b0dd179fbb536c81b29248fbbf7aa691
   ]
  },
  {
   "cell_type": "code",
<<<<<<< HEAD
   "execution_count": 14,
=======
   "execution_count": 13,
>>>>>>> 2cb647c7b0dd179fbb536c81b29248fbbf7aa691
   "id": "ec941c99-c3e0-4f3e-b0d0-6033c25b8a37",
   "metadata": {
    "colab": {
     "base_uri": "https://localhost:8080/"
    },
    "executionInfo": {
     "elapsed": 19522,
     "status": "ok",
     "timestamp": 1710405710564,
     "user": {
      "displayName": "Quốc Thái Phạm",
      "userId": "05056944187763502577"
     },
     "user_tz": -420
    },
    "id": "Vwo4tKxK31zN",
    "outputId": "fc0dfa2b-a9ff-4254-f130-f641a4f59901"
   },
   "outputs": [
    {
     "data": {
      "text/plain": [
<<<<<<< HEAD
       "<surprise.prediction_algorithms.matrix_factorization.SVD at 0x20d423c8a90>"
      ]
     },
     "execution_count": 14,
=======
       "<surprise.prediction_algorithms.matrix_factorization.SVD at 0x2999aae1c70>"
      ]
     },
     "execution_count": 13,
>>>>>>> 2cb647c7b0dd179fbb536c81b29248fbbf7aa691
     "metadata": {},
     "output_type": "execute_result"
    }
   ],
   "source": [
<<<<<<< HEAD
    "# If the results are OK => getting full dataset => fit model\n",
=======
>>>>>>> 2cb647c7b0dd179fbb536c81b29248fbbf7aa691
    "trainset = data.build_full_trainset()\n",
    "algorithm.fit(trainset)"
   ]
  },
  {
<<<<<<< HEAD
=======
   "cell_type": "code",
   "execution_count": 27,
   "id": "9e46ec76-1188-4d34-8a32-2d2efd2b0814",
   "metadata": {},
   "outputs": [
    {
     "data": {
      "text/plain": [
       "surprise.prediction_algorithms.matrix_factorization.SVD"
      ]
     },
     "execution_count": 27,
     "metadata": {},
     "output_type": "execute_result"
    }
   ],
   "source": [
    "type(algorithm)"
   ]
  },
  {
   "cell_type": "markdown",
   "id": "83c3051e-50ce-40ec-95f7-81e2a0ccd2c8",
   "metadata": {},
   "source": [
    "# Save Model"
   ]
  },
  {
   "cell_type": "code",
   "execution_count": 26,
   "id": "f2f033da-5132-485d-ac8f-dd780c4d5b5a",
   "metadata": {},
   "outputs": [],
   "source": [
    "model_path = '../DATA/Surprise/col_fitering_surprise.pkl'\n",
    "#dump.dump(model_path, algo=algorithm)\n",
    "pickle.dump(algorithm, open(model_path, 'wb'))"
   ]
  },
  {
>>>>>>> 2cb647c7b0dd179fbb536c81b29248fbbf7aa691
   "cell_type": "markdown",
   "id": "5ac97f65-01a2-47a0-b926-7a76134bd739",
   "metadata": {
    "id": "vidXLyjZEnue"
   },
   "source": [
<<<<<<< HEAD
    "### Recommender for a specific user"
=======
    "# Recommender for a specific user"
   ]
  },
  {
   "cell_type": "markdown",
   "id": "56b0679b-1a0e-4094-ba7c-dd83fe530a48",
   "metadata": {},
   "source": [
    "## Load model:"
>>>>>>> 2cb647c7b0dd179fbb536c81b29248fbbf7aa691
   ]
  },
  {
   "cell_type": "code",
<<<<<<< HEAD
   "execution_count": 15,
=======
   "execution_count": 28,
   "id": "a190f13c-b46e-46a2-977d-b3d907289ddc",
   "metadata": {},
   "outputs": [],
   "source": [
    "model_path = '../DATA/Surprise/col_fitering_surprise.pkl'\n",
    "# Load the model from disk\n",
    "loaded_model = pickle.load(open(model_path, 'rb'))"
   ]
  },
  {
   "cell_type": "markdown",
   "id": "eded49f3-40bf-4e4e-990c-74e2f4b81d31",
   "metadata": {},
   "source": [
    "## Get some random users:"
   ]
  },
  {
   "cell_type": "code",
   "execution_count": 35,
   "id": "0a01360d-5543-409b-9f57-1250cff22213",
   "metadata": {},
   "outputs": [
    {
     "data": {
      "text/html": [
       "<div>\n",
       "<style scoped>\n",
       "    .dataframe tbody tr th:only-of-type {\n",
       "        vertical-align: middle;\n",
       "    }\n",
       "\n",
       "    .dataframe tbody tr th {\n",
       "        vertical-align: top;\n",
       "    }\n",
       "\n",
       "    .dataframe thead th {\n",
       "        text-align: right;\n",
       "    }\n",
       "</style>\n",
       "<table border=\"1\" class=\"dataframe\">\n",
       "  <thead>\n",
       "    <tr style=\"text-align: right;\">\n",
       "      <th></th>\n",
       "      <th>user_id</th>\n",
       "    </tr>\n",
       "  </thead>\n",
       "  <tbody>\n",
       "    <tr>\n",
       "      <th>6518</th>\n",
       "      <td>19617</td>\n",
       "    </tr>\n",
       "    <tr>\n",
       "      <th>108679</th>\n",
       "      <td>576675</td>\n",
       "    </tr>\n",
       "    <tr>\n",
       "      <th>75050</th>\n",
       "      <td>315134</td>\n",
       "    </tr>\n",
       "    <tr>\n",
       "      <th>95405</th>\n",
       "      <td>452495</td>\n",
       "    </tr>\n",
       "    <tr>\n",
       "      <th>43846</th>\n",
       "      <td>171918</td>\n",
       "    </tr>\n",
       "  </tbody>\n",
       "</table>\n",
       "</div>"
      ],
      "text/plain": [
       "        user_id\n",
       "6518      19617\n",
       "108679   576675\n",
       "75050    315134\n",
       "95405    452495\n",
       "43846    171918"
      ]
     },
     "execution_count": 35,
     "metadata": {},
     "output_type": "execute_result"
    }
   ],
   "source": [
    "df_user = df[[\"user_id\"]].drop_duplicates(subset='user_id').reset_index(drop=True)\n",
    "df_user.sample(5)"
   ]
  },
  {
   "cell_type": "code",
   "execution_count": 54,
>>>>>>> 2cb647c7b0dd179fbb536c81b29248fbbf7aa691
   "id": "d8c0fff8-4a5b-43a7-bcc6-6d725bedf20a",
   "metadata": {
    "colab": {
     "base_uri": "https://localhost:8080/",
     "height": 112
    },
    "executionInfo": {
     "elapsed": 51,
     "status": "ok",
     "timestamp": 1710405710565,
     "user": {
      "displayName": "Quốc Thái Phạm",
      "userId": "05056944187763502577"
     },
     "user_tz": -420
    },
    "id": "QglUdX3m2-Dr",
    "outputId": "21fa250d-1b34-40a5-9bb0-2a3a4956f136"
   },
   "outputs": [
    {
     "data": {
      "text/html": [
       "<div>\n",
       "<style scoped>\n",
       "    .dataframe tbody tr th:only-of-type {\n",
       "        vertical-align: middle;\n",
       "    }\n",
       "\n",
       "    .dataframe tbody tr th {\n",
       "        vertical-align: top;\n",
       "    }\n",
       "\n",
       "    .dataframe thead th {\n",
       "        text-align: right;\n",
       "    }\n",
       "</style>\n",
       "<table border=\"1\" class=\"dataframe\">\n",
       "  <thead>\n",
       "    <tr style=\"text-align: right;\">\n",
       "      <th></th>\n",
       "      <th>user_id</th>\n",
       "      <th>rating</th>\n",
       "    </tr>\n",
       "    <tr>\n",
       "      <th>product_id</th>\n",
       "      <th></th>\n",
       "      <th></th>\n",
       "    </tr>\n",
       "  </thead>\n",
       "  <tbody>\n",
<<<<<<< HEAD
       "    <tr>\n",
       "      <th>190</th>\n",
       "      <td>27</td>\n",
       "      <td>5</td>\n",
       "    </tr>\n",
=======
>>>>>>> 2cb647c7b0dd179fbb536c81b29248fbbf7aa691
       "  </tbody>\n",
       "</table>\n",
       "</div>"
      ],
      "text/plain": [
<<<<<<< HEAD
       "            user_id  rating\n",
       "product_id                 \n",
       "190              27       5"
      ]
     },
     "execution_count": 15,
=======
       "Empty DataFrame\n",
       "Columns: [user_id, rating]\n",
       "Index: []"
      ]
     },
     "execution_count": 54,
>>>>>>> 2cb647c7b0dd179fbb536c81b29248fbbf7aa691
     "metadata": {},
     "output_type": "execute_result"
    }
   ],
   "source": [
<<<<<<< HEAD
    "# userId = 27 has seen some movies:\n",
    "userId = 27\n",
    "df_select = df[(df['user_id'] == userId) & (df['rating'] >=3)]\n",
=======
    "# Try test with userID 3152\n",
    "userId = 1\n",
    "df_select = df[(df['user_id'] == userId)] # & (df['rating'] >=3)\n",
>>>>>>> 2cb647c7b0dd179fbb536c81b29248fbbf7aa691
    "df_select = df_select.set_index('product_id')\n",
    "#df_select = df_select.join(df_title)['Name']\n",
    "df_select.head(df_select.shape[0])"
   ]
  },
  {
<<<<<<< HEAD
   "cell_type": "code",
   "execution_count": 16,
   "id": "1f568e92-8ff6-416f-968c-c30e9a6aaaf8",
   "metadata": {
    "colab": {
     "base_uri": "https://localhost:8080/"
    },
    "executionInfo": {
     "elapsed": 46,
     "status": "ok",
     "timestamp": 1710405710566,
     "user": {
      "displayName": "Quốc Thái Phạm",
      "userId": "05056944187763502577"
     },
     "user_tz": -420
    },
    "id": "G80-AoFV3Xbt",
    "outputId": "a6eca2c1-5eb6-44d3-ce4b-62045fccbec3"
   },
   "outputs": [
    {
     "data": {
      "text/plain": [
       "(1, 2)"
      ]
     },
     "execution_count": 16,
     "metadata": {},
     "output_type": "execute_result"
    }
   ],
   "source": [
    "df_select.shape"
=======
   "cell_type": "markdown",
   "id": "e3bfdc5c-7cbf-4fc7-8aed-cd9266c27a8e",
   "metadata": {},
   "source": [
    "## Get top 10 product"
>>>>>>> 2cb647c7b0dd179fbb536c81b29248fbbf7aa691
   ]
  },
  {
   "cell_type": "code",
<<<<<<< HEAD
   "execution_count": 17,
=======
   "execution_count": 55,
>>>>>>> 2cb647c7b0dd179fbb536c81b29248fbbf7aa691
   "id": "7a282460-db6f-47c2-9ae1-5e9e9fc78807",
   "metadata": {
    "executionInfo": {
     "elapsed": 40,
     "status": "ok",
     "timestamp": 1710405710568,
     "user": {
      "displayName": "Quốc Thái Phạm",
      "userId": "05056944187763502577"
     },
     "user_tz": -420
    },
    "id": "JiCTGcoP36Lp"
   },
   "outputs": [],
   "source": [
<<<<<<< HEAD
    "df_score = df[[\"product_id\"]]"
=======
    "df_score = df_prd[[\"product_id\"]].drop_duplicates(subset='product_id').reset_index(drop=True)\n",
    "df_score['EstimateScore'] = df_score['product_id'].apply(lambda x: loaded_model.predict(userId, x).est) # est: get EstimateScore\n",
    "df_score = df_score.sort_values(by=['EstimateScore'], ascending=False)"
>>>>>>> 2cb647c7b0dd179fbb536c81b29248fbbf7aa691
   ]
  },
  {
   "cell_type": "code",
<<<<<<< HEAD
   "execution_count": 18,
=======
   "execution_count": 56,
>>>>>>> 2cb647c7b0dd179fbb536c81b29248fbbf7aa691
   "id": "f1e915f8-2dea-47c3-883f-5b4925dff2d8",
   "metadata": {
    "colab": {
     "base_uri": "https://localhost:8080/",
     "height": 424
    },
    "executionInfo": {
     "elapsed": 42,
     "status": "ok",
     "timestamp": 1710405710570,
     "user": {
      "displayName": "Quốc Thái Phạm",
      "userId": "05056944187763502577"
     },
     "user_tz": -420
    },
    "id": "8E2z4NUB4Qti",
    "outputId": "96fd830c-4934-4c63-dbf9-2a4f3a746c60"
   },
   "outputs": [
    {
     "data": {
      "text/html": [
       "<div>\n",
       "<style scoped>\n",
       "    .dataframe tbody tr th:only-of-type {\n",
       "        vertical-align: middle;\n",
       "    }\n",
       "\n",
       "    .dataframe tbody tr th {\n",
       "        vertical-align: top;\n",
       "    }\n",
       "\n",
       "    .dataframe thead th {\n",
       "        text-align: right;\n",
       "    }\n",
       "</style>\n",
       "<table border=\"1\" class=\"dataframe\">\n",
       "  <thead>\n",
       "    <tr style=\"text-align: right;\">\n",
       "      <th></th>\n",
       "      <th>product_id</th>\n",
<<<<<<< HEAD
=======
       "      <th>EstimateScore</th>\n",
>>>>>>> 2cb647c7b0dd179fbb536c81b29248fbbf7aa691
       "    </tr>\n",
       "  </thead>\n",
       "  <tbody>\n",
       "    <tr>\n",
<<<<<<< HEAD
       "      <th>0</th>\n",
       "      <td>190</td>\n",
       "    </tr>\n",
       "    <tr>\n",
       "      <th>1</th>\n",
       "      <td>190</td>\n",
       "    </tr>\n",
       "    <tr>\n",
       "      <th>2</th>\n",
       "      <td>190</td>\n",
       "    </tr>\n",
       "    <tr>\n",
       "      <th>3</th>\n",
       "      <td>190</td>\n",
       "    </tr>\n",
       "    <tr>\n",
       "      <th>4</th>\n",
       "      <td>190</td>\n",
       "    </tr>\n",
       "    <tr>\n",
       "      <th>...</th>\n",
       "      <td>...</td>\n",
       "    </tr>\n",
       "    <tr>\n",
       "      <th>1024477</th>\n",
       "      <td>171107</td>\n",
       "    </tr>\n",
       "    <tr>\n",
       "      <th>1024478</th>\n",
       "      <td>171107</td>\n",
       "    </tr>\n",
       "    <tr>\n",
       "      <th>1024479</th>\n",
       "      <td>171107</td>\n",
       "    </tr>\n",
       "    <tr>\n",
       "      <th>1024480</th>\n",
       "      <td>171107</td>\n",
       "    </tr>\n",
       "    <tr>\n",
       "      <th>1024481</th>\n",
       "      <td>171107</td>\n",
       "    </tr>\n",
       "  </tbody>\n",
       "</table>\n",
       "<p>1024482 rows × 1 columns</p>\n",
       "</div>"
      ],
      "text/plain": [
       "         product_id\n",
       "0               190\n",
       "1               190\n",
       "2               190\n",
       "3               190\n",
       "4               190\n",
       "...             ...\n",
       "1024477      171107\n",
       "1024478      171107\n",
       "1024479      171107\n",
       "1024480      171107\n",
       "1024481      171107\n",
       "\n",
       "[1024482 rows x 1 columns]"
      ]
     },
     "execution_count": 18,
=======
       "      <th>45591</th>\n",
       "      <td>17889</td>\n",
       "      <td>5.000000</td>\n",
       "    </tr>\n",
       "    <tr>\n",
       "      <th>13041</th>\n",
       "      <td>23707</td>\n",
       "      <td>4.995313</td>\n",
       "    </tr>\n",
       "    <tr>\n",
       "      <th>44907</th>\n",
       "      <td>17205</td>\n",
       "      <td>4.992899</td>\n",
       "    </tr>\n",
       "    <tr>\n",
       "      <th>30340</th>\n",
       "      <td>11731</td>\n",
       "      <td>4.986202</td>\n",
       "    </tr>\n",
       "    <tr>\n",
       "      <th>44979</th>\n",
       "      <td>17277</td>\n",
       "      <td>4.984382</td>\n",
       "    </tr>\n",
       "    <tr>\n",
       "      <th>44965</th>\n",
       "      <td>17263</td>\n",
       "      <td>4.980936</td>\n",
       "    </tr>\n",
       "    <tr>\n",
       "      <th>44800</th>\n",
       "      <td>1798</td>\n",
       "      <td>4.979854</td>\n",
       "    </tr>\n",
       "    <tr>\n",
       "      <th>3436</th>\n",
       "      <td>211390</td>\n",
       "      <td>4.978393</td>\n",
       "    </tr>\n",
       "    <tr>\n",
       "      <th>6443</th>\n",
       "      <td>181294</td>\n",
       "      <td>4.977947</td>\n",
       "    </tr>\n",
       "    <tr>\n",
       "      <th>37980</th>\n",
       "      <td>14726</td>\n",
       "      <td>4.977900</td>\n",
       "    </tr>\n",
       "  </tbody>\n",
       "</table>\n",
       "</div>"
      ],
      "text/plain": [
       "       product_id  EstimateScore\n",
       "45591       17889       5.000000\n",
       "13041       23707       4.995313\n",
       "44907       17205       4.992899\n",
       "30340       11731       4.986202\n",
       "44979       17277       4.984382\n",
       "44965       17263       4.980936\n",
       "44800        1798       4.979854\n",
       "3436       211390       4.978393\n",
       "6443       181294       4.977947\n",
       "37980       14726       4.977900"
      ]
     },
     "execution_count": 56,
>>>>>>> 2cb647c7b0dd179fbb536c81b29248fbbf7aa691
     "metadata": {},
     "output_type": "execute_result"
    }
   ],
   "source": [
<<<<<<< HEAD
    "df_score"
   ]
  },
  {
   "cell_type": "markdown",
   "id": "14586064-ec4b-4009-97a3-395a354e68cd",
   "metadata": {
    "id": "x5Gt4rAX6WO2"
   },
   "source": [
    "- Once the model has been evaluated to our satisfaction, then we can re-train the model using the entire training dataset"
=======
    "top_10_prd = df_score.head(10)\n",
    "top_10_prd"
>>>>>>> 2cb647c7b0dd179fbb536c81b29248fbbf7aa691
   ]
  },
  {
   "cell_type": "code",
<<<<<<< HEAD
   "execution_count": 19,
   "id": "52ce1191-eaf0-4d01-8c42-f2ed8f480b7d",
   "metadata": {
    "colab": {
     "base_uri": "https://localhost:8080/"
    },
    "executionInfo": {
     "elapsed": 4458,
     "status": "ok",
     "timestamp": 1710405874118,
     "user": {
      "displayName": "Quốc Thái Phạm",
      "userId": "05056944187763502577"
     },
     "user_tz": -420
    },
    "id": "_DA1phU34ShZ",
    "outputId": "99a007ea-fc38-4305-f6ff-d8ed56f3f1d0"
   },
   "outputs": [
    {
     "name": "stderr",
     "output_type": "stream",
     "text": [
      "C:\\Users\\leo\\AppData\\Local\\Temp\\ipykernel_24460\\229877664.py:5: SettingWithCopyWarning: \n",
      "A value is trying to be set on a copy of a slice from a DataFrame.\n",
      "Try using .loc[row_indexer,col_indexer] = value instead\n",
      "\n",
      "See the caveats in the documentation: https://pandas.pydata.org/pandas-docs/stable/user_guide/indexing.html#returning-a-view-versus-a-copy\n",
      "  df_score['EstimateScore'] = df_score['product_id'].apply(lambda x: algorithm.predict(userId, x).est) # est: get EstimateScore\n"
     ]
    }
   ],
   "source": [
    "# The following are the top 5 movies to be recommended to the user with userId\n",
    "# To recommend products (i.e., movies) to the given user,\n",
    "# we can sort the list of movies in decreasing order of predicted ratings\n",
    "# and take the top N movies as recommendations:\n",
    "df_score['EstimateScore'] = df_score['product_id'].apply(lambda x: algorithm.predict(userId, x).est) # est: get EstimateScore\n",
    "df_score = df_score.sort_values(by=['EstimateScore'], ascending=False)"
   ]
  },
  {
   "cell_type": "code",
   "execution_count": 20,
   "id": "a759ba62-c255-4336-93c1-0655d48f44a7",
   "metadata": {
    "executionInfo": {
     "elapsed": 317,
     "status": "ok",
     "timestamp": 1710405880303,
     "user": {
      "displayName": "Quốc Thái Phạm",
      "userId": "05056944187763502577"
     },
     "user_tz": -420
    },
    "id": "eXVculve4vDx"
   },
   "outputs": [],
   "source": [
    "df_score = df_score.drop_duplicates()"
=======
   "execution_count": 58,
   "id": "5d5f1b76-49a7-49ae-ba72-16042814059a",
   "metadata": {},
   "outputs": [],
   "source": [
    "final_df = df_prd[df_prd['product_id'].isin(top_10_prd['product_id'].to_list())]"
>>>>>>> 2cb647c7b0dd179fbb536c81b29248fbbf7aa691
   ]
  },
  {
   "cell_type": "code",
<<<<<<< HEAD
   "execution_count": 21,
   "id": "c7925728-100b-4be8-9f25-9dedd4965ba1",
   "metadata": {
    "colab": {
     "base_uri": "https://localhost:8080/",
     "height": 206
    },
    "executionInfo": {
     "elapsed": 13,
     "status": "ok",
     "timestamp": 1710405881695,
     "user": {
      "displayName": "Quốc Thái Phạm",
      "userId": "05056944187763502577"
     },
     "user_tz": -420
    },
    "id": "BRW8MWy75Cz6",
    "outputId": "ab1bdb73-bdfc-4c5c-eac0-fd0176628b5a"
   },
=======
   "execution_count": 59,
   "id": "b23169c2-d714-44d7-86d9-bbede96cc513",
   "metadata": {},
>>>>>>> 2cb647c7b0dd179fbb536c81b29248fbbf7aa691
   "outputs": [
    {
     "data": {
      "text/html": [
       "<div>\n",
       "<style scoped>\n",
       "    .dataframe tbody tr th:only-of-type {\n",
       "        vertical-align: middle;\n",
       "    }\n",
       "\n",
       "    .dataframe tbody tr th {\n",
       "        vertical-align: top;\n",
       "    }\n",
       "\n",
       "    .dataframe thead th {\n",
       "        text-align: right;\n",
       "    }\n",
       "</style>\n",
       "<table border=\"1\" class=\"dataframe\">\n",
       "  <thead>\n",
       "    <tr style=\"text-align: right;\">\n",
       "      <th></th>\n",
       "      <th>product_id</th>\n",
<<<<<<< HEAD
       "      <th>EstimateScore</th>\n",
=======
       "      <th>product_name</th>\n",
       "      <th>sub_category</th>\n",
       "      <th>price</th>\n",
       "      <th>rating</th>\n",
       "      <th>clean_desc</th>\n",
       "      <th>clean_prd_name</th>\n",
>>>>>>> 2cb647c7b0dd179fbb536c81b29248fbbf7aa691
       "    </tr>\n",
       "  </thead>\n",
       "  <tbody>\n",
       "    <tr>\n",
<<<<<<< HEAD
       "      <th>512241</th>\n",
       "      <td>25183</td>\n",
       "      <td>5.0</td>\n",
       "    </tr>\n",
       "    <tr>\n",
       "      <th>616431</th>\n",
       "      <td>11147</td>\n",
       "      <td>5.0</td>\n",
       "    </tr>\n",
       "    <tr>\n",
       "      <th>847882</th>\n",
       "      <td>1681</td>\n",
       "      <td>5.0</td>\n",
       "    </tr>\n",
       "    <tr>\n",
       "      <th>438300</th>\n",
       "      <td>23546</td>\n",
       "      <td>5.0</td>\n",
       "    </tr>\n",
       "    <tr>\n",
       "      <th>616359</th>\n",
       "      <td>11146</td>\n",
       "      <td>5.0</td>\n",
=======
       "      <th>3436</th>\n",
       "      <td>211390</td>\n",
       "      <td>áo dạ nam siêu đẹp R8</td>\n",
       "      <td>Áo Khoác</td>\n",
       "      <td>380000.0</td>\n",
       "      <td>5.0</td>\n",
       "      <td>áo_khoác áo_khoác mùa đông áo_choàng xuất_xứ v...</td>\n",
       "      <td>áo_dạ nam đẹp</td>\n",
       "    </tr>\n",
       "    <tr>\n",
       "      <th>6443</th>\n",
       "      <td>181294</td>\n",
       "      <td>Áo sơ mi nỉ mỏng BIGSIZE &lt; 120kg giá rẻ (4XL-8XL)</td>\n",
       "      <td>Áo</td>\n",
       "      <td>185000.0</td>\n",
       "      <td>5.0</td>\n",
       "      <td>áo áo sơ_xuất_xứ việt_nam chất_liệu nỉ mỏng hà...</td>\n",
       "      <td>áo sơ_mi nỉ mỏng bigsize giá rẻ</td>\n",
       "    </tr>\n",
       "    <tr>\n",
       "      <th>13041</th>\n",
       "      <td>23707</td>\n",
       "      <td>Áo hoodie dáng rộng phong cách Hàn Quốc trẻ tr...</td>\n",
       "      <td>Đồ Bộ</td>\n",
       "      <td>87000.0</td>\n",
       "      <td>5.0</td>\n",
       "      <td>đồ chất_liệu_phục áo xuất_xứ việt_nam mẫu tổ_c...</td>\n",
       "      <td>áo hoodie_dáng rộng phong_cách hàn_quốc trẻ_tr...</td>\n",
       "    </tr>\n",
       "    <tr>\n",
       "      <th>30340</th>\n",
       "      <td>11731</td>\n",
       "      <td>Móc khóa cute giả gỗ nyboys - Móc khoá đẹp nhi...</td>\n",
       "      <td>Khác</td>\n",
       "      <td>25000.0</td>\n",
       "      <td>4.9</td>\n",
       "      <td>hàng gửi hồ chí_móc khóa_thương giả gỗnyboys_m...</td>\n",
       "      <td>móc khóa cute giả gỗ nyboys_móc khóa đẹp nhiều...</td>\n",
       "    </tr>\n",
       "    <tr>\n",
       "      <th>37980</th>\n",
       "      <td>14726</td>\n",
       "      <td>Quần jean nam xanh đen ống suông vải dày TS61 ...</td>\n",
       "      <td>Quần Jeans</td>\n",
       "      <td>119000.0</td>\n",
       "      <td>4.9</td>\n",
       "      <td>quần quần hàn_quốc đường_phố mẫu trơn khóa nút...</td>\n",
       "      <td>quần_jean nam xanh đen ống suông vải dày</td>\n",
       "    </tr>\n",
       "    <tr>\n",
       "      <th>44800</th>\n",
       "      <td>1798</td>\n",
       "      <td>Tất nam cao cấp sợi tre Bamboo,Tất vớ nam nữ- ...</td>\n",
       "      <td>Vớ/Tất</td>\n",
       "      <td>25000.0</td>\n",
       "      <td>5.0</td>\n",
       "      <td>vớ tất_hàng gửi hà_nội tất_nam sợi dạng cổ thư...</td>\n",
       "      <td>tất_nam cao_cấp sợi tre bamboo tất_vớ nam_nữ d...</td>\n",
       "    </tr>\n",
       "    <tr>\n",
       "      <th>44907</th>\n",
       "      <td>17205</td>\n",
       "      <td>Tất FG FEAR OF GOD cổ cao - Tất vớ Essentials ...</td>\n",
       "      <td>Vớ/Tất</td>\n",
       "      <td>33000.0</td>\n",
       "      <td>5.0</td>\n",
       "      <td>vớ tất_chất_liệu cotton_sợi tổng_hợp sợi dệt x...</td>\n",
       "      <td>tất fg fear of_god cổ cao tất_vớ essentials fo...</td>\n",
       "    </tr>\n",
       "    <tr>\n",
       "      <th>44965</th>\n",
       "      <td>17263</td>\n",
       "      <td>Tất Vớ Kẻ Sọc Ngang 🔥FREESHIP🔥 Phong Cách Hàn ...</td>\n",
       "      <td>Vớ/Tất</td>\n",
       "      <td>8600.0</td>\n",
       "      <td>5.0</td>\n",
       "      <td>vớ tất_chất_liệu địa_tổ_chức trách_nhiệm sản_x...</td>\n",
       "      <td>tất_vớ sọc ngang freeship phong_cách</td>\n",
       "    </tr>\n",
       "    <tr>\n",
       "      <th>44979</th>\n",
       "      <td>17277</td>\n",
       "      <td>Tất vớ nam cổ ngắn BIZMEN kháng khuẩn khử mùi ...</td>\n",
       "      <td>Vớ/Tất</td>\n",
       "      <td>28000.0</td>\n",
       "      <td>5.0</td>\n",
       "      <td>vớ tất_thương_hiệu bizmen chất_liệu xuất_xứ vi...</td>\n",
       "      <td>tất_vớ nam cổ ngắn bizmen kháng_khuẩn khử mùi ...</td>\n",
       "    </tr>\n",
       "    <tr>\n",
       "      <th>45591</th>\n",
       "      <td>17889</td>\n",
       "      <td>TẤT NAM -Combo 5 đôi tất ( vớ ) lười - mắt cá ...</td>\n",
       "      <td>Vớ/Tất</td>\n",
       "      <td>56000.0</td>\n",
       "      <td>5.0</td>\n",
       "      <td>vớ tất_hàng hàng cửa tiệm sản_phẩm tốt phân_kh...</td>\n",
       "      <td>tất_nam combo tất_vớ lười mắt cá_chân kháng_kh...</td>\n",
>>>>>>> 2cb647c7b0dd179fbb536c81b29248fbbf7aa691
       "    </tr>\n",
       "  </tbody>\n",
       "</table>\n",
       "</div>"
      ],
      "text/plain": [
<<<<<<< HEAD
       "        product_id  EstimateScore\n",
       "512241       25183            5.0\n",
       "616431       11147            5.0\n",
       "847882        1681            5.0\n",
       "438300       23546            5.0\n",
       "616359       11146            5.0"
      ]
     },
     "execution_count": 21,
=======
       "       product_id                                       product_name  \\\n",
       "3436       211390                              áo dạ nam siêu đẹp R8   \n",
       "6443       181294  Áo sơ mi nỉ mỏng BIGSIZE < 120kg giá rẻ (4XL-8XL)   \n",
       "13041       23707  Áo hoodie dáng rộng phong cách Hàn Quốc trẻ tr...   \n",
       "30340       11731  Móc khóa cute giả gỗ nyboys - Móc khoá đẹp nhi...   \n",
       "37980       14726  Quần jean nam xanh đen ống suông vải dày TS61 ...   \n",
       "44800        1798  Tất nam cao cấp sợi tre Bamboo,Tất vớ nam nữ- ...   \n",
       "44907       17205  Tất FG FEAR OF GOD cổ cao - Tất vớ Essentials ...   \n",
       "44965       17263  Tất Vớ Kẻ Sọc Ngang 🔥FREESHIP🔥 Phong Cách Hàn ...   \n",
       "44979       17277  Tất vớ nam cổ ngắn BIZMEN kháng khuẩn khử mùi ...   \n",
       "45591       17889  TẤT NAM -Combo 5 đôi tất ( vớ ) lười - mắt cá ...   \n",
       "\n",
       "      sub_category     price  rating  \\\n",
       "3436      Áo Khoác  380000.0     5.0   \n",
       "6443            Áo  185000.0     5.0   \n",
       "13041        Đồ Bộ   87000.0     5.0   \n",
       "30340         Khác   25000.0     4.9   \n",
       "37980   Quần Jeans  119000.0     4.9   \n",
       "44800       Vớ/Tất   25000.0     5.0   \n",
       "44907       Vớ/Tất   33000.0     5.0   \n",
       "44965       Vớ/Tất    8600.0     5.0   \n",
       "44979       Vớ/Tất   28000.0     5.0   \n",
       "45591       Vớ/Tất   56000.0     5.0   \n",
       "\n",
       "                                              clean_desc  \\\n",
       "3436   áo_khoác áo_khoác mùa đông áo_choàng xuất_xứ v...   \n",
       "6443   áo áo sơ_xuất_xứ việt_nam chất_liệu nỉ mỏng hà...   \n",
       "13041  đồ chất_liệu_phục áo xuất_xứ việt_nam mẫu tổ_c...   \n",
       "30340  hàng gửi hồ chí_móc khóa_thương giả gỗnyboys_m...   \n",
       "37980  quần quần hàn_quốc đường_phố mẫu trơn khóa nút...   \n",
       "44800  vớ tất_hàng gửi hà_nội tất_nam sợi dạng cổ thư...   \n",
       "44907  vớ tất_chất_liệu cotton_sợi tổng_hợp sợi dệt x...   \n",
       "44965  vớ tất_chất_liệu địa_tổ_chức trách_nhiệm sản_x...   \n",
       "44979  vớ tất_thương_hiệu bizmen chất_liệu xuất_xứ vi...   \n",
       "45591  vớ tất_hàng hàng cửa tiệm sản_phẩm tốt phân_kh...   \n",
       "\n",
       "                                          clean_prd_name  \n",
       "3436                                       áo_dạ nam đẹp  \n",
       "6443                     áo sơ_mi nỉ mỏng bigsize giá rẻ  \n",
       "13041  áo hoodie_dáng rộng phong_cách hàn_quốc trẻ_tr...  \n",
       "30340  móc khóa cute giả gỗ nyboys_móc khóa đẹp nhiều...  \n",
       "37980           quần_jean nam xanh đen ống suông vải dày  \n",
       "44800  tất_nam cao_cấp sợi tre bamboo tất_vớ nam_nữ d...  \n",
       "44907  tất fg fear of_god cổ cao tất_vớ essentials fo...  \n",
       "44965               tất_vớ sọc ngang freeship phong_cách  \n",
       "44979  tất_vớ nam cổ ngắn bizmen kháng_khuẩn khử mùi ...  \n",
       "45591  tất_nam combo tất_vớ lười mắt cá_chân kháng_kh...  "
      ]
     },
     "execution_count": 59,
>>>>>>> 2cb647c7b0dd179fbb536c81b29248fbbf7aa691
     "metadata": {},
     "output_type": "execute_result"
    }
   ],
   "source": [
<<<<<<< HEAD
    "df_score.head()"
=======
    "final_df"
   ]
  },
  {
   "cell_type": "code",
   "execution_count": 60,
   "id": "eaeba637-c170-4779-b191-160167fccccd",
   "metadata": {},
   "outputs": [
    {
     "data": {
      "text/html": [
       "<div>\n",
       "<style scoped>\n",
       "    .dataframe tbody tr th:only-of-type {\n",
       "        vertical-align: middle;\n",
       "    }\n",
       "\n",
       "    .dataframe tbody tr th {\n",
       "        vertical-align: top;\n",
       "    }\n",
       "\n",
       "    .dataframe thead th {\n",
       "        text-align: right;\n",
       "    }\n",
       "</style>\n",
       "<table border=\"1\" class=\"dataframe\">\n",
       "  <thead>\n",
       "    <tr style=\"text-align: right;\">\n",
       "      <th></th>\n",
       "      <th>product_id</th>\n",
       "      <th>product_name</th>\n",
       "      <th>sub_category</th>\n",
       "      <th>price</th>\n",
       "      <th>rating</th>\n",
       "      <th>clean_desc</th>\n",
       "      <th>clean_prd_name</th>\n",
       "    </tr>\n",
       "  </thead>\n",
       "  <tbody>\n",
       "    <tr>\n",
       "      <th>44965</th>\n",
       "      <td>17263</td>\n",
       "      <td>Tất Vớ Kẻ Sọc Ngang 🔥FREESHIP🔥 Phong Cách Hàn ...</td>\n",
       "      <td>Vớ/Tất</td>\n",
       "      <td>8600.0</td>\n",
       "      <td>5.0</td>\n",
       "      <td>vớ tất_chất_liệu địa_tổ_chức trách_nhiệm sản_x...</td>\n",
       "      <td>tất_vớ sọc ngang freeship phong_cách</td>\n",
       "    </tr>\n",
       "    <tr>\n",
       "      <th>44800</th>\n",
       "      <td>1798</td>\n",
       "      <td>Tất nam cao cấp sợi tre Bamboo,Tất vớ nam nữ- ...</td>\n",
       "      <td>Vớ/Tất</td>\n",
       "      <td>25000.0</td>\n",
       "      <td>5.0</td>\n",
       "      <td>vớ tất_hàng gửi hà_nội tất_nam sợi dạng cổ thư...</td>\n",
       "      <td>tất_nam cao_cấp sợi tre bamboo tất_vớ nam_nữ d...</td>\n",
       "    </tr>\n",
       "    <tr>\n",
       "      <th>30340</th>\n",
       "      <td>11731</td>\n",
       "      <td>Móc khóa cute giả gỗ nyboys - Móc khoá đẹp nhi...</td>\n",
       "      <td>Khác</td>\n",
       "      <td>25000.0</td>\n",
       "      <td>4.9</td>\n",
       "      <td>hàng gửi hồ chí_móc khóa_thương giả gỗnyboys_m...</td>\n",
       "      <td>móc khóa cute giả gỗ nyboys_móc khóa đẹp nhiều...</td>\n",
       "    </tr>\n",
       "    <tr>\n",
       "      <th>44979</th>\n",
       "      <td>17277</td>\n",
       "      <td>Tất vớ nam cổ ngắn BIZMEN kháng khuẩn khử mùi ...</td>\n",
       "      <td>Vớ/Tất</td>\n",
       "      <td>28000.0</td>\n",
       "      <td>5.0</td>\n",
       "      <td>vớ tất_thương_hiệu bizmen chất_liệu xuất_xứ vi...</td>\n",
       "      <td>tất_vớ nam cổ ngắn bizmen kháng_khuẩn khử mùi ...</td>\n",
       "    </tr>\n",
       "    <tr>\n",
       "      <th>44907</th>\n",
       "      <td>17205</td>\n",
       "      <td>Tất FG FEAR OF GOD cổ cao - Tất vớ Essentials ...</td>\n",
       "      <td>Vớ/Tất</td>\n",
       "      <td>33000.0</td>\n",
       "      <td>5.0</td>\n",
       "      <td>vớ tất_chất_liệu cotton_sợi tổng_hợp sợi dệt x...</td>\n",
       "      <td>tất fg fear of_god cổ cao tất_vớ essentials fo...</td>\n",
       "    </tr>\n",
       "    <tr>\n",
       "      <th>45591</th>\n",
       "      <td>17889</td>\n",
       "      <td>TẤT NAM -Combo 5 đôi tất ( vớ ) lười - mắt cá ...</td>\n",
       "      <td>Vớ/Tất</td>\n",
       "      <td>56000.0</td>\n",
       "      <td>5.0</td>\n",
       "      <td>vớ tất_hàng hàng cửa tiệm sản_phẩm tốt phân_kh...</td>\n",
       "      <td>tất_nam combo tất_vớ lười mắt cá_chân kháng_kh...</td>\n",
       "    </tr>\n",
       "    <tr>\n",
       "      <th>13041</th>\n",
       "      <td>23707</td>\n",
       "      <td>Áo hoodie dáng rộng phong cách Hàn Quốc trẻ tr...</td>\n",
       "      <td>Đồ Bộ</td>\n",
       "      <td>87000.0</td>\n",
       "      <td>5.0</td>\n",
       "      <td>đồ chất_liệu_phục áo xuất_xứ việt_nam mẫu tổ_c...</td>\n",
       "      <td>áo hoodie_dáng rộng phong_cách hàn_quốc trẻ_tr...</td>\n",
       "    </tr>\n",
       "    <tr>\n",
       "      <th>37980</th>\n",
       "      <td>14726</td>\n",
       "      <td>Quần jean nam xanh đen ống suông vải dày TS61 ...</td>\n",
       "      <td>Quần Jeans</td>\n",
       "      <td>119000.0</td>\n",
       "      <td>4.9</td>\n",
       "      <td>quần quần hàn_quốc đường_phố mẫu trơn khóa nút...</td>\n",
       "      <td>quần_jean nam xanh đen ống suông vải dày</td>\n",
       "    </tr>\n",
       "    <tr>\n",
       "      <th>6443</th>\n",
       "      <td>181294</td>\n",
       "      <td>Áo sơ mi nỉ mỏng BIGSIZE &lt; 120kg giá rẻ (4XL-8XL)</td>\n",
       "      <td>Áo</td>\n",
       "      <td>185000.0</td>\n",
       "      <td>5.0</td>\n",
       "      <td>áo áo sơ_xuất_xứ việt_nam chất_liệu nỉ mỏng hà...</td>\n",
       "      <td>áo sơ_mi nỉ mỏng bigsize giá rẻ</td>\n",
       "    </tr>\n",
       "    <tr>\n",
       "      <th>3436</th>\n",
       "      <td>211390</td>\n",
       "      <td>áo dạ nam siêu đẹp R8</td>\n",
       "      <td>Áo Khoác</td>\n",
       "      <td>380000.0</td>\n",
       "      <td>5.0</td>\n",
       "      <td>áo_khoác áo_khoác mùa đông áo_choàng xuất_xứ v...</td>\n",
       "      <td>áo_dạ nam đẹp</td>\n",
       "    </tr>\n",
       "  </tbody>\n",
       "</table>\n",
       "</div>"
      ],
      "text/plain": [
       "       product_id                                       product_name  \\\n",
       "44965       17263  Tất Vớ Kẻ Sọc Ngang 🔥FREESHIP🔥 Phong Cách Hàn ...   \n",
       "44800        1798  Tất nam cao cấp sợi tre Bamboo,Tất vớ nam nữ- ...   \n",
       "30340       11731  Móc khóa cute giả gỗ nyboys - Móc khoá đẹp nhi...   \n",
       "44979       17277  Tất vớ nam cổ ngắn BIZMEN kháng khuẩn khử mùi ...   \n",
       "44907       17205  Tất FG FEAR OF GOD cổ cao - Tất vớ Essentials ...   \n",
       "45591       17889  TẤT NAM -Combo 5 đôi tất ( vớ ) lười - mắt cá ...   \n",
       "13041       23707  Áo hoodie dáng rộng phong cách Hàn Quốc trẻ tr...   \n",
       "37980       14726  Quần jean nam xanh đen ống suông vải dày TS61 ...   \n",
       "6443       181294  Áo sơ mi nỉ mỏng BIGSIZE < 120kg giá rẻ (4XL-8XL)   \n",
       "3436       211390                              áo dạ nam siêu đẹp R8   \n",
       "\n",
       "      sub_category     price  rating  \\\n",
       "44965       Vớ/Tất    8600.0     5.0   \n",
       "44800       Vớ/Tất   25000.0     5.0   \n",
       "30340         Khác   25000.0     4.9   \n",
       "44979       Vớ/Tất   28000.0     5.0   \n",
       "44907       Vớ/Tất   33000.0     5.0   \n",
       "45591       Vớ/Tất   56000.0     5.0   \n",
       "13041        Đồ Bộ   87000.0     5.0   \n",
       "37980   Quần Jeans  119000.0     4.9   \n",
       "6443            Áo  185000.0     5.0   \n",
       "3436      Áo Khoác  380000.0     5.0   \n",
       "\n",
       "                                              clean_desc  \\\n",
       "44965  vớ tất_chất_liệu địa_tổ_chức trách_nhiệm sản_x...   \n",
       "44800  vớ tất_hàng gửi hà_nội tất_nam sợi dạng cổ thư...   \n",
       "30340  hàng gửi hồ chí_móc khóa_thương giả gỗnyboys_m...   \n",
       "44979  vớ tất_thương_hiệu bizmen chất_liệu xuất_xứ vi...   \n",
       "44907  vớ tất_chất_liệu cotton_sợi tổng_hợp sợi dệt x...   \n",
       "45591  vớ tất_hàng hàng cửa tiệm sản_phẩm tốt phân_kh...   \n",
       "13041  đồ chất_liệu_phục áo xuất_xứ việt_nam mẫu tổ_c...   \n",
       "37980  quần quần hàn_quốc đường_phố mẫu trơn khóa nút...   \n",
       "6443   áo áo sơ_xuất_xứ việt_nam chất_liệu nỉ mỏng hà...   \n",
       "3436   áo_khoác áo_khoác mùa đông áo_choàng xuất_xứ v...   \n",
       "\n",
       "                                          clean_prd_name  \n",
       "44965               tất_vớ sọc ngang freeship phong_cách  \n",
       "44800  tất_nam cao_cấp sợi tre bamboo tất_vớ nam_nữ d...  \n",
       "30340  móc khóa cute giả gỗ nyboys_móc khóa đẹp nhiều...  \n",
       "44979  tất_vớ nam cổ ngắn bizmen kháng_khuẩn khử mùi ...  \n",
       "44907  tất fg fear of_god cổ cao tất_vớ essentials fo...  \n",
       "45591  tất_nam combo tất_vớ lười mắt cá_chân kháng_kh...  \n",
       "13041  áo hoodie_dáng rộng phong_cách hàn_quốc trẻ_tr...  \n",
       "37980           quần_jean nam xanh đen ống suông vải dày  \n",
       "6443                     áo sơ_mi nỉ mỏng bigsize giá rẻ  \n",
       "3436                                       áo_dạ nam đẹp  "
      ]
     },
     "execution_count": 60,
     "metadata": {},
     "output_type": "execute_result"
    }
   ],
   "source": [
    "final_df.sort_values(by=['price','rating'], ascending=[True,False])"
   ]
  },
  {
   "cell_type": "markdown",
   "id": "14586064-ec4b-4009-97a3-395a354e68cd",
   "metadata": {
    "id": "x5Gt4rAX6WO2"
   },
   "source": [
    "- Once the model has been evaluated to our satisfaction, then we can re-train the model using the entire training dataset"
>>>>>>> 2cb647c7b0dd179fbb536c81b29248fbbf7aa691
   ]
  },
  {
   "cell_type": "code",
   "execution_count": 22,
   "id": "b8d63e1d-b1ae-4e8e-92c3-486ed812b305",
   "metadata": {
    "colab": {
     "base_uri": "https://localhost:8080/",
     "height": 424
    },
    "executionInfo": {
     "elapsed": 350,
     "status": "ok",
     "timestamp": 1710405887116,
     "user": {
      "displayName": "Quốc Thái Phạm",
      "userId": "05056944187763502577"
     },
     "user_tz": -420
    },
    "id": "FQXBHuZmdhGy",
    "outputId": "d0113f91-d3c4-4634-e670-86c5816258b6"
   },
   "outputs": [
    {
     "data": {
      "text/html": [
       "<div>\n",
       "<style scoped>\n",
       "    .dataframe tbody tr th:only-of-type {\n",
       "        vertical-align: middle;\n",
       "    }\n",
       "\n",
       "    .dataframe tbody tr th {\n",
       "        vertical-align: top;\n",
       "    }\n",
       "\n",
       "    .dataframe thead th {\n",
       "        text-align: right;\n",
       "    }\n",
       "</style>\n",
       "<table border=\"1\" class=\"dataframe\">\n",
       "  <thead>\n",
       "    <tr style=\"text-align: right;\">\n",
       "      <th></th>\n",
       "      <th>product_id</th>\n",
       "      <th>EstimateScore</th>\n",
       "    </tr>\n",
       "  </thead>\n",
       "  <tbody>\n",
       "    <tr>\n",
       "      <th>512241</th>\n",
       "      <td>25183</td>\n",
       "      <td>5.000000</td>\n",
       "    </tr>\n",
       "    <tr>\n",
       "      <th>616431</th>\n",
       "      <td>11147</td>\n",
       "      <td>5.000000</td>\n",
       "    </tr>\n",
       "    <tr>\n",
       "      <th>847882</th>\n",
       "      <td>1681</td>\n",
       "      <td>5.000000</td>\n",
       "    </tr>\n",
       "    <tr>\n",
       "      <th>438300</th>\n",
       "      <td>23546</td>\n",
       "      <td>5.000000</td>\n",
       "    </tr>\n",
       "    <tr>\n",
       "      <th>616359</th>\n",
       "      <td>11146</td>\n",
       "      <td>5.000000</td>\n",
       "    </tr>\n",
       "    <tr>\n",
       "      <th>...</th>\n",
       "      <td>...</td>\n",
       "      <td>...</td>\n",
       "    </tr>\n",
       "    <tr>\n",
       "      <th>75409</th>\n",
       "      <td>2154</td>\n",
       "      <td>3.033624</td>\n",
       "    </tr>\n",
       "    <tr>\n",
       "      <th>951961</th>\n",
       "      <td>17334</td>\n",
       "      <td>3.030076</td>\n",
       "    </tr>\n",
       "    <tr>\n",
       "      <th>238190</th>\n",
       "      <td>18553</td>\n",
       "      <td>3.024821</td>\n",
       "    </tr>\n",
       "    <tr>\n",
       "      <th>743170</th>\n",
       "      <td>15185</td>\n",
       "      <td>3.012023</td>\n",
       "    </tr>\n",
       "    <tr>\n",
       "      <th>568182</th>\n",
       "      <td>267</td>\n",
       "      <td>3.007087</td>\n",
       "    </tr>\n",
       "  </tbody>\n",
       "</table>\n",
       "<p>31203 rows × 2 columns</p>\n",
       "</div>"
      ],
      "text/plain": [
       "        product_id  EstimateScore\n",
       "512241       25183       5.000000\n",
       "616431       11147       5.000000\n",
       "847882        1681       5.000000\n",
       "438300       23546       5.000000\n",
       "616359       11146       5.000000\n",
       "...            ...            ...\n",
       "75409         2154       3.033624\n",
       "951961       17334       3.030076\n",
       "238190       18553       3.024821\n",
       "743170       15185       3.012023\n",
       "568182         267       3.007087\n",
       "\n",
       "[31203 rows x 2 columns]"
      ]
     },
     "execution_count": 22,
     "metadata": {},
     "output_type": "execute_result"
    }
   ],
   "source": [
    "df_score[df_score.EstimateScore>=3]"
   ]
  },
  {
   "cell_type": "code",
   "execution_count": null,
   "id": "8831ce23-6f61-4921-b19a-9401de74e08e",
   "metadata": {
    "executionInfo": {
     "elapsed": 40,
     "status": "aborted",
     "timestamp": 1710404580938,
     "user": {
      "displayName": "Quốc Thái Phạm",
      "userId": "05056944187763502577"
     },
     "user_tz": -420
    },
    "id": "viWGpo3Gt9Kn"
   },
   "outputs": [],
   "source": [
    "!"
   ]
  }
 ],
 "metadata": {
  "kernelspec": {
   "display_name": "Python 3 (ipykernel)",
   "language": "python",
   "name": "python3"
  },
  "language_info": {
   "codemirror_mode": {
    "name": "ipython",
    "version": 3
   },
   "file_extension": ".py",
   "mimetype": "text/x-python",
   "name": "python",
   "nbconvert_exporter": "python",
   "pygments_lexer": "ipython3",
   "version": "3.9.18"
  }
 },
 "nbformat": 4,
 "nbformat_minor": 5
}
