{
 "cells": [
  {
   "cell_type": "code",
   "execution_count": 1,
   "id": "cb4b9f63-d272-47d8-bd67-e7bfeb7cd26d",
   "metadata": {},
   "outputs": [],
   "source": [
    "import os\n",
    "import sys\n",
    "\n",
    "# os.environ['PYSPARK_PYTHON'] = sys.executable\n",
    "# os.environ['PYSPARK_DRIVER_PYTHON'] = sys.executable"
   ]
  },
  {
   "cell_type": "code",
   "execution_count": 2,
   "id": "f156b464-4600-4022-a0e2-973835be22f7",
   "metadata": {
    "id": "c0JvcgTY_23t",
    "tags": []
   },
   "outputs": [],
   "source": [
    "import findspark\n",
    "findspark.init()"
   ]
  },
  {
   "cell_type": "code",
   "execution_count": 3,
   "id": "fe6c9197-f38d-472b-876c-b7e8688d6d03",
   "metadata": {
    "id": "sMEWXllEAD3X"
   },
   "outputs": [],
   "source": [
    "# import libraries\n",
    "from pyspark import SparkContext\n",
    "from pyspark.conf import SparkConf\n",
    "from pyspark.sql import SparkSession\n",
    "import matplotlib.pyplot as plt\n",
    "import seaborn as sns\n",
    "from scipy import stats\n",
    "from datetime import datetime\n",
    "from pyspark.sql import Row\n",
    "import pyspark.sql.functions as f\n",
    "\n",
    "import pyspark.sql.types as t\n",
    "\n",
    "import pyspark.ml.feature as feat\n",
    "\n",
    "import numpy as np\n",
    "import pandas as pd\n",
    "\n",
    "# Pipeline\n",
    "from pyspark.ml import Pipeline, PipelineModel\n",
    "\n",
    "# Machine learning\n",
    "from pyspark.ml.recommendation import ALS\n",
    "from pyspark.ml.evaluation import RegressionEvaluator"
   ]
  },
  {
   "cell_type": "markdown",
   "id": "7d700b8c-e3bc-4dd9-bdb6-c4ecf9da0c60",
   "metadata": {
    "tags": []
   },
   "source": [
    "# About Dataset\n",
    "Use the information:\n",
    "-  product ID, \n",
    "-  User ID, \n",
    "- Rating\n",
    "\n",
    "in dataset Shopee: Products_ThoiTrangNam build a recommended sysytem\n",
    "\n",
    "**Then make recommendations to some specific users**"
   ]
  },
  {
   "cell_type": "code",
   "execution_count": 4,
   "id": "cda6533d-a4ff-4487-a8b3-29d67df8eb7c",
   "metadata": {},
   "outputs": [],
   "source": [
    "SparkContext.setSystemProperty(key='spark.hadoop.dfs.client.use.datanode.hostname',value='true')"
   ]
  },
  {
   "cell_type": "code",
   "execution_count": 5,
   "id": "3367c41c-09b6-438a-8037-b060dbf4be64",
   "metadata": {
    "id": "wnB3qrDkAJNX"
   },
   "outputs": [],
   "source": [
    "sc =SparkContext()"
   ]
  },
  {
   "cell_type": "code",
   "execution_count": 6,
   "id": "237856e6-0560-4fc6-bd31-dc3e19dec492",
   "metadata": {
    "id": "2mfBvmJoejHV"
   },
   "outputs": [],
   "source": [
    "sc.setLogLevel(\"ERROR\")"
   ]
  },
  {
   "cell_type": "code",
   "execution_count": 7,
   "id": "3b2e41ba-de81-41f3-a563-f992fe56ac91",
   "metadata": {
    "id": "bxVoyCsJAU1Q"
   },
   "outputs": [],
   "source": [
    "spark = SparkSession(sc)"
   ]
  },
  {
   "cell_type": "code",
   "execution_count": 8,
   "id": "10f2ac4c-cae0-4e8f-b67b-032c184ee266",
   "metadata": {},
   "outputs": [],
   "source": [
    "df = spark.read.csv(path='../DATA/clean_details.csv',inferSchema=True, header=True)"
   ]
  },
  {
   "cell_type": "code",
   "execution_count": 9,
   "id": "51fe427b-35e7-488f-8b4d-dad911fb3078",
   "metadata": {},
   "outputs": [],
   "source": [
    "#sc.cancelAllJobs()"
   ]
  },
  {
   "cell_type": "markdown",
   "id": "9f82ae3c-ac0e-41e0-8ab4-ef453698b10d",
   "metadata": {
    "tags": []
   },
   "source": [
    "# Overview"
   ]
  },
  {
   "cell_type": "code",
   "execution_count": 10,
   "id": "0ebad491-b088-442a-b490-611e6e4c85e0",
   "metadata": {},
   "outputs": [
    {
     "name": "stdout",
     "output_type": "stream",
     "text": [
      "+----------+-------+------+\n",
      "|product_id|user_id|rating|\n",
      "+----------+-------+------+\n",
      "|       190|      2|     5|\n",
      "|       190|      5|     5|\n",
      "|       190|      6|     5|\n",
      "|       190|      8|     5|\n",
      "|       190|      9|     5|\n",
      "|       190|     10|     5|\n",
      "|       190|     12|     5|\n",
      "|       190|     13|     5|\n",
      "|       190|     18|     5|\n",
      "|       190|     26|     5|\n",
      "+----------+-------+------+\n",
      "only showing top 10 rows\n",
      "\n",
      "root\n",
      " |-- product_id: integer (nullable = true)\n",
      " |-- user_id: integer (nullable = true)\n",
      " |-- rating: integer (nullable = true)\n",
      "\n",
      "There are 486351 rows and 3 columns in dataframe\n"
     ]
    }
   ],
   "source": [
    "df.show(10)\n",
    "df.printSchema()\n",
    "print(f'There are {df.count()} rows and {len(df.columns)} columns in dataframe')"
   ]
  },
  {
   "cell_type": "markdown",
   "id": "b96ef814-2f74-4a80-ae2a-ad98dd7bdae4",
   "metadata": {},
   "source": [
    "## check null"
   ]
  },
  {
   "cell_type": "code",
   "execution_count": 11,
   "id": "ee770f03-85b9-4448-8210-622dad6b7068",
   "metadata": {},
   "outputs": [
    {
     "name": "stdout",
     "output_type": "stream",
     "text": [
      "+----------+-------+------+\n",
      "|product_id|user_id|rating|\n",
      "+----------+-------+------+\n",
      "|         0|      0|     0|\n",
      "+----------+-------+------+\n",
      "\n"
     ]
    }
   ],
   "source": [
    "df.select([f.count(f.when(f.isnan(c), c)).alias(c) for c in df.columns]).show()"
   ]
  },
  {
   "cell_type": "code",
   "execution_count": 12,
   "id": "889f094a-7425-4bba-ac28-303cca9d4761",
   "metadata": {},
   "outputs": [
    {
     "name": "stdout",
     "output_type": "stream",
     "text": [
      "+----------+-------+------+\n",
      "|product_id|user_id|rating|\n",
      "+----------+-------+------+\n",
      "|         0|      0|     0|\n",
      "+----------+-------+------+\n",
      "\n"
     ]
    }
   ],
   "source": [
    "df.select([f.count(f.when(f.isnull(c), c)).alias(c) for c in df.columns]).show()"
   ]
  },
  {
   "cell_type": "markdown",
   "id": "862851f4-c0f0-4125-81b4-86571a082173",
   "metadata": {},
   "source": [
    "## Descirble data"
   ]
  },
  {
   "cell_type": "code",
   "execution_count": 13,
   "id": "25bcff48-77a0-49b6-8b05-0498213ff7d2",
   "metadata": {},
   "outputs": [
    {
     "data": {
      "text/plain": [
       "['product_id', 'user_id', 'rating']"
      ]
     },
     "execution_count": 13,
     "metadata": {},
     "output_type": "execute_result"
    }
   ],
   "source": [
    "cat_col = df.columns\n",
    "cat_col"
   ]
  },
  {
   "cell_type": "markdown",
   "id": "5e9e3fe1-5740-4a8c-a7c5-b7d9d88fbf97",
   "metadata": {},
   "source": [
    "### Category data"
   ]
  },
  {
   "cell_type": "markdown",
   "id": "60ed6495-f27b-41d9-85fa-6f97ee711d3d",
   "metadata": {},
   "source": [
    "#### Check distinct values"
   ]
  },
  {
   "cell_type": "code",
   "execution_count": 14,
   "id": "ae4eb1d3-30ff-4c51-be19-1fe2c6a78037",
   "metadata": {},
   "outputs": [
    {
     "name": "stdout",
     "output_type": "stream",
     "text": [
      "+----------+-------+------+\n",
      "|product_id|user_id|rating|\n",
      "+----------+-------+------+\n",
      "|     27730| 113516|     5|\n",
      "+----------+-------+------+\n",
      "\n"
     ]
    }
   ],
   "source": [
    "df.select([f.count_distinct(c).alias(c) for c in df.columns]).show()"
   ]
  },
  {
   "cell_type": "markdown",
   "id": "aaee5de9-01ae-4d72-8715-248996397fff",
   "metadata": {},
   "source": [
    "#### Check top5 disticnt value count of each category columns in df "
   ]
  },
  {
   "cell_type": "code",
   "execution_count": 15,
   "id": "a08c83b1-d0ca-4cff-b6ac-45826e017aa4",
   "metadata": {},
   "outputs": [
    {
     "name": "stdout",
     "output_type": "stream",
     "text": [
      "+----------+-----+--------------------+\n",
      "|product_id|count|Normalize           |\n",
      "+----------+-----+--------------------+\n",
      "|2114      |270  |5.551546105590407E-4|\n",
      "|216       |270  |5.551546105590407E-4|\n",
      "|212       |270  |5.551546105590407E-4|\n",
      "|21122     |270  |5.551546105590407E-4|\n",
      "|21132     |270  |5.551546105590407E-4|\n",
      "+----------+-----+--------------------+\n",
      "only showing top 5 rows\n",
      "\n",
      "+-------+-----+---------------------+\n",
      "|user_id|count|Normalize            |\n",
      "+-------+-----+---------------------+\n",
      "|199    |19549|0.040195249932661804 |\n",
      "|159    |2581 |0.0053068668513069775|\n",
      "|831    |2533 |0.005208172698318704 |\n",
      "|324    |2412 |0.004959381187660763 |\n",
      "|860    |2080 |0.004276746629491869 |\n",
      "+-------+-----+---------------------+\n",
      "only showing top 5 rows\n",
      "\n",
      "+------+------+--------------------+\n",
      "|rating|count |Normalize           |\n",
      "+------+------+--------------------+\n",
      "|5     |380211|0.7817625542046793  |\n",
      "|4     |50113 |0.10303875184794521 |\n",
      "|3     |26327 |0.05413168678588098 |\n",
      "|1     |18677 |0.038402306153374824|\n",
      "|2     |11023 |0.02266470100811965 |\n",
      "+------+------+--------------------+\n",
      "\n"
     ]
    }
   ],
   "source": [
    "for col in cat_col:\n",
    "    (df.groupby(col).count()\n",
    "     .withColumn('Normalize',(f.col('count')/df.count()))\n",
    "     .orderBy(f.col('count').desc())\n",
    "     .show(5,vertical=False,truncate=False))"
   ]
  },
  {
   "cell_type": "code",
   "execution_count": 17,
   "id": "febe1b6d-9bc7-409b-a59a-d65ebda403bc",
   "metadata": {},
   "outputs": [],
   "source": [
    "df = df.withColumnRenamed(existing='user_id',new='usr_id')"
   ]
  },
  {
   "cell_type": "markdown",
   "id": "339485ad-c42d-475b-bd1b-219241a09815",
   "metadata": {},
   "source": [
    "- Because my target to recommend the product with high quality, that why reason I only choose rating from 3 to 5 (DID in EDA2)"
   ]
  },
  {
   "cell_type": "code",
   "execution_count": 17,
   "id": "824009a0-c4be-4f25-a18c-bd7c9c3599ac",
   "metadata": {},
   "outputs": [
    {
     "name": "stdout",
     "output_type": "stream",
     "text": [
      "+----------+------+------+\n",
      "|product_id|usr_id|rating|\n",
      "+----------+------+------+\n",
      "|       190|     1|     5|\n",
      "|       190|     2|     5|\n",
      "|       190|     3|     5|\n",
      "|       190|     4|     5|\n",
      "|       190|     5|     5|\n",
      "+----------+------+------+\n",
      "only showing top 5 rows\n",
      "\n"
     ]
    }
   ],
   "source": [
    "df.show(5)"
   ]
  },
  {
   "cell_type": "markdown",
   "id": "1dc9dde0-7a2b-4c6a-a9f4-4d5ca8b7caaa",
   "metadata": {
    "jp-MarkdownHeadingCollapsed": true
   },
   "source": [
    "#### Drop some product with low rating and drop user with one time buy"
   ]
  },
  {
   "cell_type": "markdown",
   "id": "2ad33f68-5671-4258-bb48-f7fdc9b69c9d",
   "metadata": {},
   "source": [
    "##### PRD"
   ]
  },
  {
   "cell_type": "code",
   "execution_count": 24,
   "id": "e0fa9c8c-73ee-4d4d-8b23-f1f1b7c1716a",
   "metadata": {},
   "outputs": [
    {
     "name": "stdout",
     "output_type": "stream",
     "text": [
      "+----------+-----------------+----------+\n",
      "|product_id|       avg_rating|count_user|\n",
      "+----------+-----------------+----------+\n",
      "|      1959|4.746031746031746|        63|\n",
      "|     19204|              5.0|         4|\n",
      "|     19530|4.857142857142857|         7|\n",
      "|     19553|              5.0|         2|\n",
      "|     20135|4.898305084745763|        59|\n",
      "+----------+-----------------+----------+\n",
      "only showing top 5 rows\n",
      "\n"
     ]
    }
   ],
   "source": [
    "group_prd = df.groupby('product_id').agg(f.mean('rating').alias('avg_rating'), f.count('usr_id').alias('count_user'))\n",
    "group_prd.show(5)"
   ]
  },
  {
   "cell_type": "code",
   "execution_count": 28,
   "id": "9c030cc9-052c-4f9b-b0cf-c0abf52b48f2",
   "metadata": {},
   "outputs": [
    {
     "name": "stdout",
     "output_type": "stream",
     "text": [
      "+----------+-----------------+----------+\n",
      "|product_id|       avg_rating|count_user|\n",
      "+----------+-----------------+----------+\n",
      "|      1959|4.746031746031746|        63|\n",
      "|     19204|              5.0|         4|\n",
      "|     19530|4.857142857142857|         7|\n",
      "|     19553|              5.0|         2|\n",
      "|     20135|4.898305084745763|        59|\n",
      "+----------+-----------------+----------+\n",
      "only showing top 5 rows\n",
      "\n"
     ]
    }
   ],
   "source": [
    "group_prd_gt_3 = group_prd.filter(f.col('avg_rating')>=3)\n",
    "group_prd_gt_3.show(5)"
   ]
  },
  {
   "cell_type": "code",
   "execution_count": 29,
   "id": "5abb0a26-4c69-46a7-98fc-4ff1f98fd1c7",
   "metadata": {},
   "outputs": [
    {
     "data": {
      "text/plain": [
       "30961"
      ]
     },
     "execution_count": 29,
     "metadata": {},
     "output_type": "execute_result"
    }
   ],
   "source": [
    "list_prd = group_prd_gt_3.select('product_id').rdd.flatMap(lambda x: x).collect()\n",
    "len(list_prd)"
   ]
  },
  {
   "cell_type": "code",
   "execution_count": 30,
   "id": "fc9f8bac-c592-45d4-9497-513fed0d8604",
   "metadata": {},
   "outputs": [
    {
     "data": {
      "text/plain": [
       "[1959, 19204, 19530, 19553, 20135]"
      ]
     },
     "execution_count": 30,
     "metadata": {},
     "output_type": "execute_result"
    }
   ],
   "source": [
    "list_prd[:5]"
   ]
  },
  {
   "cell_type": "markdown",
   "id": "99f8caa7-fe26-4de4-be32-49e8572fa366",
   "metadata": {},
   "source": [
    "##### User Group"
   ]
  },
  {
   "cell_type": "code",
   "execution_count": 25,
   "id": "08ee794a-ff28-46d4-8ecd-0a606daa527a",
   "metadata": {},
   "outputs": [
    {
     "name": "stdout",
     "output_type": "stream",
     "text": [
      "+------+------------------+---------+\n",
      "|usr_id|        avg_rating|count_prd|\n",
      "+------+------------------+---------+\n",
      "|   148|               3.5|        2|\n",
      "|   463|3.6666666666666665|        3|\n",
      "|   471|               3.0|        1|\n",
      "|   496|3.8461538461538463|       26|\n",
      "|   833|               4.0|        1|\n",
      "+------+------------------+---------+\n",
      "only showing top 5 rows\n",
      "\n"
     ]
    }
   ],
   "source": [
    "group_user = df.groupby('usr_id').agg(f.mean('rating').alias('avg_rating'), f.count('product_id').alias('count_prd'))\n",
    "group_user.show(5)"
   ]
  },
  {
   "cell_type": "code",
   "execution_count": 34,
   "id": "4e674f92-8c58-474e-8f60-2c161e0e0b27",
   "metadata": {},
   "outputs": [
    {
     "name": "stdout",
     "output_type": "stream",
     "text": [
      "Total customer: 113654\n",
      "+------+------------------+---------+\n",
      "|usr_id|        avg_rating|count_prd|\n",
      "+------+------------------+---------+\n",
      "|   148|               3.5|        2|\n",
      "|   463|3.6666666666666665|        3|\n",
      "|   496|3.8461538461538463|       26|\n",
      "|  1238|               4.2|        5|\n",
      "|  1645| 4.777777777777778|        9|\n",
      "+------+------------------+---------+\n",
      "only showing top 5 rows\n",
      "\n"
     ]
    }
   ],
   "source": [
    "group_user_gt_5 = group_user.filter(f.col('count_prd')>=2)\n",
    "print('Total customer:', group_user_gt_5.count())\n",
    "group_user_gt_5.show(5)"
   ]
  },
  {
   "cell_type": "code",
   "execution_count": 35,
   "id": "cad72310-b403-4ae2-800a-a3e928bb8fb2",
   "metadata": {},
   "outputs": [
    {
     "name": "stdout",
     "output_type": "stream",
     "text": [
      "Total user: 113654\n"
     ]
    },
    {
     "data": {
      "text/plain": [
       "[148, 463, 496, 1238, 1645]"
      ]
     },
     "execution_count": 35,
     "metadata": {},
     "output_type": "execute_result"
    }
   ],
   "source": [
    "list_user = group_user_gt_5.select('usr_id').rdd.flatMap(lambda x: x).collect()\n",
    "print(\"Total user:\",len(list_user))\n",
    "list_user[:5]"
   ]
  },
  {
   "cell_type": "markdown",
   "id": "e31d726a-0caf-4909-b3bb-512a873962b1",
   "metadata": {},
   "source": [
    "# Preprocessing"
   ]
  },
  {
   "cell_type": "code",
   "execution_count": 18,
   "id": "fe62adc7-1be7-47e2-810a-4a49f7abc5c0",
   "metadata": {},
   "outputs": [
    {
     "name": "stdout",
     "output_type": "stream",
     "text": [
      "+----------+------+------+\n",
      "|product_id|usr_id|rating|\n",
      "+----------+------+------+\n",
      "|       190|     2|     5|\n",
      "|       190|     5|     5|\n",
      "|       190|     6|     5|\n",
      "|       190|     8|     5|\n",
      "|       190|     9|     5|\n",
      "|       190|    10|     5|\n",
      "|       190|    12|     5|\n",
      "|       190|    13|     5|\n",
      "|       190|    18|     5|\n",
      "|       190|    26|     5|\n",
      "|       190|    28|     5|\n",
      "|       190|     6|     5|\n",
      "|       190|    30|     5|\n",
      "|       190|    31|     5|\n",
      "|       190|    32|     5|\n",
      "|       190|    33|     5|\n",
      "|       190|    34|     5|\n",
      "|       190|    35|     5|\n",
      "|       190|    37|     5|\n",
      "|       190|    38|     5|\n",
      "+----------+------+------+\n",
      "only showing top 20 rows\n",
      "\n"
     ]
    }
   ],
   "source": [
    "final_df = df\n",
    "final_df.show()"
   ]
  },
  {
   "cell_type": "code",
   "execution_count": 21,
   "id": "5e48e886-a34a-4b0c-a950-4e37d36be57e",
   "metadata": {},
   "outputs": [
    {
     "name": "stdout",
     "output_type": "stream",
     "text": [
      "+----------+------+------+\n",
      "|product_id|usr_id|rating|\n",
      "+----------+------+------+\n",
      "|         0|     0|     0|\n",
      "+----------+------+------+\n",
      "\n"
     ]
    }
   ],
   "source": [
    "final_df.select([f.count(f.when(f.isnan(c), c)).alias(c) for c in final_df.columns]).show()"
   ]
  },
  {
   "cell_type": "code",
   "execution_count": 22,
   "id": "873654af-d674-4571-881b-1d7e8d184835",
   "metadata": {},
   "outputs": [
    {
     "name": "stdout",
     "output_type": "stream",
     "text": [
      "+----------+------+------+\n",
      "|product_id|usr_id|rating|\n",
      "+----------+------+------+\n",
      "|         0|     0|     0|\n",
      "+----------+------+------+\n",
      "\n"
     ]
    }
   ],
   "source": [
    "final_df.select([f.count(f.when(f.isnull(c), c)).alias(c) for c in final_df.columns]).show()"
   ]
  },
  {
   "cell_type": "markdown",
   "id": "b521e9f7-cd8c-4d8e-8928-ed4c3e421e24",
   "metadata": {
    "tags": []
   },
   "source": [
    "# Split Data"
   ]
  },
  {
   "cell_type": "code",
   "execution_count": 23,
   "id": "f64455a9-1d32-4477-bd7c-ab7bd0de3e84",
   "metadata": {},
   "outputs": [],
   "source": [
    "train, test = final_df.randomSplit([0.8,0.2],seed=42)"
   ]
  },
  {
   "cell_type": "markdown",
   "id": "61732834-eaf4-4a84-81ce-d372cce8c4f2",
   "metadata": {},
   "source": [
    "# Model"
   ]
  },
  {
   "cell_type": "code",
   "execution_count": 26,
   "id": "a7dae928-9cc9-4647-b306-f2c50e97c04d",
   "metadata": {},
   "outputs": [],
   "source": [
    "_maxIter = 10\n",
    "_regParam = 0.01\n",
    "_rank = 20\n",
    "\n",
    "als = ALS(maxIter=_maxIter,\n",
    "          regParam=_regParam, \n",
    "          userCol='usr_id',\n",
    "          itemCol='product_id', \n",
    "          ratingCol='rating', \n",
    "          coldStartStrategy='drop',\n",
    "          rank=_rank,\n",
    "          nonnegative=True)\n",
    "model_t = als.fit(train)"
   ]
  },
  {
   "cell_type": "markdown",
   "id": "5d28bc50-0d06-4f63-8712-da7a05485751",
   "metadata": {},
   "source": [
    "## Evaluation"
   ]
  },
  {
   "cell_type": "code",
   "execution_count": 27,
   "id": "cbf74bcf-7067-4b84-b1f7-5d8026b59b3e",
   "metadata": {
    "id": "X-OgP9nIVCVs"
   },
   "outputs": [],
   "source": [
    "# Evaluate the model by computing the RMSE on the test data\n",
    "predictions = model_t.transform(test)"
   ]
  },
  {
   "cell_type": "code",
   "execution_count": 28,
   "id": "b2e2a5bd-3bff-41ad-9d88-d2be4f73f890",
   "metadata": {
    "id": "IReXbKhbVCVt"
   },
   "outputs": [
    {
     "name": "stdout",
     "output_type": "stream",
     "text": [
      "+----------+------+------+----------+\n",
      "|product_id|usr_id|rating|prediction|\n",
      "+----------+------+------+----------+\n",
      "|       148|    31|     1| 1.2646215|\n",
      "|      1088|   108|     5|  4.226724|\n",
      "|     18800|   368|     3|  4.162443|\n",
      "|    233044|   481|     5|  4.608573|\n",
      "|    174229|   513|     5|  4.815551|\n",
      "+----------+------+------+----------+\n",
      "only showing top 5 rows\n",
      "\n"
     ]
    }
   ],
   "source": [
    "#inspect\n",
    "predictions.show(5)"
   ]
  },
  {
   "cell_type": "code",
   "execution_count": 29,
   "id": "3260d065-bfe0-405e-8bb3-4f9671839971",
   "metadata": {
    "id": "Pl8V2CoaVCVt"
   },
   "outputs": [],
   "source": [
    "#calcuate rmse score\n",
    "evaluator = RegressionEvaluator(metricName=\"rmse\",\n",
    "                                labelCol=\"rating\",\n",
    "                                predictionCol=\"prediction\")\n",
    "rmse = evaluator.evaluate(predictions)"
   ]
  },
  {
   "cell_type": "code",
   "execution_count": 30,
   "id": "e1395aa3-0ca2-4d44-842e-4aec3b5c6eec",
   "metadata": {
    "colab": {
     "base_uri": "https://localhost:8080/"
    },
    "id": "T-34dlobMIyv",
    "outputId": "9e42042c-b349-43b5-b7fc-a2d196072c65"
   },
   "outputs": [
    {
     "name": "stdout",
     "output_type": "stream",
     "text": [
      "Root-mean-square error = 1.2459594940220193\n"
     ]
    }
   ],
   "source": [
    "print(\"Root-mean-square error = \" + str(rmse))"
   ]
  },
  {
   "cell_type": "markdown",
   "id": "54779d55-61f2-46b7-be31-972ca70398da",
   "metadata": {},
   "source": [
    "The model can predict new overall with error nearly 1.0 "
   ]
  },
  {
   "cell_type": "markdown",
   "id": "4398c4e0-cded-4081-a594-12b8d8575435",
   "metadata": {},
   "source": [
    "## Build Pipeline"
   ]
  },
  {
   "cell_type": "code",
   "execution_count": 31,
   "id": "7bf363b8-0db7-4ba2-bddf-c58d1e1ba854",
   "metadata": {},
   "outputs": [],
   "source": [
    "pipeline = Pipeline().setStages([als])\n",
    "p_als_model = pipeline.fit(train)"
   ]
  },
  {
   "cell_type": "code",
   "execution_count": 45,
   "id": "1f03ece6-4041-474b-b597-c39b1484f63d",
   "metadata": {},
   "outputs": [],
   "source": [
    "# save\n",
    "# models_path =' ../DATA/Pyspark/'\n",
    "# p_als_model.save(models_path + \"/als_model\")"
   ]
  },
  {
   "cell_type": "code",
   "execution_count": 35,
   "id": "e9243ae6-1bd7-4850-a9fc-733b641f4fc3",
   "metadata": {},
   "outputs": [],
   "source": [
    "# load\n",
    "# p_als_model = PipelineModel.load(models_path + \"/xgb_model.model\""
   ]
  },
  {
   "cell_type": "code",
   "execution_count": 36,
   "id": "cb719a99-06b8-4e86-905c-6aad5215a1d8",
   "metadata": {
    "id": "6QcxCIkpVCVu"
   },
   "outputs": [],
   "source": [
    "#save model to disk\n",
    "# model_t.save(\"../DATA/Pyspark/recommendation_model_amazon_toys_games\")"
   ]
  },
  {
   "cell_type": "markdown",
   "id": "9c488022-e876-4e19-81f6-f6b0a28fcc9b",
   "metadata": {
    "id": "vNVOyJjJVCVu"
   },
   "source": [
    "## Providing Recommendations: for all users"
   ]
  },
  {
   "cell_type": "code",
   "execution_count": 31,
   "id": "27b06fde-6b53-485e-9989-2c93ee23b464",
   "metadata": {
    "id": "OEDUyeybVCVu"
   },
   "outputs": [],
   "source": [
    "# get 5 recommendations which have highest rating.\n",
    "user_recs = model_t.recommendForAllUsers(5)"
   ]
  },
  {
   "cell_type": "code",
   "execution_count": 32,
   "id": "0d21c807-83db-49e4-b9d4-80d321a72ef8",
   "metadata": {
    "colab": {
     "base_uri": "https://localhost:8080/"
    },
    "id": "L64umoOCgiLz",
    "outputId": "cac9505d-6eaa-40ba-c8c3-883428204744"
   },
   "outputs": [
    {
     "name": "stdout",
     "output_type": "stream",
     "text": [
      "+------+------------------------------------------------------------------------------------------------------+\n",
      "|usr_id|recommendations                                                                                       |\n",
      "+------+------------------------------------------------------------------------------------------------------+\n",
      "|31    |[{10552, 9.198219}, {10529, 9.198219}, {10448, 9.149739}, {172598, 8.324952}, {233614, 8.269331}]     |\n",
      "|34    |[{15747, 7.086456}, {233427, 6.9390316}, {172324, 6.9051256}, {21889, 6.8773227}, {232486, 6.8213263}]|\n",
      "|53    |[{10837, 9.332895}, {234040, 8.957514}, {233635, 8.778513}, {233512, 8.778402}, {234261, 8.777884}]   |\n",
      "|65    |[{25839, 7.963831}, {111273, 7.796167}, {19570, 7.796167}, {131264, 7.6429644}, {161877, 7.6077466}]  |\n",
      "|108   |[{151198, 9.4677515}, {234516, 8.9777}, {131382, 8.807213}, {16321, 8.759116}, {11262, 8.60579}]      |\n",
      "+------+------------------------------------------------------------------------------------------------------+\n",
      "only showing top 5 rows\n",
      "\n"
     ]
    }
   ],
   "source": [
    "user_recs.show(5, truncate=False)"
   ]
  },
  {
   "cell_type": "code",
   "execution_count": 33,
   "id": "9de408ad-0f93-4e1a-828f-ed1226fdddab",
   "metadata": {
    "colab": {
     "base_uri": "https://localhost:8080/"
    },
    "id": "Te6XcXhPj3qs",
    "outputId": "9c187233-96d4-4855-c5de-416422469b1c"
   },
   "outputs": [
    {
     "data": {
      "text/plain": [
       "110083"
      ]
     },
     "execution_count": 33,
     "metadata": {},
     "output_type": "execute_result"
    }
   ],
   "source": [
    "user_recs.select('usr_id').count()"
   ]
  },
  {
   "cell_type": "code",
   "execution_count": 88,
   "id": "4760240b-2abd-4634-802e-91aacd2a1718",
   "metadata": {},
   "outputs": [
    {
     "name": "stdout",
     "output_type": "stream",
     "text": [
      "+------+-------------------+----------+---------+\n",
      "|usr_id|                col|product_id|   rating|\n",
      "+------+-------------------+----------+---------+\n",
      "|    31|  {10552, 9.198219}|     10552| 9.198219|\n",
      "|    31|  {10529, 9.198219}|     10529| 9.198219|\n",
      "|    31|  {10448, 9.149739}|     10448| 9.149739|\n",
      "|    31| {172598, 8.324952}|    172598| 8.324952|\n",
      "|    31| {233614, 8.269331}|    233614| 8.269331|\n",
      "|    34|  {15747, 7.086456}|     15747| 7.086456|\n",
      "|    34|{233427, 6.9390316}|    233427|6.9390316|\n",
      "|    34|{172324, 6.9051256}|    172324|6.9051256|\n",
      "|    34| {21889, 6.8773227}|     21889|6.8773227|\n",
      "|    34|{232486, 6.8213263}|    232486|6.8213263|\n",
      "|    53|  {10837, 9.332895}|     10837| 9.332895|\n",
      "|    53| {234040, 8.957514}|    234040| 8.957514|\n",
      "|    53| {233635, 8.778513}|    233635| 8.778513|\n",
      "|    53| {233512, 8.778402}|    233512| 8.778402|\n",
      "|    53| {234261, 8.777884}|    234261| 8.777884|\n",
      "|    65|  {25839, 7.963831}|     25839| 7.963831|\n",
      "|    65| {111273, 7.796167}|    111273| 7.796167|\n",
      "|    65|  {19570, 7.796167}|     19570| 7.796167|\n",
      "|    65|{131264, 7.6429644}|    131264|7.6429644|\n",
      "|    65|{161877, 7.6077466}|    161877|7.6077466|\n",
      "+------+-------------------+----------+---------+\n",
      "only showing top 20 rows\n",
      "\n"
     ]
    }
   ],
   "source": [
    "result = user_recs.select(f.col('usr_id'),\n",
    "                       f.explode(f.col('recommendations')))\n",
    "\n",
    "result = (result.withColumn('product_id', \n",
    "                               result.col.getField('product_id'))\n",
    "             .withColumn('rating',  \n",
    "                         result.col.getField('rating'))\n",
    "            )\n",
    "result.show()"
   ]
  },
  {
   "cell_type": "code",
   "execution_count": 89,
   "id": "af4226ec-3edb-4304-8602-3b857e54fc18",
   "metadata": {},
   "outputs": [
    {
     "data": {
      "text/html": [
       "<div>\n",
       "<style scoped>\n",
       "    .dataframe tbody tr th:only-of-type {\n",
       "        vertical-align: middle;\n",
       "    }\n",
       "\n",
       "    .dataframe tbody tr th {\n",
       "        vertical-align: top;\n",
       "    }\n",
       "\n",
       "    .dataframe thead th {\n",
       "        text-align: right;\n",
       "    }\n",
       "</style>\n",
       "<table border=\"1\" class=\"dataframe\">\n",
       "  <thead>\n",
       "    <tr style=\"text-align: right;\">\n",
       "      <th></th>\n",
       "      <th>usr_id</th>\n",
       "      <th>product_id</th>\n",
       "      <th>rating</th>\n",
       "    </tr>\n",
       "  </thead>\n",
       "  <tbody>\n",
       "    <tr>\n",
       "      <th>0</th>\n",
       "      <td>31</td>\n",
       "      <td>10552</td>\n",
       "      <td>9.198219</td>\n",
       "    </tr>\n",
       "    <tr>\n",
       "      <th>1</th>\n",
       "      <td>31</td>\n",
       "      <td>10529</td>\n",
       "      <td>9.198219</td>\n",
       "    </tr>\n",
       "    <tr>\n",
       "      <th>2</th>\n",
       "      <td>31</td>\n",
       "      <td>10448</td>\n",
       "      <td>9.149739</td>\n",
       "    </tr>\n",
       "    <tr>\n",
       "      <th>3</th>\n",
       "      <td>31</td>\n",
       "      <td>172598</td>\n",
       "      <td>8.324952</td>\n",
       "    </tr>\n",
       "    <tr>\n",
       "      <th>4</th>\n",
       "      <td>31</td>\n",
       "      <td>233614</td>\n",
       "      <td>8.269331</td>\n",
       "    </tr>\n",
       "  </tbody>\n",
       "</table>\n",
       "</div>"
      ],
      "text/plain": [
       "   usr_id  product_id    rating\n",
       "0      31       10552  9.198219\n",
       "1      31       10529  9.198219\n",
       "2      31       10448  9.149739\n",
       "3      31      172598  8.324952\n",
       "4      31      233614  8.269331"
      ]
     },
     "execution_count": 89,
     "metadata": {},
     "output_type": "execute_result"
    }
   ],
   "source": [
    "result_pd = result.select(['usr_id','product_id','rating']).toPandas()\n",
    "result_pd.head()"
   ]
  },
  {
   "cell_type": "code",
   "execution_count": 92,
   "id": "c081c307-dace-4628-bc2e-8fc50864a1d1",
   "metadata": {},
   "outputs": [
    {
     "name": "stdout",
     "output_type": "stream",
     "text": [
      "10552\n"
     ]
    }
   ],
   "source": [
    "for row in result_pd.itertuples(index=False):\n",
    "    print(row.product_id)\n",
    "    break"
   ]
  },
  {
   "cell_type": "code",
   "execution_count": 94,
   "id": "4ecf38d2-9f66-43e9-926d-f08b1081aeea",
   "metadata": {
    "scrolled": true
   },
   "outputs": [
    {
     "data": {
      "text/plain": [
       "{'user_id': 31,\n",
       " 'recom': [{'product_id': 10552, 'rating': 9.198219299316406},\n",
       "  {'product_id': 10529, 'rating': 9.198219299316406},\n",
       "  {'product_id': 10448, 'rating': 9.149739265441895},\n",
       "  {'product_id': 172598, 'rating': 8.324952125549316},\n",
       "  {'product_id': 233614, 'rating': 8.269330978393555}]}"
      ]
     },
     "execution_count": 94,
     "metadata": {},
     "output_type": "execute_result"
    }
   ],
   "source": [
    "user_id = 31\n",
    "#create a dictionary for user recommendation\n",
    "fil_1 = result_pd['usr_id'] == user_id\n",
    "find_user_rec = result_pd[fil_1]\n",
    "recom = []\n",
    "for row in find_user_rec.itertuples(index=False):\n",
    "    # Access columns using row.column_name\n",
    "    dict_prd = {'product_id':row.product_id, 'rating':row.rating}\n",
    "    recom.append(dict_prd)\n",
    "    #print(row.usr_id, row.product_id, row.rating)\n",
    "\n",
    "recom_user_dict = {'user_id':user_id,'recom': recom}\n",
    "recom_user_dict"
   ]
  },
  {
   "cell_type": "markdown",
   "id": "beda02c4-ef46-4d16-9502-79044b2f2c52",
   "metadata": {
    "id": "wdkVIOhH7SYP"
   },
   "source": [
    "## Save data to file"
   ]
  },
  {
   "cell_type": "code",
   "execution_count": 46,
   "id": "b23a235e-caf7-4866-90a9-aebf1fcb35a3",
   "metadata": {},
   "outputs": [],
   "source": [
    "#final_df.show()"
   ]
  },
  {
   "cell_type": "code",
   "execution_count": 36,
   "id": "11432279-da2b-49bf-806f-48880aae5f3f",
   "metadata": {},
   "outputs": [],
   "source": [
    "# Save to disk\n",
    "#models_path ='../DATA/Pyspark/'\n",
    "#user_recs.write.parquet('Top_5_User_CF.parquet', mode='overwrite')\n",
    "#df_asin_asin_idx.write.parquet('reviews_Toys_and_Games_5_Product.parquet', mode='overwrite')"
   ]
  },
  {
   "cell_type": "markdown",
   "id": "e81addcf-a1f7-4200-89c9-813f966d608e",
   "metadata": {},
   "source": [
    "# Define Function for Recommendation"
   ]
  },
  {
   "cell_type": "code",
   "execution_count": 96,
   "id": "8f33760a-2808-4dc9-b8f1-bd90a30e5c38",
   "metadata": {},
   "outputs": [],
   "source": [
    "def make_recommendation(usr_id,result_: pd.DataFrame):\n",
    "    #create a dictionary for user recommendation\n",
    "    try:\n",
    "        #create a dictionary for user recommendation\n",
    "        fil_1 = result_['usr_id'] == user_id\n",
    "        find_user_rec = result_[fil_1]\n",
    "        recom = []\n",
    "        for row in find_user_rec.itertuples(index=False):\n",
    "            # Access columns using row.column_name\n",
    "            dict_prd = {'product_id':row.product_id, 'rating':row.rating}\n",
    "            recom.append(dict_prd)\n",
    "            #print(row.usr_id, row.product_id, row.rating)\n",
    "        \n",
    "        recom_user_dict = {'user_id':user_id,'recom': recom}\n",
    "        \n",
    "        return recom_user_dict\n",
    "    except Exception as e:\n",
    "        no_value = 'There is no recommendation for this user'\n",
    "        print(no_value)\n",
    "        return None"
   ]
  },
  {
   "cell_type": "code",
   "execution_count": 97,
   "id": "881d518c-5318-4e4e-8f12-0ee83a532fc6",
   "metadata": {},
   "outputs": [
    {
     "data": {
      "text/plain": [
       "{'user_id': 31,\n",
       " 'recom': [{'product_id': 10552, 'rating': 9.198219299316406},\n",
       "  {'product_id': 10529, 'rating': 9.198219299316406},\n",
       "  {'product_id': 10448, 'rating': 9.149739265441895},\n",
       "  {'product_id': 172598, 'rating': 8.324952125549316},\n",
       "  {'product_id': 233614, 'rating': 8.269330978393555}]}"
      ]
     },
     "execution_count": 97,
     "metadata": {},
     "output_type": "execute_result"
    }
   ],
   "source": [
    "test_dict = make_recommendation(usr_id=31,result_=result_pd)\n",
    "test_dict"
   ]
  },
  {
   "cell_type": "code",
   "execution_count": 59,
   "id": "e7740644-1e8b-4f92-aff6-f1f7d9ef3034",
   "metadata": {},
   "outputs": [],
   "source": [
    "# test = pd.DataFrame(data=test_dict)\n",
    "# # Expand the column containing lists\n",
    "# expanded = test['recom'].apply(pd.Series)\n",
    "# user_recom_df = pd.concat([test.drop(columns=['recom']), expanded], axis=1)\n",
    "# user_recom_df"
   ]
  },
  {
   "cell_type": "code",
   "execution_count": 98,
   "id": "507da93f-2aee-4905-9256-16c31b677042",
   "metadata": {},
   "outputs": [],
   "source": [
    "def make_result_dataframe(dic_user_rec):\n",
    "    #adjust rating parameter for filter higher rating\n",
    "    test = pd.DataFrame(data=dic_user_rec)\n",
    "    # Expand the column containing lists\n",
    "    expanded = test['recom'].apply(pd.Series)\n",
    "    user_recom_df = pd.concat([test.drop(columns=['recom']), expanded], axis=1)\n",
    "    user_recom_df\n",
    "    return user_recom_df"
   ]
  },
  {
   "cell_type": "code",
   "execution_count": 99,
   "id": "a45fd60c-e156-418d-8689-f0c63cd8ada7",
   "metadata": {},
   "outputs": [
    {
     "data": {
      "text/html": [
       "<div>\n",
       "<style scoped>\n",
       "    .dataframe tbody tr th:only-of-type {\n",
       "        vertical-align: middle;\n",
       "    }\n",
       "\n",
       "    .dataframe tbody tr th {\n",
       "        vertical-align: top;\n",
       "    }\n",
       "\n",
       "    .dataframe thead th {\n",
       "        text-align: right;\n",
       "    }\n",
       "</style>\n",
       "<table border=\"1\" class=\"dataframe\">\n",
       "  <thead>\n",
       "    <tr style=\"text-align: right;\">\n",
       "      <th></th>\n",
       "      <th>user_id</th>\n",
       "      <th>product_id</th>\n",
       "      <th>rating</th>\n",
       "    </tr>\n",
       "  </thead>\n",
       "  <tbody>\n",
       "    <tr>\n",
       "      <th>0</th>\n",
       "      <td>31</td>\n",
       "      <td>10552.0</td>\n",
       "      <td>9.198219</td>\n",
       "    </tr>\n",
       "    <tr>\n",
       "      <th>1</th>\n",
       "      <td>31</td>\n",
       "      <td>10529.0</td>\n",
       "      <td>9.198219</td>\n",
       "    </tr>\n",
       "    <tr>\n",
       "      <th>2</th>\n",
       "      <td>31</td>\n",
       "      <td>10448.0</td>\n",
       "      <td>9.149739</td>\n",
       "    </tr>\n",
       "    <tr>\n",
       "      <th>3</th>\n",
       "      <td>31</td>\n",
       "      <td>172598.0</td>\n",
       "      <td>8.324952</td>\n",
       "    </tr>\n",
       "    <tr>\n",
       "      <th>4</th>\n",
       "      <td>31</td>\n",
       "      <td>233614.0</td>\n",
       "      <td>8.269331</td>\n",
       "    </tr>\n",
       "  </tbody>\n",
       "</table>\n",
       "</div>"
      ],
      "text/plain": [
       "   user_id  product_id    rating\n",
       "0       31     10552.0  9.198219\n",
       "1       31     10529.0  9.198219\n",
       "2       31     10448.0  9.149739\n",
       "3       31    172598.0  8.324952\n",
       "4       31    233614.0  8.269331"
      ]
     },
     "execution_count": 99,
     "metadata": {},
     "output_type": "execute_result"
    }
   ],
   "source": [
    "make_result_dataframe(dic_user_rec=test_dict)"
   ]
  },
  {
   "cell_type": "markdown",
   "id": "268a24d8-605b-464a-a496-f8f84b47e113",
   "metadata": {},
   "source": [
    "# Then make recommendations to some users: "
   ]
  },
  {
   "cell_type": "markdown",
   "id": "e9555b4f-a9d2-48f2-a843-27b6d0f96567",
   "metadata": {},
   "source": [
    "## Get random user"
   ]
  },
  {
   "cell_type": "code",
   "execution_count": 100,
   "id": "cb2b94ec-8812-43cd-a2ce-1b6206bebb04",
   "metadata": {},
   "outputs": [
    {
     "name": "stdout",
     "output_type": "stream",
     "text": [
      "Random sample: [  7078  38482  57980 134459 258142 215636 327459 516546 118457 384149]\n"
     ]
    }
   ],
   "source": [
    "# Get list user ID\n",
    "full_detail_df = pd.read_csv('../DATA/clean_details.csv')\n",
    "user_id_unique = full_detail_df['user_id'].unique()\n",
    "\n",
    "# Get sample user id: 10 values\n",
    "sample_user = np.random.choice(user_id_unique, size=10, replace=False)\n",
    "print(\"Random sample:\", sample_user)"
   ]
  },
  {
   "cell_type": "code",
   "execution_count": 103,
   "id": "b7452fb6-9c8d-4244-b3ab-8b6bf0741d27",
   "metadata": {},
   "outputs": [
    {
     "data": {
      "text/plain": [
       "7078"
      ]
     },
     "execution_count": 103,
     "metadata": {},
     "output_type": "execute_result"
    }
   ],
   "source": [
    "sample_user[0]"
   ]
  },
  {
   "cell_type": "code",
   "execution_count": 80,
   "id": "b84a037f-642c-41a0-ac52-e32110d1f20f",
   "metadata": {},
   "outputs": [],
   "source": [
    "#make_recommendation(usr_id=102823,result=result)"
   ]
  },
  {
   "cell_type": "code",
   "execution_count": 67,
   "id": "ab51b0ce-697a-44c2-9d9b-e8ea050c0ab2",
   "metadata": {},
   "outputs": [],
   "source": [
    "#final_df.select(f.col(\"usr_id\").alias(\"random_urs_id\")).sample(False, 0.05, seed=0).collect()"
   ]
  },
  {
   "cell_type": "code",
   "execution_count": 106,
   "id": "d9437911-d46f-425a-811b-d3eae3adf9ab",
   "metadata": {
    "scrolled": true
   },
   "outputs": [
    {
     "name": "stdout",
     "output_type": "stream",
     "text": [
      "Recommendation for UserID:  7078\n"
     ]
    },
    {
     "data": {
      "text/html": [
       "<div>\n",
       "<style scoped>\n",
       "    .dataframe tbody tr th:only-of-type {\n",
       "        vertical-align: middle;\n",
       "    }\n",
       "\n",
       "    .dataframe tbody tr th {\n",
       "        vertical-align: top;\n",
       "    }\n",
       "\n",
       "    .dataframe thead th {\n",
       "        text-align: right;\n",
       "    }\n",
       "</style>\n",
       "<table border=\"1\" class=\"dataframe\">\n",
       "  <thead>\n",
       "    <tr style=\"text-align: right;\">\n",
       "      <th></th>\n",
       "      <th>user_id</th>\n",
       "      <th>product_id</th>\n",
       "      <th>rating</th>\n",
       "    </tr>\n",
       "  </thead>\n",
       "  <tbody>\n",
       "    <tr>\n",
       "      <th>0</th>\n",
       "      <td>7078</td>\n",
       "      <td>11717.0</td>\n",
       "      <td>5.794730</td>\n",
       "    </tr>\n",
       "    <tr>\n",
       "      <th>1</th>\n",
       "      <td>7078</td>\n",
       "      <td>232486.0</td>\n",
       "      <td>5.738311</td>\n",
       "    </tr>\n",
       "    <tr>\n",
       "      <th>2</th>\n",
       "      <td>7078</td>\n",
       "      <td>21889.0</td>\n",
       "      <td>5.683164</td>\n",
       "    </tr>\n",
       "    <tr>\n",
       "      <th>3</th>\n",
       "      <td>7078</td>\n",
       "      <td>172726.0</td>\n",
       "      <td>5.642112</td>\n",
       "    </tr>\n",
       "    <tr>\n",
       "      <th>4</th>\n",
       "      <td>7078</td>\n",
       "      <td>19337.0</td>\n",
       "      <td>5.628994</td>\n",
       "    </tr>\n",
       "  </tbody>\n",
       "</table>\n",
       "</div>"
      ],
      "text/plain": [
       "   user_id  product_id    rating\n",
       "0     7078     11717.0  5.794730\n",
       "1     7078    232486.0  5.738311\n",
       "2     7078     21889.0  5.683164\n",
       "3     7078    172726.0  5.642112\n",
       "4     7078     19337.0  5.628994"
      ]
     },
     "metadata": {},
     "output_type": "display_data"
    },
    {
     "name": "stdout",
     "output_type": "stream",
     "text": [
      "Recommendation for UserID:  38482\n"
     ]
    },
    {
     "data": {
      "text/html": [
       "<div>\n",
       "<style scoped>\n",
       "    .dataframe tbody tr th:only-of-type {\n",
       "        vertical-align: middle;\n",
       "    }\n",
       "\n",
       "    .dataframe tbody tr th {\n",
       "        vertical-align: top;\n",
       "    }\n",
       "\n",
       "    .dataframe thead th {\n",
       "        text-align: right;\n",
       "    }\n",
       "</style>\n",
       "<table border=\"1\" class=\"dataframe\">\n",
       "  <thead>\n",
       "    <tr style=\"text-align: right;\">\n",
       "      <th></th>\n",
       "      <th>user_id</th>\n",
       "      <th>product_id</th>\n",
       "      <th>rating</th>\n",
       "    </tr>\n",
       "  </thead>\n",
       "  <tbody>\n",
       "    <tr>\n",
       "      <th>0</th>\n",
       "      <td>38482</td>\n",
       "      <td>16178.0</td>\n",
       "      <td>7.309280</td>\n",
       "    </tr>\n",
       "    <tr>\n",
       "      <th>1</th>\n",
       "      <td>38482</td>\n",
       "      <td>19337.0</td>\n",
       "      <td>7.278183</td>\n",
       "    </tr>\n",
       "    <tr>\n",
       "      <th>2</th>\n",
       "      <td>38482</td>\n",
       "      <td>234284.0</td>\n",
       "      <td>7.232375</td>\n",
       "    </tr>\n",
       "    <tr>\n",
       "      <th>3</th>\n",
       "      <td>38482</td>\n",
       "      <td>21889.0</td>\n",
       "      <td>7.180694</td>\n",
       "    </tr>\n",
       "    <tr>\n",
       "      <th>4</th>\n",
       "      <td>38482</td>\n",
       "      <td>11717.0</td>\n",
       "      <td>7.153756</td>\n",
       "    </tr>\n",
       "  </tbody>\n",
       "</table>\n",
       "</div>"
      ],
      "text/plain": [
       "   user_id  product_id    rating\n",
       "0    38482     16178.0  7.309280\n",
       "1    38482     19337.0  7.278183\n",
       "2    38482    234284.0  7.232375\n",
       "3    38482     21889.0  7.180694\n",
       "4    38482     11717.0  7.153756"
      ]
     },
     "metadata": {},
     "output_type": "display_data"
    },
    {
     "name": "stdout",
     "output_type": "stream",
     "text": [
      "Recommendation for UserID:  57980\n"
     ]
    },
    {
     "data": {
      "text/html": [
       "<div>\n",
       "<style scoped>\n",
       "    .dataframe tbody tr th:only-of-type {\n",
       "        vertical-align: middle;\n",
       "    }\n",
       "\n",
       "    .dataframe tbody tr th {\n",
       "        vertical-align: top;\n",
       "    }\n",
       "\n",
       "    .dataframe thead th {\n",
       "        text-align: right;\n",
       "    }\n",
       "</style>\n",
       "<table border=\"1\" class=\"dataframe\">\n",
       "  <thead>\n",
       "    <tr style=\"text-align: right;\">\n",
       "      <th></th>\n",
       "      <th>user_id</th>\n",
       "      <th>product_id</th>\n",
       "      <th>rating</th>\n",
       "    </tr>\n",
       "  </thead>\n",
       "  <tbody>\n",
       "    <tr>\n",
       "      <th>0</th>\n",
       "      <td>57980</td>\n",
       "      <td>232100.0</td>\n",
       "      <td>5.686516</td>\n",
       "    </tr>\n",
       "    <tr>\n",
       "      <th>1</th>\n",
       "      <td>57980</td>\n",
       "      <td>13725.0</td>\n",
       "      <td>5.641470</td>\n",
       "    </tr>\n",
       "    <tr>\n",
       "      <th>2</th>\n",
       "      <td>57980</td>\n",
       "      <td>231872.0</td>\n",
       "      <td>5.535635</td>\n",
       "    </tr>\n",
       "    <tr>\n",
       "      <th>3</th>\n",
       "      <td>57980</td>\n",
       "      <td>13756.0</td>\n",
       "      <td>5.374990</td>\n",
       "    </tr>\n",
       "    <tr>\n",
       "      <th>4</th>\n",
       "      <td>57980</td>\n",
       "      <td>19337.0</td>\n",
       "      <td>5.345009</td>\n",
       "    </tr>\n",
       "  </tbody>\n",
       "</table>\n",
       "</div>"
      ],
      "text/plain": [
       "   user_id  product_id    rating\n",
       "0    57980    232100.0  5.686516\n",
       "1    57980     13725.0  5.641470\n",
       "2    57980    231872.0  5.535635\n",
       "3    57980     13756.0  5.374990\n",
       "4    57980     19337.0  5.345009"
      ]
     },
     "metadata": {},
     "output_type": "display_data"
    },
    {
     "name": "stdout",
     "output_type": "stream",
     "text": [
      "Recommendation for UserID:  134459\n"
     ]
    },
    {
     "data": {
      "text/html": [
       "<div>\n",
       "<style scoped>\n",
       "    .dataframe tbody tr th:only-of-type {\n",
       "        vertical-align: middle;\n",
       "    }\n",
       "\n",
       "    .dataframe tbody tr th {\n",
       "        vertical-align: top;\n",
       "    }\n",
       "\n",
       "    .dataframe thead th {\n",
       "        text-align: right;\n",
       "    }\n",
       "</style>\n",
       "<table border=\"1\" class=\"dataframe\">\n",
       "  <thead>\n",
       "    <tr style=\"text-align: right;\">\n",
       "      <th></th>\n",
       "      <th>user_id</th>\n",
       "      <th>product_id</th>\n",
       "      <th>rating</th>\n",
       "    </tr>\n",
       "  </thead>\n",
       "  <tbody>\n",
       "    <tr>\n",
       "      <th>0</th>\n",
       "      <td>134459</td>\n",
       "      <td>181117.0</td>\n",
       "      <td>4.999285</td>\n",
       "    </tr>\n",
       "    <tr>\n",
       "      <th>1</th>\n",
       "      <td>134459</td>\n",
       "      <td>141335.0</td>\n",
       "      <td>4.981279</td>\n",
       "    </tr>\n",
       "    <tr>\n",
       "      <th>2</th>\n",
       "      <td>134459</td>\n",
       "      <td>21889.0</td>\n",
       "      <td>4.952895</td>\n",
       "    </tr>\n",
       "    <tr>\n",
       "      <th>3</th>\n",
       "      <td>134459</td>\n",
       "      <td>15747.0</td>\n",
       "      <td>4.866946</td>\n",
       "    </tr>\n",
       "    <tr>\n",
       "      <th>4</th>\n",
       "      <td>134459</td>\n",
       "      <td>11717.0</td>\n",
       "      <td>4.855806</td>\n",
       "    </tr>\n",
       "  </tbody>\n",
       "</table>\n",
       "</div>"
      ],
      "text/plain": [
       "   user_id  product_id    rating\n",
       "0   134459    181117.0  4.999285\n",
       "1   134459    141335.0  4.981279\n",
       "2   134459     21889.0  4.952895\n",
       "3   134459     15747.0  4.866946\n",
       "4   134459     11717.0  4.855806"
      ]
     },
     "metadata": {},
     "output_type": "display_data"
    },
    {
     "name": "stdout",
     "output_type": "stream",
     "text": [
      "Recommendation for UserID:  258142\n"
     ]
    },
    {
     "data": {
      "text/html": [
       "<div>\n",
       "<style scoped>\n",
       "    .dataframe tbody tr th:only-of-type {\n",
       "        vertical-align: middle;\n",
       "    }\n",
       "\n",
       "    .dataframe tbody tr th {\n",
       "        vertical-align: top;\n",
       "    }\n",
       "\n",
       "    .dataframe thead th {\n",
       "        text-align: right;\n",
       "    }\n",
       "</style>\n",
       "<table border=\"1\" class=\"dataframe\">\n",
       "  <thead>\n",
       "    <tr style=\"text-align: right;\">\n",
       "      <th></th>\n",
       "      <th>user_id</th>\n",
       "      <th>product_id</th>\n",
       "      <th>rating</th>\n",
       "    </tr>\n",
       "  </thead>\n",
       "  <tbody>\n",
       "    <tr>\n",
       "      <th>0</th>\n",
       "      <td>258142</td>\n",
       "      <td>19337.0</td>\n",
       "      <td>6.560414</td>\n",
       "    </tr>\n",
       "    <tr>\n",
       "      <th>1</th>\n",
       "      <td>258142</td>\n",
       "      <td>172726.0</td>\n",
       "      <td>6.506807</td>\n",
       "    </tr>\n",
       "    <tr>\n",
       "      <th>2</th>\n",
       "      <td>258142</td>\n",
       "      <td>234284.0</td>\n",
       "      <td>6.433818</td>\n",
       "    </tr>\n",
       "    <tr>\n",
       "      <th>3</th>\n",
       "      <td>258142</td>\n",
       "      <td>21889.0</td>\n",
       "      <td>6.409804</td>\n",
       "    </tr>\n",
       "    <tr>\n",
       "      <th>4</th>\n",
       "      <td>258142</td>\n",
       "      <td>12331.0</td>\n",
       "      <td>6.397433</td>\n",
       "    </tr>\n",
       "  </tbody>\n",
       "</table>\n",
       "</div>"
      ],
      "text/plain": [
       "   user_id  product_id    rating\n",
       "0   258142     19337.0  6.560414\n",
       "1   258142    172726.0  6.506807\n",
       "2   258142    234284.0  6.433818\n",
       "3   258142     21889.0  6.409804\n",
       "4   258142     12331.0  6.397433"
      ]
     },
     "metadata": {},
     "output_type": "display_data"
    },
    {
     "name": "stdout",
     "output_type": "stream",
     "text": [
      "Recommendation for UserID:  215636\n"
     ]
    },
    {
     "data": {
      "text/html": [
       "<div>\n",
       "<style scoped>\n",
       "    .dataframe tbody tr th:only-of-type {\n",
       "        vertical-align: middle;\n",
       "    }\n",
       "\n",
       "    .dataframe tbody tr th {\n",
       "        vertical-align: top;\n",
       "    }\n",
       "\n",
       "    .dataframe thead th {\n",
       "        text-align: right;\n",
       "    }\n",
       "</style>\n",
       "<table border=\"1\" class=\"dataframe\">\n",
       "  <thead>\n",
       "    <tr style=\"text-align: right;\">\n",
       "      <th></th>\n",
       "      <th>user_id</th>\n",
       "      <th>product_id</th>\n",
       "      <th>rating</th>\n",
       "    </tr>\n",
       "  </thead>\n",
       "  <tbody>\n",
       "    <tr>\n",
       "      <th>0</th>\n",
       "      <td>215636</td>\n",
       "      <td>11717.0</td>\n",
       "      <td>6.035505</td>\n",
       "    </tr>\n",
       "    <tr>\n",
       "      <th>1</th>\n",
       "      <td>215636</td>\n",
       "      <td>21889.0</td>\n",
       "      <td>5.976181</td>\n",
       "    </tr>\n",
       "    <tr>\n",
       "      <th>2</th>\n",
       "      <td>215636</td>\n",
       "      <td>12331.0</td>\n",
       "      <td>5.926832</td>\n",
       "    </tr>\n",
       "    <tr>\n",
       "      <th>3</th>\n",
       "      <td>215636</td>\n",
       "      <td>232486.0</td>\n",
       "      <td>5.905541</td>\n",
       "    </tr>\n",
       "    <tr>\n",
       "      <th>4</th>\n",
       "      <td>215636</td>\n",
       "      <td>19337.0</td>\n",
       "      <td>5.903114</td>\n",
       "    </tr>\n",
       "  </tbody>\n",
       "</table>\n",
       "</div>"
      ],
      "text/plain": [
       "   user_id  product_id    rating\n",
       "0   215636     11717.0  6.035505\n",
       "1   215636     21889.0  5.976181\n",
       "2   215636     12331.0  5.926832\n",
       "3   215636    232486.0  5.905541\n",
       "4   215636     19337.0  5.903114"
      ]
     },
     "metadata": {},
     "output_type": "display_data"
    },
    {
     "name": "stdout",
     "output_type": "stream",
     "text": [
      "Recommendation for UserID:  327459\n"
     ]
    },
    {
     "data": {
      "text/html": [
       "<div>\n",
       "<style scoped>\n",
       "    .dataframe tbody tr th:only-of-type {\n",
       "        vertical-align: middle;\n",
       "    }\n",
       "\n",
       "    .dataframe tbody tr th {\n",
       "        vertical-align: top;\n",
       "    }\n",
       "\n",
       "    .dataframe thead th {\n",
       "        text-align: right;\n",
       "    }\n",
       "</style>\n",
       "<table border=\"1\" class=\"dataframe\">\n",
       "  <thead>\n",
       "    <tr style=\"text-align: right;\">\n",
       "      <th></th>\n",
       "      <th>user_id</th>\n",
       "      <th>product_id</th>\n",
       "      <th>rating</th>\n",
       "    </tr>\n",
       "  </thead>\n",
       "  <tbody>\n",
       "    <tr>\n",
       "      <th>0</th>\n",
       "      <td>327459</td>\n",
       "      <td>13573.0</td>\n",
       "      <td>4.997901</td>\n",
       "    </tr>\n",
       "    <tr>\n",
       "      <th>1</th>\n",
       "      <td>327459</td>\n",
       "      <td>13628.0</td>\n",
       "      <td>4.417516</td>\n",
       "    </tr>\n",
       "    <tr>\n",
       "      <th>2</th>\n",
       "      <td>327459</td>\n",
       "      <td>232233.0</td>\n",
       "      <td>4.353266</td>\n",
       "    </tr>\n",
       "    <tr>\n",
       "      <th>3</th>\n",
       "      <td>327459</td>\n",
       "      <td>17777.0</td>\n",
       "      <td>4.291866</td>\n",
       "    </tr>\n",
       "    <tr>\n",
       "      <th>4</th>\n",
       "      <td>327459</td>\n",
       "      <td>21889.0</td>\n",
       "      <td>4.272508</td>\n",
       "    </tr>\n",
       "  </tbody>\n",
       "</table>\n",
       "</div>"
      ],
      "text/plain": [
       "   user_id  product_id    rating\n",
       "0   327459     13573.0  4.997901\n",
       "1   327459     13628.0  4.417516\n",
       "2   327459    232233.0  4.353266\n",
       "3   327459     17777.0  4.291866\n",
       "4   327459     21889.0  4.272508"
      ]
     },
     "metadata": {},
     "output_type": "display_data"
    },
    {
     "name": "stdout",
     "output_type": "stream",
     "text": [
      "Recommendation for UserID:  516546\n"
     ]
    },
    {
     "data": {
      "text/html": [
       "<div>\n",
       "<style scoped>\n",
       "    .dataframe tbody tr th:only-of-type {\n",
       "        vertical-align: middle;\n",
       "    }\n",
       "\n",
       "    .dataframe tbody tr th {\n",
       "        vertical-align: top;\n",
       "    }\n",
       "\n",
       "    .dataframe thead th {\n",
       "        text-align: right;\n",
       "    }\n",
       "</style>\n",
       "<table border=\"1\" class=\"dataframe\">\n",
       "  <thead>\n",
       "    <tr style=\"text-align: right;\">\n",
       "      <th></th>\n",
       "      <th>user_id</th>\n",
       "      <th>product_id</th>\n",
       "      <th>rating</th>\n",
       "    </tr>\n",
       "  </thead>\n",
       "  <tbody>\n",
       "    <tr>\n",
       "      <th>0</th>\n",
       "      <td>516546</td>\n",
       "      <td>16280.0</td>\n",
       "      <td>6.774780</td>\n",
       "    </tr>\n",
       "    <tr>\n",
       "      <th>1</th>\n",
       "      <td>516546</td>\n",
       "      <td>25569.0</td>\n",
       "      <td>6.627365</td>\n",
       "    </tr>\n",
       "    <tr>\n",
       "      <th>2</th>\n",
       "      <td>516546</td>\n",
       "      <td>172324.0</td>\n",
       "      <td>6.624763</td>\n",
       "    </tr>\n",
       "    <tr>\n",
       "      <th>3</th>\n",
       "      <td>516546</td>\n",
       "      <td>15747.0</td>\n",
       "      <td>6.616024</td>\n",
       "    </tr>\n",
       "    <tr>\n",
       "      <th>4</th>\n",
       "      <td>516546</td>\n",
       "      <td>10166.0</td>\n",
       "      <td>6.611340</td>\n",
       "    </tr>\n",
       "  </tbody>\n",
       "</table>\n",
       "</div>"
      ],
      "text/plain": [
       "   user_id  product_id    rating\n",
       "0   516546     16280.0  6.774780\n",
       "1   516546     25569.0  6.627365\n",
       "2   516546    172324.0  6.624763\n",
       "3   516546     15747.0  6.616024\n",
       "4   516546     10166.0  6.611340"
      ]
     },
     "metadata": {},
     "output_type": "display_data"
    },
    {
     "name": "stdout",
     "output_type": "stream",
     "text": [
      "Recommendation for UserID:  118457\n"
     ]
    },
    {
     "data": {
      "text/html": [
       "<div>\n",
       "<style scoped>\n",
       "    .dataframe tbody tr th:only-of-type {\n",
       "        vertical-align: middle;\n",
       "    }\n",
       "\n",
       "    .dataframe tbody tr th {\n",
       "        vertical-align: top;\n",
       "    }\n",
       "\n",
       "    .dataframe thead th {\n",
       "        text-align: right;\n",
       "    }\n",
       "</style>\n",
       "<table border=\"1\" class=\"dataframe\">\n",
       "  <thead>\n",
       "    <tr style=\"text-align: right;\">\n",
       "      <th></th>\n",
       "      <th>user_id</th>\n",
       "      <th>product_id</th>\n",
       "      <th>rating</th>\n",
       "    </tr>\n",
       "  </thead>\n",
       "  <tbody>\n",
       "    <tr>\n",
       "      <th>0</th>\n",
       "      <td>118457</td>\n",
       "      <td>21889.0</td>\n",
       "      <td>1.699261</td>\n",
       "    </tr>\n",
       "    <tr>\n",
       "      <th>1</th>\n",
       "      <td>118457</td>\n",
       "      <td>11717.0</td>\n",
       "      <td>1.697416</td>\n",
       "    </tr>\n",
       "    <tr>\n",
       "      <th>2</th>\n",
       "      <td>118457</td>\n",
       "      <td>172726.0</td>\n",
       "      <td>1.687926</td>\n",
       "    </tr>\n",
       "    <tr>\n",
       "      <th>3</th>\n",
       "      <td>118457</td>\n",
       "      <td>15747.0</td>\n",
       "      <td>1.684354</td>\n",
       "    </tr>\n",
       "    <tr>\n",
       "      <th>4</th>\n",
       "      <td>118457</td>\n",
       "      <td>171429.0</td>\n",
       "      <td>1.683898</td>\n",
       "    </tr>\n",
       "  </tbody>\n",
       "</table>\n",
       "</div>"
      ],
      "text/plain": [
       "   user_id  product_id    rating\n",
       "0   118457     21889.0  1.699261\n",
       "1   118457     11717.0  1.697416\n",
       "2   118457    172726.0  1.687926\n",
       "3   118457     15747.0  1.684354\n",
       "4   118457    171429.0  1.683898"
      ]
     },
     "metadata": {},
     "output_type": "display_data"
    },
    {
     "name": "stdout",
     "output_type": "stream",
     "text": [
      "Recommendation for UserID:  384149\n"
     ]
    },
    {
     "data": {
      "text/html": [
       "<div>\n",
       "<style scoped>\n",
       "    .dataframe tbody tr th:only-of-type {\n",
       "        vertical-align: middle;\n",
       "    }\n",
       "\n",
       "    .dataframe tbody tr th {\n",
       "        vertical-align: top;\n",
       "    }\n",
       "\n",
       "    .dataframe thead th {\n",
       "        text-align: right;\n",
       "    }\n",
       "</style>\n",
       "<table border=\"1\" class=\"dataframe\">\n",
       "  <thead>\n",
       "    <tr style=\"text-align: right;\">\n",
       "      <th></th>\n",
       "      <th>user_id</th>\n",
       "      <th>product_id</th>\n",
       "      <th>rating</th>\n",
       "    </tr>\n",
       "  </thead>\n",
       "  <tbody>\n",
       "    <tr>\n",
       "      <th>0</th>\n",
       "      <td>384149</td>\n",
       "      <td>233427.0</td>\n",
       "      <td>7.150984</td>\n",
       "    </tr>\n",
       "    <tr>\n",
       "      <th>1</th>\n",
       "      <td>384149</td>\n",
       "      <td>25552.0</td>\n",
       "      <td>7.150980</td>\n",
       "    </tr>\n",
       "    <tr>\n",
       "      <th>2</th>\n",
       "      <td>384149</td>\n",
       "      <td>232232.0</td>\n",
       "      <td>7.117294</td>\n",
       "    </tr>\n",
       "    <tr>\n",
       "      <th>3</th>\n",
       "      <td>384149</td>\n",
       "      <td>234284.0</td>\n",
       "      <td>7.078147</td>\n",
       "    </tr>\n",
       "    <tr>\n",
       "      <th>4</th>\n",
       "      <td>384149</td>\n",
       "      <td>21889.0</td>\n",
       "      <td>7.074231</td>\n",
       "    </tr>\n",
       "  </tbody>\n",
       "</table>\n",
       "</div>"
      ],
      "text/plain": [
       "   user_id  product_id    rating\n",
       "0   384149    233427.0  7.150984\n",
       "1   384149     25552.0  7.150980\n",
       "2   384149    232232.0  7.117294\n",
       "3   384149    234284.0  7.078147\n",
       "4   384149     21889.0  7.074231"
      ]
     },
     "metadata": {},
     "output_type": "display_data"
    }
   ],
   "source": [
    "#recommendation for each users\n",
    "for user in sample_user:\n",
    "    user_id = int(user)\n",
    "    user_recom = make_recommendation(usr_id=user_id,result_=result_pd)\n",
    "    if isinstance(user_recom,dict):\n",
    "        result = make_result_dataframe(dic_user_rec=user_recom)\n",
    "        print(\"Recommendation for UserID: \", user_id)\n",
    "        display(result)"
   ]
  },
  {
   "cell_type": "markdown",
   "id": "b0c3ddf6-3607-4214-8620-ff8997f028b9",
   "metadata": {},
   "source": [
    "## Save Data Recommedation:"
   ]
  },
  {
   "cell_type": "code",
   "execution_count": 107,
   "id": "a00218fd-326f-4e62-b74e-1178e96f506a",
   "metadata": {},
   "outputs": [],
   "source": [
    "result_pd.to_csv('../DATA/Pyspark/rcm_user_ALS.csv',index=False)"
   ]
  },
  {
   "cell_type": "code",
   "execution_count": null,
   "id": "cb49374b-4789-417d-83fc-fe3dd7132967",
   "metadata": {},
   "outputs": [],
   "source": []
  },
  {
   "cell_type": "code",
   "execution_count": null,
   "id": "15e32582-bd73-42df-b0fd-db11c494ab24",
   "metadata": {},
   "outputs": [],
   "source": []
  },
  {
   "cell_type": "code",
   "execution_count": null,
   "id": "40a0f078-60f2-4719-9736-c633614af455",
   "metadata": {},
   "outputs": [],
   "source": []
  }
 ],
 "metadata": {
  "kernelspec": {
   "display_name": "Python 3 (ipykernel)",
   "language": "python",
   "name": "python3"
  },
  "language_info": {
   "codemirror_mode": {
    "name": "ipython",
    "version": 3
   },
   "file_extension": ".py",
   "mimetype": "text/x-python",
   "name": "python",
   "nbconvert_exporter": "python",
   "pygments_lexer": "ipython3",
   "version": "3.9.18"
  }
 },
 "nbformat": 4,
 "nbformat_minor": 5
}
