{
 "cells": [
  {
   "cell_type": "code",
   "execution_count": 1,
   "id": "5786109d-ab33-48ff-8e8b-513ad8073c64",
   "metadata": {},
   "outputs": [],
   "source": [
    "%load_ext autoreload\n",
    "%autoreload 2\n",
    "from project_transformer import Data_Wrangling"
   ]
  },
  {
   "cell_type": "code",
   "execution_count": 2,
   "id": "495bdc94-68da-4c45-bdbf-ffe1b72c643c",
   "metadata": {},
   "outputs": [],
   "source": [
    "import pandas as pd\n",
    "import numpy as np\n",
    "from underthesea import word_tokenize, pos_tag, sent_tokenize, sentiment\n",
    "import re\n",
    "import demoji\n",
    "from pyvi import ViPosTagger, ViTokenizer\n",
    "import string\n",
    "from wordcloud import WordCloud\n",
    "import plotly.express as px\n",
    "from sklearn.preprocessing import OrdinalEncoder, LabelEncoder, MinMaxScaler\n",
    "from collections import defaultdict\n",
    "import matplotlib.pyplot as plt \n",
    "import seaborn as sns\n",
    "import glob\n",
    "import os \n",
    "from tqdm.auto import tqdm"
   ]
  },
  {
   "cell_type": "code",
   "execution_count": 3,
   "id": "c791339e-ff7b-4e24-b678-582921103bad",
   "metadata": {},
   "outputs": [
    {
     "data": {
      "text/plain": [
       "<pandas._config.config.option_context at 0x1f25df33e80>"
      ]
     },
     "execution_count": 3,
     "metadata": {},
     "output_type": "execute_result"
    }
   ],
   "source": [
    "tqdm.pandas()\n",
    "pd.option_context('mode.use_inf_as_na', True)"
   ]
  },
  {
   "cell_type": "code",
   "execution_count": 4,
   "id": "6a8a4bcb-77b9-4974-b543-fd747500f7cc",
   "metadata": {},
   "outputs": [
    {
     "name": "stderr",
     "output_type": "stream",
     "text": [
      "[nltk_data] Downloading package punkt to\n",
      "[nltk_data]     C:\\Users\\ASUS\\AppData\\Roaming\\nltk_data...\n",
      "[nltk_data]   Package punkt is already up-to-date!\n",
      "[nltk_data] Downloading package wordnet to\n",
      "[nltk_data]     C:\\Users\\ASUS\\AppData\\Roaming\\nltk_data...\n",
      "[nltk_data]   Package wordnet is already up-to-date!\n"
     ]
    },
    {
     "data": {
      "text/plain": [
       "True"
      ]
     },
     "execution_count": 4,
     "metadata": {},
     "output_type": "execute_result"
    }
   ],
   "source": [
    "import plotly.io as pio\n",
    "pio.renderers.default = 'notebook'\n",
    "import nltk\n",
    "nltk.download('punkt')\n",
    "nltk.download('wordnet')"
   ]
  },
  {
   "cell_type": "code",
   "execution_count": 5,
   "id": "a9687703-7a58-4ed7-a3e1-7c8a10eae4c1",
   "metadata": {},
   "outputs": [],
   "source": [
    "def extract_adjectives_vietnamese(comment):\n",
    "    # Perform part-of-speech tagging\n",
    "    tagged_words = pos_tag(comment)\n",
    "\n",
    "    # Extract adjectives\n",
    "    adjectives = [word for word, pos in tagged_words if pos == 'A']\n",
    "\n",
    "    return adjectives"
   ]
  },
  {
   "cell_type": "code",
   "execution_count": 6,
   "id": "a25c7c15-8ad7-44e7-a395-0eb02e017fd7",
   "metadata": {},
   "outputs": [],
   "source": [
    "def get_top_duplicated_words(word_list, top_n=5):\n",
    "    word_count_dict = Counter(word_list)\n",
    "\n",
    "    # Get the top N duplicated words\n",
    "    top_duplicated_words = word_count_dict.most_common(top_n)\n",
    "\n",
    "    return top_duplicated_words"
   ]
  },
  {
   "cell_type": "code",
   "execution_count": 7,
   "id": "3cc03f9a-a03b-41ca-9a82-5903c1f26442",
   "metadata": {},
   "outputs": [],
   "source": [
    "def create_word_count_dictionary(word_list):\n",
    "    word_count_dict = defaultdict(int)\n",
    "\n",
    "    # Count the occurrences of each word\n",
    "    for word in word_list:\n",
    "        word_count_dict[word] += 1\n",
    "\n",
    "    # Convert the defaultdict to a regular dictionary\n",
    "    word_count_dict = dict(word_count_dict)\n",
    "\n",
    "    return word_count_dict"
   ]
  },
  {
   "cell_type": "markdown",
   "id": "dff5d046-b78d-4acb-89d3-d4bcb550863a",
   "metadata": {},
   "source": [
    "# Load Some Data to preprocess Vietnamese languages"
   ]
  },
  {
   "cell_type": "code",
   "execution_count": 8,
   "id": "fac65f88-6ff0-4e31-ae71-df66431fd033",
   "metadata": {},
   "outputs": [],
   "source": [
    "# EMOJI\n",
    "with open('../DATA/files/emojicon.txt', 'r', encoding=\"utf8\") as file:\n",
    "    emoji_lst = file.read().split('\\n')\n",
    "    emoji_dict = {}\n",
    "    for line in emoji_lst:\n",
    "        key, value = line.split('\\t')\n",
    "        emoji_dict[key] = str(value)\n",
    "\n",
    "# TEEN CODE\n",
    "with open('../DATA/files/teencode.txt', 'r', encoding=\"utf8\") as file:\n",
    "    teen_lst = file.read().split('\\n')\n",
    "    teen_dict = {}\n",
    "    for line in teen_lst:\n",
    "        key, value = line.split('\\t')\n",
    "        teen_dict[key] = str(value)\n",
    "\n",
    "# ENG VIET\n",
    "with open('../DATA/files/english-vnmese.txt', 'r', encoding=\"utf8\") as file:\n",
    "    eng_lst = file.read().split('\\n')\n",
    "    eng_dict = {}\n",
    "    for line in eng_lst:\n",
    "        key, value = line.split('\\t')\n",
    "        eng_dict[key] = str(value)\n",
    "\n",
    "# WRONG WORD\n",
    "with open('../DATA/files/wrong-word.txt', 'r', encoding=\"utf8\") as file:\n",
    "    wrong_lst = file.read().split('\\n')\n",
    "\n",
    "# STOP WORD\n",
    "with open('../DATA/files/vietnamese-stopwords.txt', 'r', encoding=\"utf8\") as file:\n",
    "    stop_lst = file.read().split('\\n')"
   ]
  },
  {
   "cell_type": "markdown",
   "id": "df74f9d3-1926-46a5-adac-693a3f57e0d6",
   "metadata": {},
   "source": [
    "## Build CLEANSER"
   ]
  },
  {
   "cell_type": "code",
   "execution_count": 9,
   "id": "8615a5dc-3bcb-4f3a-9e92-d99db86ba51a",
   "metadata": {},
   "outputs": [],
   "source": [
    "data_cleanser = Data_Wrangling(emoji_dict=emoji_dict,\n",
    "                               teen_dict=teen_dict,\n",
    "                               wrong_lst=wrong_lst,\n",
    "                               eng_vn_dict=eng_dict,\n",
    "                               stop_words=stop_lst)"
   ]
  },
  {
   "cell_type": "code",
   "execution_count": 10,
   "id": "bdb8a621-6f30-4332-ad87-45328d849db7",
   "metadata": {},
   "outputs": [],
   "source": [
    "def process_special_word(text):\n",
    "    # có thể có nhiều từ đặc biệt cần ráp lại với nhau\n",
    "    new_text = ''\n",
    "    text_lst = text.split()\n",
    "    i= 0\n",
    "    # không, chẳng, chả...\n",
    "    if 'không' in text_lst:\n",
    "        while i <= len(text_lst) - 1:\n",
    "            word = text_lst[i]\n",
    "            #print(word)\n",
    "            #print(i)\n",
    "            if  word == 'không':\n",
    "                next_idx = i+1\n",
    "                if next_idx <= len(text_lst) -1:\n",
    "                    word = word +'_'+ text_lst[next_idx]\n",
    "                i= next_idx + 1\n",
    "            else:\n",
    "                i = i+1\n",
    "            new_text = new_text + word + ' '\n",
    "    else:\n",
    "        new_text = text\n",
    "    return new_text.strip()"
   ]
  },
  {
   "cell_type": "code",
   "execution_count": 11,
   "id": "353cd6ab-4783-4183-92ac-f3d3a745e42d",
   "metadata": {},
   "outputs": [],
   "source": [
    "# Hàm để chuẩn hóa các từ có ký tự lặp\n",
    "def normalize_repeated_characters(text):\n",
    "    # Thay thế mọi ký tự lặp liên tiếp bằng một ký tự đó\n",
    "    # Ví dụ: \"ngonnnn\" thành \"ngon\", \"thiệtttt\" thành \"thiệt\"\n",
    "    return re.sub(r'(.)\\1+', r'\\1', text)"
   ]
  },
  {
   "cell_type": "code",
   "execution_count": 12,
   "id": "6d31c78f-8df9-43cb-b696-e15e74b41bfa",
   "metadata": {},
   "outputs": [],
   "source": [
    "def remove_stopword(text, stopwords):\n",
    "    ###### REMOVE stop words\n",
    "    document = ' '.join('' if word in stopwords else word for word in text.split())\n",
    "    #print(document)\n",
    "    ###### DEL excess blank space\n",
    "    document = regex.sub(r'\\s+', ' ', document).strip()\n",
    "    return document"
   ]
  },
  {
   "cell_type": "code",
   "execution_count": 13,
   "id": "360aae70-3c66-4c78-ac2d-a813bdb97981",
   "metadata": {},
   "outputs": [],
   "source": [
    "def process_postag_thesea(text):\n",
    "    new_document = ''\n",
    "    for sentence in sent_tokenize(text):\n",
    "        sentence = sentence.replace('.','')\n",
    "        ###### POS tag\n",
    "        lst_word_type = ['N','Np','A','AB','V','VB','VY','R']\n",
    "        # lst_word_type = ['A','AB','V','VB','VY','R']\n",
    "        sentence = (' '.join( word[0] if word[1].upper() in lst_word_type else '' \n",
    "                             for word in pos_tag(process_special_word(\n",
    "                                 word_tokenize(sentence, format=\"text\")\n",
    "                             )\n",
    "                                                )\n",
    "                            )\n",
    "                   )\n",
    "        new_document = new_document + sentence + ' '\n",
    "        \n",
    "    # DEL excess blank space\n",
    "    new_document = re.sub(r'\\s+', ' ', new_document).strip()\n",
    "\n",
    "    # Remove duplicated characters\n",
    "    new_document = normalize_repeated_characters(text=new_document)\n",
    "\n",
    "    # Remove stop words\n",
    "    # new_document = remove_stopword(text=new_document,stopwords=stop_lst)\n",
    "    return new_document"
   ]
  },
  {
   "cell_type": "markdown",
   "id": "28e6bbe1-6490-4982-aa3e-6425d63b2028",
   "metadata": {},
   "source": [
    "# Overview Data"
   ]
  },
  {
   "cell_type": "markdown",
   "id": "252e7014-05a1-4ef2-ba25-3453aa2ffe4b",
   "metadata": {},
   "source": [
    "## Rating details "
   ]
  },
  {
   "cell_type": "code",
   "execution_count": 14,
   "id": "8f317876-af44-4d8f-8ddf-a9a30578ec80",
   "metadata": {},
   "outputs": [
    {
     "name": "stdout",
     "output_type": "stream",
     "text": [
      "<class 'pandas.core.frame.DataFrame'>\n",
      "RangeIndex: 1024482 entries, 0 to 1024481\n",
      "Data columns (total 4 columns):\n",
      " #   Column      Non-Null Count    Dtype \n",
      "---  ------      --------------    ----- \n",
      " 0   product_id  1024482 non-null  int64 \n",
      " 1   user_id     1024482 non-null  int64 \n",
      " 2   user        1024482 non-null  object\n",
      " 3   rating      1024482 non-null  int64 \n",
      "dtypes: int64(3), object(1)\n",
      "memory usage: 31.3+ MB\n",
      "None\n"
     ]
    },
    {
     "data": {
      "text/html": [
       "<div>\n",
       "<style scoped>\n",
       "    .dataframe tbody tr th:only-of-type {\n",
       "        vertical-align: middle;\n",
       "    }\n",
       "\n",
       "    .dataframe tbody tr th {\n",
       "        vertical-align: top;\n",
       "    }\n",
       "\n",
       "    .dataframe thead th {\n",
       "        text-align: right;\n",
       "    }\n",
       "</style>\n",
       "<table border=\"1\" class=\"dataframe\">\n",
       "  <thead>\n",
       "    <tr style=\"text-align: right;\">\n",
       "      <th></th>\n",
       "      <th>product_id</th>\n",
       "      <th>user_id</th>\n",
       "      <th>user</th>\n",
       "      <th>rating</th>\n",
       "    </tr>\n",
       "  </thead>\n",
       "  <tbody>\n",
       "    <tr>\n",
       "      <th>0</th>\n",
       "      <td>190</td>\n",
       "      <td>1</td>\n",
       "      <td>karmakyun2nd</td>\n",
       "      <td>5</td>\n",
       "    </tr>\n",
       "    <tr>\n",
       "      <th>1</th>\n",
       "      <td>190</td>\n",
       "      <td>2</td>\n",
       "      <td>tranquangvinh_vv</td>\n",
       "      <td>5</td>\n",
       "    </tr>\n",
       "    <tr>\n",
       "      <th>2</th>\n",
       "      <td>190</td>\n",
       "      <td>3</td>\n",
       "      <td>nguyenquoctoan2005</td>\n",
       "      <td>5</td>\n",
       "    </tr>\n",
       "    <tr>\n",
       "      <th>3</th>\n",
       "      <td>190</td>\n",
       "      <td>4</td>\n",
       "      <td>nguyenthuyhavi</td>\n",
       "      <td>5</td>\n",
       "    </tr>\n",
       "    <tr>\n",
       "      <th>4</th>\n",
       "      <td>190</td>\n",
       "      <td>5</td>\n",
       "      <td>luonganh5595</td>\n",
       "      <td>5</td>\n",
       "    </tr>\n",
       "  </tbody>\n",
       "</table>\n",
       "</div>"
      ],
      "text/plain": [
       "   product_id  user_id                user  rating\n",
       "0         190        1        karmakyun2nd       5\n",
       "1         190        2    tranquangvinh_vv       5\n",
       "2         190        3  nguyenquoctoan2005       5\n",
       "3         190        4      nguyenthuyhavi       5\n",
       "4         190        5        luonganh5595       5"
      ]
     },
     "execution_count": 14,
     "metadata": {},
     "output_type": "execute_result"
    }
   ],
   "source": [
    "rating_details = pd.read_csv('../DATA/cung_cap_HV/Products_ThoiTrangNam_rating_raw.csv',delimiter='\\t')\n",
    "print(rating_details.info())\n",
    "rating_details.head()"
   ]
  },
  {
   "cell_type": "markdown",
   "id": "9ecb6333-e846-46a3-9494-047b3ee829e1",
   "metadata": {},
   "source": [
    "## Description of Products"
   ]
  },
  {
   "cell_type": "code",
   "execution_count": 15,
   "id": "dea79695-95e9-46dc-8d47-901de565d3c2",
   "metadata": {},
   "outputs": [
    {
     "name": "stdout",
     "output_type": "stream",
     "text": [
      "<class 'pandas.core.frame.DataFrame'>\n",
      "RangeIndex: 49663 entries, 0 to 49662\n",
      "Data columns (total 9 columns):\n",
      " #   Column        Non-Null Count  Dtype  \n",
      "---  ------        --------------  -----  \n",
      " 0   product_id    49663 non-null  int64  \n",
      " 1   product_name  49663 non-null  object \n",
      " 2   category      49663 non-null  object \n",
      " 3   sub_category  49663 non-null  object \n",
      " 4   link          49663 non-null  object \n",
      " 5   image         36443 non-null  object \n",
      " 6   price         49663 non-null  float64\n",
      " 7   rating        49663 non-null  float64\n",
      " 8   description   48700 non-null  object \n",
      "dtypes: float64(2), int64(1), object(6)\n",
      "memory usage: 3.4+ MB\n",
      "None\n"
     ]
    },
    {
     "data": {
      "text/html": [
       "<div>\n",
       "<style scoped>\n",
       "    .dataframe tbody tr th:only-of-type {\n",
       "        vertical-align: middle;\n",
       "    }\n",
       "\n",
       "    .dataframe tbody tr th {\n",
       "        vertical-align: top;\n",
       "    }\n",
       "\n",
       "    .dataframe thead th {\n",
       "        text-align: right;\n",
       "    }\n",
       "</style>\n",
       "<table border=\"1\" class=\"dataframe\">\n",
       "  <thead>\n",
       "    <tr style=\"text-align: right;\">\n",
       "      <th></th>\n",
       "      <th>product_id</th>\n",
       "      <th>product_name</th>\n",
       "      <th>category</th>\n",
       "      <th>sub_category</th>\n",
       "      <th>link</th>\n",
       "      <th>image</th>\n",
       "      <th>price</th>\n",
       "      <th>rating</th>\n",
       "      <th>description</th>\n",
       "    </tr>\n",
       "  </thead>\n",
       "  <tbody>\n",
       "    <tr>\n",
       "      <th>0</th>\n",
       "      <td>190</td>\n",
       "      <td>Áo ba lỗ thun gân ,form body tôn dáng</td>\n",
       "      <td>Thời Trang Nam</td>\n",
       "      <td>Áo Ba Lỗ</td>\n",
       "      <td>https://shopee.vn/%C3%81o-ba-l%E1%BB%97-thun-g...</td>\n",
       "      <td>https://cf.shopee.vn/file/2c1ca03f5dc42f316fdf...</td>\n",
       "      <td>86250.0</td>\n",
       "      <td>4.9</td>\n",
       "      <td>Danh Mục\\nShopee\\nThời Trang Nam\\nÁo Ba Lỗ\\nCh...</td>\n",
       "    </tr>\n",
       "    <tr>\n",
       "      <th>1</th>\n",
       "      <td>191</td>\n",
       "      <td>Áo Ba Lỗ Nam Trắng Chất Cotton Siêu Mát, Siêu Đẹp</td>\n",
       "      <td>Thời Trang Nam</td>\n",
       "      <td>Áo Ba Lỗ</td>\n",
       "      <td>https://shopee.vn/%C3%81o-Ba-L%E1%BB%97-Nam-Tr...</td>\n",
       "      <td>https://cf.shopee.vn/file/c7ea4c6574dc79be6b26...</td>\n",
       "      <td>26800.0</td>\n",
       "      <td>4.9</td>\n",
       "      <td>Danh Mục\\nShopee\\nThời Trang Nam\\nÁo Ba Lỗ\\nXu...</td>\n",
       "    </tr>\n",
       "    <tr>\n",
       "      <th>2</th>\n",
       "      <td>192</td>\n",
       "      <td>Áo Ba Lỗ Nam Tyasuo chất vải co dãn mát, không...</td>\n",
       "      <td>Thời Trang Nam</td>\n",
       "      <td>Áo Ba Lỗ</td>\n",
       "      <td>https://shopee.vn/%C3%81o-Ba-L%E1%BB%97-Nam-Ty...</td>\n",
       "      <td>https://cf.shopee.vn/file/6f93bcda10efe374f8cc...</td>\n",
       "      <td>39500.0</td>\n",
       "      <td>4.8</td>\n",
       "      <td>Danh Mục\\nShopee\\nThời Trang Nam\\nÁo Ba Lỗ\\nTh...</td>\n",
       "    </tr>\n",
       "    <tr>\n",
       "      <th>3</th>\n",
       "      <td>193</td>\n",
       "      <td>ÁO BA LỖ HÀNG VIỆT NAM 100% COTTON</td>\n",
       "      <td>Thời Trang Nam</td>\n",
       "      <td>Áo Ba Lỗ</td>\n",
       "      <td>https://shopee.vn/%C3%81O-BA-L%E1%BB%96-H%C3%8...</td>\n",
       "      <td>https://cf.shopee.vn/file/1d7ed5e34bff8bc8b49a...</td>\n",
       "      <td>16500.0</td>\n",
       "      <td>4.8</td>\n",
       "      <td>Danh Mục\\nShopee\\nThời Trang Nam\\nÁo Ba Lỗ\\nCh...</td>\n",
       "    </tr>\n",
       "    <tr>\n",
       "      <th>4</th>\n",
       "      <td>194</td>\n",
       "      <td>Áo Thun Nam Thể Thao Ba Lỗ Mẫu Mới Siêu Đẹp (B...</td>\n",
       "      <td>Thời Trang Nam</td>\n",
       "      <td>Áo Ba Lỗ</td>\n",
       "      <td>https://shopee.vn/%C3%81o-Thun-Nam-Th%E1%BB%83...</td>\n",
       "      <td>NaN</td>\n",
       "      <td>45000.0</td>\n",
       "      <td>4.8</td>\n",
       "      <td>Danh Mục\\nShopee\\nThời Trang Nam\\nÁo Ba Lỗ\\nCh...</td>\n",
       "    </tr>\n",
       "  </tbody>\n",
       "</table>\n",
       "</div>"
      ],
      "text/plain": [
       "   product_id                                       product_name  \\\n",
       "0         190              Áo ba lỗ thun gân ,form body tôn dáng   \n",
       "1         191  Áo Ba Lỗ Nam Trắng Chất Cotton Siêu Mát, Siêu Đẹp   \n",
       "2         192  Áo Ba Lỗ Nam Tyasuo chất vải co dãn mát, không...   \n",
       "3         193                 ÁO BA LỖ HÀNG VIỆT NAM 100% COTTON   \n",
       "4         194  Áo Thun Nam Thể Thao Ba Lỗ Mẫu Mới Siêu Đẹp (B...   \n",
       "\n",
       "         category sub_category  \\\n",
       "0  Thời Trang Nam     Áo Ba Lỗ   \n",
       "1  Thời Trang Nam     Áo Ba Lỗ   \n",
       "2  Thời Trang Nam     Áo Ba Lỗ   \n",
       "3  Thời Trang Nam     Áo Ba Lỗ   \n",
       "4  Thời Trang Nam     Áo Ba Lỗ   \n",
       "\n",
       "                                                link  \\\n",
       "0  https://shopee.vn/%C3%81o-ba-l%E1%BB%97-thun-g...   \n",
       "1  https://shopee.vn/%C3%81o-Ba-L%E1%BB%97-Nam-Tr...   \n",
       "2  https://shopee.vn/%C3%81o-Ba-L%E1%BB%97-Nam-Ty...   \n",
       "3  https://shopee.vn/%C3%81O-BA-L%E1%BB%96-H%C3%8...   \n",
       "4  https://shopee.vn/%C3%81o-Thun-Nam-Th%E1%BB%83...   \n",
       "\n",
       "                                               image    price  rating  \\\n",
       "0  https://cf.shopee.vn/file/2c1ca03f5dc42f316fdf...  86250.0     4.9   \n",
       "1  https://cf.shopee.vn/file/c7ea4c6574dc79be6b26...  26800.0     4.9   \n",
       "2  https://cf.shopee.vn/file/6f93bcda10efe374f8cc...  39500.0     4.8   \n",
       "3  https://cf.shopee.vn/file/1d7ed5e34bff8bc8b49a...  16500.0     4.8   \n",
       "4                                                NaN  45000.0     4.8   \n",
       "\n",
       "                                         description  \n",
       "0  Danh Mục\\nShopee\\nThời Trang Nam\\nÁo Ba Lỗ\\nCh...  \n",
       "1  Danh Mục\\nShopee\\nThời Trang Nam\\nÁo Ba Lỗ\\nXu...  \n",
       "2  Danh Mục\\nShopee\\nThời Trang Nam\\nÁo Ba Lỗ\\nTh...  \n",
       "3  Danh Mục\\nShopee\\nThời Trang Nam\\nÁo Ba Lỗ\\nCh...  \n",
       "4  Danh Mục\\nShopee\\nThời Trang Nam\\nÁo Ba Lỗ\\nCh...  "
      ]
     },
     "execution_count": 15,
     "metadata": {},
     "output_type": "execute_result"
    }
   ],
   "source": [
    "prd_des_df = pd.read_csv('../DATA/cung_cap_HV/Products_ThoiTrangNam_raw.csv')\n",
    "print(prd_des_df.info())\n",
    "prd_des_df.head()"
   ]
  },
  {
   "cell_type": "markdown",
   "id": "703a82a5-211e-4963-8e2d-bf582747be7a",
   "metadata": {},
   "source": [
    "# EDA:"
   ]
  },
  {
   "cell_type": "markdown",
   "id": "2b6bdaca-75dc-4f3f-bbcf-5751d22e3ed2",
   "metadata": {},
   "source": [
    "## Rating Details"
   ]
  },
  {
   "cell_type": "code",
   "execution_count": 22,
   "id": "6bc8f9a3-d5e3-4991-bc9a-d7cd33c61970",
   "metadata": {},
   "outputs": [
    {
     "name": "stdout",
     "output_type": "stream",
     "text": [
      "Shape of rating details: (1024482, 4)\n"
     ]
    },
    {
     "data": {
      "text/html": [
       "<div>\n",
       "<style scoped>\n",
       "    .dataframe tbody tr th:only-of-type {\n",
       "        vertical-align: middle;\n",
       "    }\n",
       "\n",
       "    .dataframe tbody tr th {\n",
       "        vertical-align: top;\n",
       "    }\n",
       "\n",
       "    .dataframe thead th {\n",
       "        text-align: right;\n",
       "    }\n",
       "</style>\n",
       "<table border=\"1\" class=\"dataframe\">\n",
       "  <thead>\n",
       "    <tr style=\"text-align: right;\">\n",
       "      <th></th>\n",
       "      <th>product_id</th>\n",
       "      <th>user_id</th>\n",
       "      <th>user</th>\n",
       "      <th>rating</th>\n",
       "    </tr>\n",
       "  </thead>\n",
       "  <tbody>\n",
       "    <tr>\n",
       "      <th>0</th>\n",
       "      <td>190</td>\n",
       "      <td>1</td>\n",
       "      <td>karmakyun2nd</td>\n",
       "      <td>5</td>\n",
       "    </tr>\n",
       "    <tr>\n",
       "      <th>1</th>\n",
       "      <td>190</td>\n",
       "      <td>2</td>\n",
       "      <td>tranquangvinh_vv</td>\n",
       "      <td>5</td>\n",
       "    </tr>\n",
       "    <tr>\n",
       "      <th>2</th>\n",
       "      <td>190</td>\n",
       "      <td>3</td>\n",
       "      <td>nguyenquoctoan2005</td>\n",
       "      <td>5</td>\n",
       "    </tr>\n",
       "    <tr>\n",
       "      <th>3</th>\n",
       "      <td>190</td>\n",
       "      <td>4</td>\n",
       "      <td>nguyenthuyhavi</td>\n",
       "      <td>5</td>\n",
       "    </tr>\n",
       "    <tr>\n",
       "      <th>4</th>\n",
       "      <td>190</td>\n",
       "      <td>5</td>\n",
       "      <td>luonganh5595</td>\n",
       "      <td>5</td>\n",
       "    </tr>\n",
       "  </tbody>\n",
       "</table>\n",
       "</div>"
      ],
      "text/plain": [
       "   product_id  user_id                user  rating\n",
       "0         190        1        karmakyun2nd       5\n",
       "1         190        2    tranquangvinh_vv       5\n",
       "2         190        3  nguyenquoctoan2005       5\n",
       "3         190        4      nguyenthuyhavi       5\n",
       "4         190        5        luonganh5595       5"
      ]
     },
     "execution_count": 22,
     "metadata": {},
     "output_type": "execute_result"
    }
   ],
   "source": [
    "print(\"Shape of rating details:\",rating_details.shape)\n",
    "rating_details.head()"
   ]
  },
  {
   "cell_type": "code",
   "execution_count": 17,
   "id": "c48b6bc3-d353-4e02-b9f5-676965835173",
   "metadata": {},
   "outputs": [
    {
     "data": {
      "text/plain": [
       "product_id    0\n",
       "user_id       0\n",
       "user          0\n",
       "rating        0\n",
       "dtype: int64"
      ]
     },
     "execution_count": 17,
     "metadata": {},
     "output_type": "execute_result"
    }
   ],
   "source": [
    "rating_details.isna().sum()"
   ]
  },
  {
   "cell_type": "markdown",
   "id": "8923d836-cb59-4063-917b-7eb571a82dfc",
   "metadata": {},
   "source": [
    "- Remove nan and transform to datetime"
   ]
  },
  {
   "cell_type": "code",
   "execution_count": 18,
   "id": "5f018775-b114-4fb7-9669-ee6f82926022",
   "metadata": {},
   "outputs": [
    {
     "data": {
      "text/html": [
       "<div>\n",
       "<style scoped>\n",
       "    .dataframe tbody tr th:only-of-type {\n",
       "        vertical-align: middle;\n",
       "    }\n",
       "\n",
       "    .dataframe tbody tr th {\n",
       "        vertical-align: top;\n",
       "    }\n",
       "\n",
       "    .dataframe thead th {\n",
       "        text-align: right;\n",
       "    }\n",
       "</style>\n",
       "<table border=\"1\" class=\"dataframe\">\n",
       "  <thead>\n",
       "    <tr style=\"text-align: right;\">\n",
       "      <th></th>\n",
       "      <th>product_id</th>\n",
       "      <th>user_id</th>\n",
       "      <th>rating</th>\n",
       "    </tr>\n",
       "  </thead>\n",
       "  <tbody>\n",
       "    <tr>\n",
       "      <th>0</th>\n",
       "      <td>190</td>\n",
       "      <td>1</td>\n",
       "      <td>5</td>\n",
       "    </tr>\n",
       "    <tr>\n",
       "      <th>1</th>\n",
       "      <td>190</td>\n",
       "      <td>2</td>\n",
       "      <td>5</td>\n",
       "    </tr>\n",
       "    <tr>\n",
       "      <th>2</th>\n",
       "      <td>190</td>\n",
       "      <td>3</td>\n",
       "      <td>5</td>\n",
       "    </tr>\n",
       "    <tr>\n",
       "      <th>3</th>\n",
       "      <td>190</td>\n",
       "      <td>4</td>\n",
       "      <td>5</td>\n",
       "    </tr>\n",
       "    <tr>\n",
       "      <th>4</th>\n",
       "      <td>190</td>\n",
       "      <td>5</td>\n",
       "      <td>5</td>\n",
       "    </tr>\n",
       "  </tbody>\n",
       "</table>\n",
       "</div>"
      ],
      "text/plain": [
       "   product_id  user_id  rating\n",
       "0         190        1       5\n",
       "1         190        2       5\n",
       "2         190        3       5\n",
       "3         190        4       5\n",
       "4         190        5       5"
      ]
     },
     "execution_count": 18,
     "metadata": {},
     "output_type": "execute_result"
    }
   ],
   "source": [
    "clean_details_df = rating_details.drop(columns='user')\n",
    "clean_details_df.head()"
   ]
  },
  {
   "cell_type": "markdown",
   "id": "48b40670-1d5b-4edc-8c85-f76701b90d06",
   "metadata": {},
   "source": [
    "- Check unique values and transform to ID"
   ]
  },
  {
   "cell_type": "code",
   "execution_count": 19,
   "id": "fbe191da-af3d-47c6-9e8a-b8e9a0eb702e",
   "metadata": {},
   "outputs": [
    {
     "data": {
      "text/plain": [
       "product_id     31267\n",
       "user_id       650636\n",
       "rating             5\n",
       "dtype: int64"
      ]
     },
     "execution_count": 19,
     "metadata": {},
     "output_type": "execute_result"
    }
   ],
   "source": [
    "clean_details_df.nunique()"
   ]
  },
  {
   "cell_type": "markdown",
   "id": "7edfd78c-d2d4-43b4-ae4b-8ccc9f240518",
   "metadata": {},
   "source": [
    "### Numeric data"
   ]
  },
  {
   "cell_type": "code",
   "execution_count": 20,
   "id": "46f99398-97d1-4587-b40b-a3ce16b69353",
   "metadata": {},
   "outputs": [
    {
     "data": {
      "text/plain": [
       "array([5, 4, 3, 2, 1], dtype=int64)"
      ]
     },
     "execution_count": 20,
     "metadata": {},
     "output_type": "execute_result"
    }
   ],
   "source": [
    "clean_details_df['rating'].unique()"
   ]
  },
  {
   "cell_type": "code",
   "execution_count": 21,
   "id": "a9f15d53-d9de-44fb-8d51-10c8bd15d93b",
   "metadata": {},
   "outputs": [
    {
     "data": {
      "image/png": "[encoded data removed]",
      "text/plain": [
       "<Figure size 1000x600 with 2 Axes>"
      ]
     },
     "metadata": {},
     "output_type": "display_data"
    }
   ],
   "source": [
    "fig,ax = plt.subplots(2,1,figsize=(10,6))\n",
    "clean_details_df['rating'].plot(kind='kde',ax=ax[0])\n",
    "clean_details_df['rating'].plot(kind='hist',ax=ax[1])\n",
    "plt.show()"
   ]
  },
  {
   "cell_type": "markdown",
   "id": "a487ee3a-438f-4278-a072-0b154d89aac0",
   "metadata": {},
   "source": [
    "- Drop some data "
   ]
  },
  {
   "cell_type": "markdown",
   "id": "6233776b-0e7c-49d5-96db-08b7f508c613",
   "metadata": {},
   "source": [
    "#### Drop some product with low rating and drop user with one time buy"
   ]
  },
  {
   "cell_type": "markdown",
   "id": "0356e6d0-8d06-4ad8-878e-ef264a82e552",
   "metadata": {},
   "source": [
    "##### PRD"
   ]
  },
  {
   "cell_type": "code",
   "execution_count": 23,
   "id": "d2c9a704-8228-49f7-b0d9-31a55255d118",
   "metadata": {},
   "outputs": [
    {
     "data": {
      "text/html": [
       "<div>\n",
       "<style scoped>\n",
       "    .dataframe tbody tr th:only-of-type {\n",
       "        vertical-align: middle;\n",
       "    }\n",
       "\n",
       "    .dataframe tbody tr th {\n",
       "        vertical-align: top;\n",
       "    }\n",
       "\n",
       "    .dataframe thead th {\n",
       "        text-align: right;\n",
       "    }\n",
       "</style>\n",
       "<table border=\"1\" class=\"dataframe\">\n",
       "  <thead>\n",
       "    <tr style=\"text-align: right;\">\n",
       "      <th></th>\n",
       "      <th>product_id</th>\n",
       "      <th>user_id</th>\n",
       "      <th>rating</th>\n",
       "    </tr>\n",
       "  </thead>\n",
       "  <tbody>\n",
       "    <tr>\n",
       "      <th>0</th>\n",
       "      <td>190</td>\n",
       "      <td>1</td>\n",
       "      <td>5</td>\n",
       "    </tr>\n",
       "    <tr>\n",
       "      <th>1</th>\n",
       "      <td>190</td>\n",
       "      <td>2</td>\n",
       "      <td>5</td>\n",
       "    </tr>\n",
       "    <tr>\n",
       "      <th>2</th>\n",
       "      <td>190</td>\n",
       "      <td>3</td>\n",
       "      <td>5</td>\n",
       "    </tr>\n",
       "    <tr>\n",
       "      <th>3</th>\n",
       "      <td>190</td>\n",
       "      <td>4</td>\n",
       "      <td>5</td>\n",
       "    </tr>\n",
       "    <tr>\n",
       "      <th>4</th>\n",
       "      <td>190</td>\n",
       "      <td>5</td>\n",
       "      <td>5</td>\n",
       "    </tr>\n",
       "  </tbody>\n",
       "</table>\n",
       "</div>"
      ],
      "text/plain": [
       "   product_id  user_id  rating\n",
       "0         190        1       5\n",
       "1         190        2       5\n",
       "2         190        3       5\n",
       "3         190        4       5\n",
       "4         190        5       5"
      ]
     },
     "execution_count": 23,
     "metadata": {},
     "output_type": "execute_result"
    }
   ],
   "source": [
    "clean_details_df.head()"
   ]
  },
  {
   "cell_type": "code",
   "execution_count": 39,
   "id": "636d53d3-c2f6-4453-8370-ed0ffec91058",
   "metadata": {},
   "outputs": [
    {
     "data": {
      "text/html": [
       "<div>\n",
       "<style scoped>\n",
       "    .dataframe tbody tr th:only-of-type {\n",
       "        vertical-align: middle;\n",
       "    }\n",
       "\n",
       "    .dataframe tbody tr th {\n",
       "        vertical-align: top;\n",
       "    }\n",
       "\n",
       "    .dataframe thead th {\n",
       "        text-align: right;\n",
       "    }\n",
       "</style>\n",
       "<table border=\"1\" class=\"dataframe\">\n",
       "  <thead>\n",
       "    <tr style=\"text-align: right;\">\n",
       "      <th></th>\n",
       "      <th>product_id</th>\n",
       "      <th>count_user</th>\n",
       "      <th>avg_rate</th>\n",
       "    </tr>\n",
       "  </thead>\n",
       "  <tbody>\n",
       "    <tr>\n",
       "      <th>0</th>\n",
       "      <td>100</td>\n",
       "      <td>134</td>\n",
       "      <td>4.328358</td>\n",
       "    </tr>\n",
       "    <tr>\n",
       "      <th>1</th>\n",
       "      <td>101</td>\n",
       "      <td>97</td>\n",
       "      <td>4.793814</td>\n",
       "    </tr>\n",
       "    <tr>\n",
       "      <th>2</th>\n",
       "      <td>102</td>\n",
       "      <td>132</td>\n",
       "      <td>4.371212</td>\n",
       "    </tr>\n",
       "    <tr>\n",
       "      <th>3</th>\n",
       "      <td>103</td>\n",
       "      <td>135</td>\n",
       "      <td>4.385185</td>\n",
       "    </tr>\n",
       "    <tr>\n",
       "      <th>4</th>\n",
       "      <td>104</td>\n",
       "      <td>95</td>\n",
       "      <td>4.778947</td>\n",
       "    </tr>\n",
       "  </tbody>\n",
       "</table>\n",
       "</div>"
      ],
      "text/plain": [
       "   product_id  count_user  avg_rate\n",
       "0         100         134  4.328358\n",
       "1         101          97  4.793814\n",
       "2         102         132  4.371212\n",
       "3         103         135  4.385185\n",
       "4         104          95  4.778947"
      ]
     },
     "execution_count": 39,
     "metadata": {},
     "output_type": "execute_result"
    }
   ],
   "source": [
    "group_prd = (clean_details_df.groupby('product_id',as_index=False)\n",
    "              .agg({'user_id':'count', 'rating':'mean'})\n",
    "              .rename(columns={'user_id':'count_user','rating':'avg_rate'}))\n",
    "group_prd.head()"
   ]
  },
  {
   "cell_type": "code",
   "execution_count": 52,
   "id": "99e9e73e-6793-46d5-88b9-94a16d33b622",
   "metadata": {},
   "outputs": [
    {
     "data": {
      "text/html": [
       "<div>\n",
       "<style scoped>\n",
       "    .dataframe tbody tr th:only-of-type {\n",
       "        vertical-align: middle;\n",
       "    }\n",
       "\n",
       "    .dataframe tbody tr th {\n",
       "        vertical-align: top;\n",
       "    }\n",
       "\n",
       "    .dataframe thead th {\n",
       "        text-align: right;\n",
       "    }\n",
       "</style>\n",
       "<table border=\"1\" class=\"dataframe\">\n",
       "  <thead>\n",
       "    <tr style=\"text-align: right;\">\n",
       "      <th></th>\n",
       "      <th>product_id</th>\n",
       "      <th>count_user</th>\n",
       "      <th>avg_rate</th>\n",
       "    </tr>\n",
       "  </thead>\n",
       "  <tbody>\n",
       "    <tr>\n",
       "      <th>0</th>\n",
       "      <td>100</td>\n",
       "      <td>134</td>\n",
       "      <td>4.328358</td>\n",
       "    </tr>\n",
       "    <tr>\n",
       "      <th>1</th>\n",
       "      <td>101</td>\n",
       "      <td>97</td>\n",
       "      <td>4.793814</td>\n",
       "    </tr>\n",
       "    <tr>\n",
       "      <th>2</th>\n",
       "      <td>102</td>\n",
       "      <td>132</td>\n",
       "      <td>4.371212</td>\n",
       "    </tr>\n",
       "    <tr>\n",
       "      <th>3</th>\n",
       "      <td>103</td>\n",
       "      <td>135</td>\n",
       "      <td>4.385185</td>\n",
       "    </tr>\n",
       "    <tr>\n",
       "      <th>4</th>\n",
       "      <td>104</td>\n",
       "      <td>95</td>\n",
       "      <td>4.778947</td>\n",
       "    </tr>\n",
       "  </tbody>\n",
       "</table>\n",
       "</div>"
      ],
      "text/plain": [
       "   product_id  count_user  avg_rate\n",
       "0         100         134  4.328358\n",
       "1         101          97  4.793814\n",
       "2         102         132  4.371212\n",
       "3         103         135  4.385185\n",
       "4         104          95  4.778947"
      ]
     },
     "execution_count": 52,
     "metadata": {},
     "output_type": "execute_result"
    }
   ],
   "source": [
    "filter_1 = group_prd['avg_rate'] >=3\n",
    "group_prd_gt_3 = group_prd[filter_1]\n",
    "group_prd_gt_3.head()"
   ]
  },
  {
   "cell_type": "code",
   "execution_count": 53,
   "id": "36501ca2-5cbc-4850-ad0f-b49fcc7f147c",
   "metadata": {},
   "outputs": [
    {
     "name": "stdout",
     "output_type": "stream",
     "text": [
      "Total product: 30961\n"
     ]
    },
    {
     "data": {
      "text/plain": [
       "[100, 101, 102, 103, 104]"
      ]
     },
     "execution_count": 53,
     "metadata": {},
     "output_type": "execute_result"
    }
   ],
   "source": [
    "list_prd = group_prd_gt_3['product_id'].to_list()\n",
    "print('Total product:',len(list_prd))\n",
    "list_prd[:5]"
   ]
  },
  {
   "cell_type": "markdown",
   "id": "624f12c4-7c36-4170-bedd-ee2cf2b94f72",
   "metadata": {},
   "source": [
    "##### User Group"
   ]
  },
  {
   "cell_type": "code",
   "execution_count": 42,
   "id": "0eb1a27b-0423-447d-9be4-50f9937882e4",
   "metadata": {},
   "outputs": [
    {
     "data": {
      "text/html": [
       "<div>\n",
       "<style scoped>\n",
       "    .dataframe tbody tr th:only-of-type {\n",
       "        vertical-align: middle;\n",
       "    }\n",
       "\n",
       "    .dataframe tbody tr th {\n",
       "        vertical-align: top;\n",
       "    }\n",
       "\n",
       "    .dataframe thead th {\n",
       "        text-align: right;\n",
       "    }\n",
       "</style>\n",
       "<table border=\"1\" class=\"dataframe\">\n",
       "  <thead>\n",
       "    <tr style=\"text-align: right;\">\n",
       "      <th></th>\n",
       "      <th>user_id</th>\n",
       "      <th>count_prd</th>\n",
       "      <th>avg_rate</th>\n",
       "    </tr>\n",
       "  </thead>\n",
       "  <tbody>\n",
       "    <tr>\n",
       "      <th>0</th>\n",
       "      <td>1</td>\n",
       "      <td>1</td>\n",
       "      <td>5.0</td>\n",
       "    </tr>\n",
       "    <tr>\n",
       "      <th>1</th>\n",
       "      <td>2</td>\n",
       "      <td>2</td>\n",
       "      <td>5.0</td>\n",
       "    </tr>\n",
       "    <tr>\n",
       "      <th>2</th>\n",
       "      <td>3</td>\n",
       "      <td>1</td>\n",
       "      <td>5.0</td>\n",
       "    </tr>\n",
       "    <tr>\n",
       "      <th>3</th>\n",
       "      <td>4</td>\n",
       "      <td>1</td>\n",
       "      <td>5.0</td>\n",
       "    </tr>\n",
       "    <tr>\n",
       "      <th>4</th>\n",
       "      <td>5</td>\n",
       "      <td>5</td>\n",
       "      <td>5.0</td>\n",
       "    </tr>\n",
       "  </tbody>\n",
       "</table>\n",
       "</div>"
      ],
      "text/plain": [
       "   user_id  count_prd  avg_rate\n",
       "0        1          1       5.0\n",
       "1        2          2       5.0\n",
       "2        3          1       5.0\n",
       "3        4          1       5.0\n",
       "4        5          5       5.0"
      ]
     },
     "execution_count": 42,
     "metadata": {},
     "output_type": "execute_result"
    }
   ],
   "source": [
    "group_user = (clean_details_df.groupby('user_id',as_index=False)\n",
    "              .agg({'product_id':'count', 'rating':'mean'})\n",
    "              .rename(columns={'product_id':'count_prd','rating':'avg_rate'}))\n",
    "group_user.head()"
   ]
  },
  {
   "cell_type": "code",
   "execution_count": 45,
   "id": "ddfaa22c-21d7-4dd3-9352-8244a330b168",
   "metadata": {},
   "outputs": [
    {
     "name": "stdout",
     "output_type": "stream",
     "text": [
      "Total customer: (113654, 3)\n"
     ]
    },
    {
     "data": {
      "text/html": [
       "<div>\n",
       "<style scoped>\n",
       "    .dataframe tbody tr th:only-of-type {\n",
       "        vertical-align: middle;\n",
       "    }\n",
       "\n",
       "    .dataframe tbody tr th {\n",
       "        vertical-align: top;\n",
       "    }\n",
       "\n",
       "    .dataframe thead th {\n",
       "        text-align: right;\n",
       "    }\n",
       "</style>\n",
       "<table border=\"1\" class=\"dataframe\">\n",
       "  <thead>\n",
       "    <tr style=\"text-align: right;\">\n",
       "      <th></th>\n",
       "      <th>user_id</th>\n",
       "      <th>count_prd</th>\n",
       "      <th>avg_rate</th>\n",
       "    </tr>\n",
       "  </thead>\n",
       "  <tbody>\n",
       "    <tr>\n",
       "      <th>1</th>\n",
       "      <td>2</td>\n",
       "      <td>2</td>\n",
       "      <td>5.000000</td>\n",
       "    </tr>\n",
       "    <tr>\n",
       "      <th>4</th>\n",
       "      <td>5</td>\n",
       "      <td>5</td>\n",
       "      <td>5.000000</td>\n",
       "    </tr>\n",
       "    <tr>\n",
       "      <th>5</th>\n",
       "      <td>6</td>\n",
       "      <td>5</td>\n",
       "      <td>5.000000</td>\n",
       "    </tr>\n",
       "    <tr>\n",
       "      <th>7</th>\n",
       "      <td>8</td>\n",
       "      <td>59</td>\n",
       "      <td>4.372881</td>\n",
       "    </tr>\n",
       "    <tr>\n",
       "      <th>8</th>\n",
       "      <td>9</td>\n",
       "      <td>3</td>\n",
       "      <td>4.333333</td>\n",
       "    </tr>\n",
       "  </tbody>\n",
       "</table>\n",
       "</div>"
      ],
      "text/plain": [
       "   user_id  count_prd  avg_rate\n",
       "1        2          2  5.000000\n",
       "4        5          5  5.000000\n",
       "5        6          5  5.000000\n",
       "7        8         59  4.372881\n",
       "8        9          3  4.333333"
      ]
     },
     "execution_count": 45,
     "metadata": {},
     "output_type": "execute_result"
    }
   ],
   "source": [
    "filter_2 = group_user['count_prd'] >= 2\n",
    "group_user_gt_2 = group_user[filter_2]\n",
    "print('Total customer:', group_user_gt_2.shape)\n",
    "group_user_gt_2.head(5)"
   ]
  },
  {
   "cell_type": "code",
   "execution_count": 46,
   "id": "3b3d553d-1423-4cc5-bce1-acb7e17d267e",
   "metadata": {},
   "outputs": [
    {
     "name": "stdout",
     "output_type": "stream",
     "text": [
      "Total user: 113654\n"
     ]
    },
    {
     "data": {
      "text/plain": [
       "[2, 5, 6, 8, 9]"
      ]
     },
     "execution_count": 46,
     "metadata": {},
     "output_type": "execute_result"
    }
   ],
   "source": [
    "list_user = group_user_gt_2['user_id'].to_list()\n",
    "print(\"Total user:\",len(list_user))\n",
    "list_user[:5]"
   ]
  },
  {
   "cell_type": "code",
   "execution_count": 56,
   "id": "ba48b9b6-0548-4587-9ceb-b424c1f9ab26",
   "metadata": {},
   "outputs": [
    {
     "name": "stdout",
     "output_type": "stream",
     "text": [
      "Shape final_df: (1022489, 3)\n"
     ]
    },
    {
     "data": {
      "text/html": [
       "<div>\n",
       "<style scoped>\n",
       "    .dataframe tbody tr th:only-of-type {\n",
       "        vertical-align: middle;\n",
       "    }\n",
       "\n",
       "    .dataframe tbody tr th {\n",
       "        vertical-align: top;\n",
       "    }\n",
       "\n",
       "    .dataframe thead th {\n",
       "        text-align: right;\n",
       "    }\n",
       "</style>\n",
       "<table border=\"1\" class=\"dataframe\">\n",
       "  <thead>\n",
       "    <tr style=\"text-align: right;\">\n",
       "      <th></th>\n",
       "      <th>product_id</th>\n",
       "      <th>user_id</th>\n",
       "      <th>rating</th>\n",
       "    </tr>\n",
       "  </thead>\n",
       "  <tbody>\n",
       "    <tr>\n",
       "      <th>0</th>\n",
       "      <td>190</td>\n",
       "      <td>1</td>\n",
       "      <td>5</td>\n",
       "    </tr>\n",
       "    <tr>\n",
       "      <th>1</th>\n",
       "      <td>190</td>\n",
       "      <td>2</td>\n",
       "      <td>5</td>\n",
       "    </tr>\n",
       "    <tr>\n",
       "      <th>2</th>\n",
       "      <td>190</td>\n",
       "      <td>3</td>\n",
       "      <td>5</td>\n",
       "    </tr>\n",
       "    <tr>\n",
       "      <th>3</th>\n",
       "      <td>190</td>\n",
       "      <td>4</td>\n",
       "      <td>5</td>\n",
       "    </tr>\n",
       "    <tr>\n",
       "      <th>4</th>\n",
       "      <td>190</td>\n",
       "      <td>5</td>\n",
       "      <td>5</td>\n",
       "    </tr>\n",
       "  </tbody>\n",
       "</table>\n",
       "</div>"
      ],
      "text/plain": [
       "   product_id  user_id  rating\n",
       "0         190        1       5\n",
       "1         190        2       5\n",
       "2         190        3       5\n",
       "3         190        4       5\n",
       "4         190        5       5"
      ]
     },
     "execution_count": 56,
     "metadata": {},
     "output_type": "execute_result"
    }
   ],
   "source": [
    "filter_11 = clean_details_df['product_id'].isin(list_prd)\n",
    "final_detail_df = clean_details_df[filter_11]\n",
    "print(\"Shape final_df:\",final_detail_df.shape)\n",
    "final_detail_df.head()"
   ]
  },
  {
   "cell_type": "code",
   "execution_count": 57,
   "id": "db7f9e35-ed80-42e0-aa98-c57a87ea3cb1",
   "metadata": {},
   "outputs": [
    {
     "name": "stdout",
     "output_type": "stream",
     "text": [
      "Shape final_df: (486351, 3)\n"
     ]
    },
    {
     "data": {
      "text/html": [
       "<div>\n",
       "<style scoped>\n",
       "    .dataframe tbody tr th:only-of-type {\n",
       "        vertical-align: middle;\n",
       "    }\n",
       "\n",
       "    .dataframe tbody tr th {\n",
       "        vertical-align: top;\n",
       "    }\n",
       "\n",
       "    .dataframe thead th {\n",
       "        text-align: right;\n",
       "    }\n",
       "</style>\n",
       "<table border=\"1\" class=\"dataframe\">\n",
       "  <thead>\n",
       "    <tr style=\"text-align: right;\">\n",
       "      <th></th>\n",
       "      <th>product_id</th>\n",
       "      <th>user_id</th>\n",
       "      <th>rating</th>\n",
       "    </tr>\n",
       "  </thead>\n",
       "  <tbody>\n",
       "    <tr>\n",
       "      <th>1</th>\n",
       "      <td>190</td>\n",
       "      <td>2</td>\n",
       "      <td>5</td>\n",
       "    </tr>\n",
       "    <tr>\n",
       "      <th>4</th>\n",
       "      <td>190</td>\n",
       "      <td>5</td>\n",
       "      <td>5</td>\n",
       "    </tr>\n",
       "    <tr>\n",
       "      <th>5</th>\n",
       "      <td>190</td>\n",
       "      <td>6</td>\n",
       "      <td>5</td>\n",
       "    </tr>\n",
       "    <tr>\n",
       "      <th>7</th>\n",
       "      <td>190</td>\n",
       "      <td>8</td>\n",
       "      <td>5</td>\n",
       "    </tr>\n",
       "    <tr>\n",
       "      <th>8</th>\n",
       "      <td>190</td>\n",
       "      <td>9</td>\n",
       "      <td>5</td>\n",
       "    </tr>\n",
       "  </tbody>\n",
       "</table>\n",
       "</div>"
      ],
      "text/plain": [
       "   product_id  user_id  rating\n",
       "1         190        2       5\n",
       "4         190        5       5\n",
       "5         190        6       5\n",
       "7         190        8       5\n",
       "8         190        9       5"
      ]
     },
     "execution_count": 57,
     "metadata": {},
     "output_type": "execute_result"
    }
   ],
   "source": [
    "filter_22 = final_detail_df['user_id'].isin(list_user)\n",
    "final_detail_df = final_detail_df[filter_22]\n",
    "print(\"Shape final_df:\",final_detail_df.shape)\n",
    "final_detail_df.head()"
   ]
  },
  {
   "cell_type": "markdown",
   "id": "cad6a7b0-2825-40fa-82bc-8e0dcf26f43b",
   "metadata": {},
   "source": [
    "### Save Data:"
   ]
  },
  {
   "cell_type": "code",
   "execution_count": 59,
   "id": "e57ed73e-3f5f-43bd-8c30-68567470e272",
   "metadata": {},
   "outputs": [
    {
     "data": {
      "text/html": [
       "<div>\n",
       "<style scoped>\n",
       "    .dataframe tbody tr th:only-of-type {\n",
       "        vertical-align: middle;\n",
       "    }\n",
       "\n",
       "    .dataframe tbody tr th {\n",
       "        vertical-align: top;\n",
       "    }\n",
       "\n",
       "    .dataframe thead th {\n",
       "        text-align: right;\n",
       "    }\n",
       "</style>\n",
       "<table border=\"1\" class=\"dataframe\">\n",
       "  <thead>\n",
       "    <tr style=\"text-align: right;\">\n",
       "      <th></th>\n",
       "      <th>product_id</th>\n",
       "      <th>user_id</th>\n",
       "      <th>rating</th>\n",
       "    </tr>\n",
       "  </thead>\n",
       "  <tbody>\n",
       "    <tr>\n",
       "      <th>count</th>\n",
       "      <td>486351.000000</td>\n",
       "      <td>486351.000000</td>\n",
       "      <td>486351.000000</td>\n",
       "    </tr>\n",
       "    <tr>\n",
       "      <th>mean</th>\n",
       "      <td>62408.151668</td>\n",
       "      <td>143226.680073</td>\n",
       "      <td>4.567095</td>\n",
       "    </tr>\n",
       "    <tr>\n",
       "      <th>std</th>\n",
       "      <td>83086.216321</td>\n",
       "      <td>173845.983819</td>\n",
       "      <td>0.974977</td>\n",
       "    </tr>\n",
       "    <tr>\n",
       "      <th>min</th>\n",
       "      <td>100.000000</td>\n",
       "      <td>2.000000</td>\n",
       "      <td>1.000000</td>\n",
       "    </tr>\n",
       "    <tr>\n",
       "      <th>25%</th>\n",
       "      <td>13455.000000</td>\n",
       "      <td>1305.000000</td>\n",
       "      <td>5.000000</td>\n",
       "    </tr>\n",
       "    <tr>\n",
       "      <th>50%</th>\n",
       "      <td>18938.000000</td>\n",
       "      <td>57304.000000</td>\n",
       "      <td>5.000000</td>\n",
       "    </tr>\n",
       "    <tr>\n",
       "      <th>75%</th>\n",
       "      <td>131012.000000</td>\n",
       "      <td>245489.000000</td>\n",
       "      <td>5.000000</td>\n",
       "    </tr>\n",
       "    <tr>\n",
       "      <th>max</th>\n",
       "      <td>261469.000000</td>\n",
       "      <td>650003.000000</td>\n",
       "      <td>5.000000</td>\n",
       "    </tr>\n",
       "  </tbody>\n",
       "</table>\n",
       "</div>"
      ],
      "text/plain": [
       "          product_id        user_id         rating\n",
       "count  486351.000000  486351.000000  486351.000000\n",
       "mean    62408.151668  143226.680073       4.567095\n",
       "std     83086.216321  173845.983819       0.974977\n",
       "min       100.000000       2.000000       1.000000\n",
       "25%     13455.000000    1305.000000       5.000000\n",
       "50%     18938.000000   57304.000000       5.000000\n",
       "75%    131012.000000  245489.000000       5.000000\n",
       "max    261469.000000  650003.000000       5.000000"
      ]
     },
     "execution_count": 59,
     "metadata": {},
     "output_type": "execute_result"
    }
   ],
   "source": [
    "final_detail_df.describe()"
   ]
  },
  {
   "cell_type": "code",
   "execution_count": 58,
   "id": "33960789-6828-4d6b-bfc8-e09ac83c52de",
   "metadata": {},
   "outputs": [],
   "source": [
    "final_detail_df.to_csv('../DATA/clean_details.csv',index=False)"
   ]
  },
  {
   "cell_type": "markdown",
   "id": "d4a6e626-dad0-4912-b3bc-d9829b7f9305",
   "metadata": {},
   "source": [
    "## Description Data"
   ]
  },
  {
   "cell_type": "code",
   "execution_count": 23,
   "id": "8dfb830f-d35a-44e9-a12c-47ee1f98692f",
   "metadata": {},
   "outputs": [
    {
     "name": "stdout",
     "output_type": "stream",
     "text": [
      "(49663, 9)\n"
     ]
    },
    {
     "data": {
      "text/html": [
       "<div>\n",
       "<style scoped>\n",
       "    .dataframe tbody tr th:only-of-type {\n",
       "        vertical-align: middle;\n",
       "    }\n",
       "\n",
       "    .dataframe tbody tr th {\n",
       "        vertical-align: top;\n",
       "    }\n",
       "\n",
       "    .dataframe thead th {\n",
       "        text-align: right;\n",
       "    }\n",
       "</style>\n",
       "<table border=\"1\" class=\"dataframe\">\n",
       "  <thead>\n",
       "    <tr style=\"text-align: right;\">\n",
       "      <th></th>\n",
       "      <th>product_id</th>\n",
       "      <th>product_name</th>\n",
       "      <th>category</th>\n",
       "      <th>sub_category</th>\n",
       "      <th>link</th>\n",
       "      <th>image</th>\n",
       "      <th>price</th>\n",
       "      <th>rating</th>\n",
       "      <th>description</th>\n",
       "    </tr>\n",
       "  </thead>\n",
       "  <tbody>\n",
       "    <tr>\n",
       "      <th>0</th>\n",
       "      <td>190</td>\n",
       "      <td>Áo ba lỗ thun gân ,form body tôn dáng</td>\n",
       "      <td>Thời Trang Nam</td>\n",
       "      <td>Áo Ba Lỗ</td>\n",
       "      <td>https://shopee.vn/%C3%81o-ba-l%E1%BB%97-thun-g...</td>\n",
       "      <td>https://cf.shopee.vn/file/2c1ca03f5dc42f316fdf...</td>\n",
       "      <td>86250.0</td>\n",
       "      <td>4.9</td>\n",
       "      <td>Danh Mục\\nShopee\\nThời Trang Nam\\nÁo Ba Lỗ\\nCh...</td>\n",
       "    </tr>\n",
       "    <tr>\n",
       "      <th>1</th>\n",
       "      <td>191</td>\n",
       "      <td>Áo Ba Lỗ Nam Trắng Chất Cotton Siêu Mát, Siêu Đẹp</td>\n",
       "      <td>Thời Trang Nam</td>\n",
       "      <td>Áo Ba Lỗ</td>\n",
       "      <td>https://shopee.vn/%C3%81o-Ba-L%E1%BB%97-Nam-Tr...</td>\n",
       "      <td>https://cf.shopee.vn/file/c7ea4c6574dc79be6b26...</td>\n",
       "      <td>26800.0</td>\n",
       "      <td>4.9</td>\n",
       "      <td>Danh Mục\\nShopee\\nThời Trang Nam\\nÁo Ba Lỗ\\nXu...</td>\n",
       "    </tr>\n",
       "    <tr>\n",
       "      <th>2</th>\n",
       "      <td>192</td>\n",
       "      <td>Áo Ba Lỗ Nam Tyasuo chất vải co dãn mát, không...</td>\n",
       "      <td>Thời Trang Nam</td>\n",
       "      <td>Áo Ba Lỗ</td>\n",
       "      <td>https://shopee.vn/%C3%81o-Ba-L%E1%BB%97-Nam-Ty...</td>\n",
       "      <td>https://cf.shopee.vn/file/6f93bcda10efe374f8cc...</td>\n",
       "      <td>39500.0</td>\n",
       "      <td>4.8</td>\n",
       "      <td>Danh Mục\\nShopee\\nThời Trang Nam\\nÁo Ba Lỗ\\nTh...</td>\n",
       "    </tr>\n",
       "    <tr>\n",
       "      <th>3</th>\n",
       "      <td>193</td>\n",
       "      <td>ÁO BA LỖ HÀNG VIỆT NAM 100% COTTON</td>\n",
       "      <td>Thời Trang Nam</td>\n",
       "      <td>Áo Ba Lỗ</td>\n",
       "      <td>https://shopee.vn/%C3%81O-BA-L%E1%BB%96-H%C3%8...</td>\n",
       "      <td>https://cf.shopee.vn/file/1d7ed5e34bff8bc8b49a...</td>\n",
       "      <td>16500.0</td>\n",
       "      <td>4.8</td>\n",
       "      <td>Danh Mục\\nShopee\\nThời Trang Nam\\nÁo Ba Lỗ\\nCh...</td>\n",
       "    </tr>\n",
       "    <tr>\n",
       "      <th>4</th>\n",
       "      <td>194</td>\n",
       "      <td>Áo Thun Nam Thể Thao Ba Lỗ Mẫu Mới Siêu Đẹp (B...</td>\n",
       "      <td>Thời Trang Nam</td>\n",
       "      <td>Áo Ba Lỗ</td>\n",
       "      <td>https://shopee.vn/%C3%81o-Thun-Nam-Th%E1%BB%83...</td>\n",
       "      <td>NaN</td>\n",
       "      <td>45000.0</td>\n",
       "      <td>4.8</td>\n",
       "      <td>Danh Mục\\nShopee\\nThời Trang Nam\\nÁo Ba Lỗ\\nCh...</td>\n",
       "    </tr>\n",
       "  </tbody>\n",
       "</table>\n",
       "</div>"
      ],
      "text/plain": [
       "   product_id                                       product_name  \\\n",
       "0         190              Áo ba lỗ thun gân ,form body tôn dáng   \n",
       "1         191  Áo Ba Lỗ Nam Trắng Chất Cotton Siêu Mát, Siêu Đẹp   \n",
       "2         192  Áo Ba Lỗ Nam Tyasuo chất vải co dãn mát, không...   \n",
       "3         193                 ÁO BA LỖ HÀNG VIỆT NAM 100% COTTON   \n",
       "4         194  Áo Thun Nam Thể Thao Ba Lỗ Mẫu Mới Siêu Đẹp (B...   \n",
       "\n",
       "         category sub_category  \\\n",
       "0  Thời Trang Nam     Áo Ba Lỗ   \n",
       "1  Thời Trang Nam     Áo Ba Lỗ   \n",
       "2  Thời Trang Nam     Áo Ba Lỗ   \n",
       "3  Thời Trang Nam     Áo Ba Lỗ   \n",
       "4  Thời Trang Nam     Áo Ba Lỗ   \n",
       "\n",
       "                                                link  \\\n",
       "0  https://shopee.vn/%C3%81o-ba-l%E1%BB%97-thun-g...   \n",
       "1  https://shopee.vn/%C3%81o-Ba-L%E1%BB%97-Nam-Tr...   \n",
       "2  https://shopee.vn/%C3%81o-Ba-L%E1%BB%97-Nam-Ty...   \n",
       "3  https://shopee.vn/%C3%81O-BA-L%E1%BB%96-H%C3%8...   \n",
       "4  https://shopee.vn/%C3%81o-Thun-Nam-Th%E1%BB%83...   \n",
       "\n",
       "                                               image    price  rating  \\\n",
       "0  https://cf.shopee.vn/file/2c1ca03f5dc42f316fdf...  86250.0     4.9   \n",
       "1  https://cf.shopee.vn/file/c7ea4c6574dc79be6b26...  26800.0     4.9   \n",
       "2  https://cf.shopee.vn/file/6f93bcda10efe374f8cc...  39500.0     4.8   \n",
       "3  https://cf.shopee.vn/file/1d7ed5e34bff8bc8b49a...  16500.0     4.8   \n",
       "4                                                NaN  45000.0     4.8   \n",
       "\n",
       "                                         description  \n",
       "0  Danh Mục\\nShopee\\nThời Trang Nam\\nÁo Ba Lỗ\\nCh...  \n",
       "1  Danh Mục\\nShopee\\nThời Trang Nam\\nÁo Ba Lỗ\\nXu...  \n",
       "2  Danh Mục\\nShopee\\nThời Trang Nam\\nÁo Ba Lỗ\\nTh...  \n",
       "3  Danh Mục\\nShopee\\nThời Trang Nam\\nÁo Ba Lỗ\\nCh...  \n",
       "4  Danh Mục\\nShopee\\nThời Trang Nam\\nÁo Ba Lỗ\\nCh...  "
      ]
     },
     "execution_count": 23,
     "metadata": {},
     "output_type": "execute_result"
    }
   ],
   "source": [
    "print(prd_des_df.shape)\n",
    "prd_des_df.head()"
   ]
  },
  {
   "cell_type": "code",
   "execution_count": 24,
   "id": "5756a2ae-dbb1-4847-8860-90c1a8b2518e",
   "metadata": {},
   "outputs": [
    {
     "data": {
      "text/plain": [
       "product_id          0\n",
       "product_name        0\n",
       "category            0\n",
       "sub_category        0\n",
       "link                0\n",
       "image           13220\n",
       "price               0\n",
       "rating              0\n",
       "description       963\n",
       "dtype: int64"
      ]
     },
     "execution_count": 24,
     "metadata": {},
     "output_type": "execute_result"
    }
   ],
   "source": [
    "prd_des_df.isna().sum()"
   ]
  },
  {
   "cell_type": "code",
   "execution_count": 25,
   "id": "fb7b8f5d-1966-47a2-9369-54e1c88888a4",
   "metadata": {},
   "outputs": [
    {
     "data": {
      "text/plain": [
       "product_id      49653\n",
       "product_name    47103\n",
       "category            1\n",
       "sub_category       17\n",
       "link            49653\n",
       "image           35191\n",
       "price            7792\n",
       "rating             31\n",
       "description     45071\n",
       "dtype: int64"
      ]
     },
     "execution_count": 25,
     "metadata": {},
     "output_type": "execute_result"
    }
   ],
   "source": [
    "prd_des_df.nunique()"
   ]
  },
  {
   "cell_type": "code",
   "execution_count": 26,
   "id": "9b5503fb-08e9-48d1-b89d-3b35563edffe",
   "metadata": {},
   "outputs": [],
   "source": [
    "clean_prd_df = prd_des_df.drop(columns=['category','link','image'])"
   ]
  },
  {
   "cell_type": "markdown",
   "id": "786e0d59-8623-40e4-acdd-cbab4fd94248",
   "metadata": {},
   "source": [
    "- Check na values"
   ]
  },
  {
   "cell_type": "code",
   "execution_count": 27,
   "id": "9c7d1c41-a808-49d9-bec1-cf3b9dbe5a3c",
   "metadata": {},
   "outputs": [
    {
     "data": {
      "text/html": [
       "<div>\n",
       "<style scoped>\n",
       "    .dataframe tbody tr th:only-of-type {\n",
       "        vertical-align: middle;\n",
       "    }\n",
       "\n",
       "    .dataframe tbody tr th {\n",
       "        vertical-align: top;\n",
       "    }\n",
       "\n",
       "    .dataframe thead th {\n",
       "        text-align: right;\n",
       "    }\n",
       "</style>\n",
       "<table border=\"1\" class=\"dataframe\">\n",
       "  <thead>\n",
       "    <tr style=\"text-align: right;\">\n",
       "      <th></th>\n",
       "      <th>product_id</th>\n",
       "      <th>product_name</th>\n",
       "      <th>sub_category</th>\n",
       "      <th>price</th>\n",
       "      <th>rating</th>\n",
       "      <th>description</th>\n",
       "    </tr>\n",
       "  </thead>\n",
       "  <tbody>\n",
       "    <tr>\n",
       "      <th>69</th>\n",
       "      <td>1969</td>\n",
       "      <td>Áo ba lỗ Gym Shark nam sát nách dập vân thun l...</td>\n",
       "      <td>Áo Ba Lỗ</td>\n",
       "      <td>55000.0</td>\n",
       "      <td>5.0</td>\n",
       "      <td>\\n\\n</td>\n",
       "    </tr>\n",
       "    <tr>\n",
       "      <th>119</th>\n",
       "      <td>19119</td>\n",
       "      <td>ÁO BA LỖ NAM CAO CẤP COTTON 100% THẤM HÚT MỒ H...</td>\n",
       "      <td>Áo Ba Lỗ</td>\n",
       "      <td>99000.0</td>\n",
       "      <td>4.9</td>\n",
       "      <td>\\n\\n</td>\n",
       "    </tr>\n",
       "    <tr>\n",
       "      <th>142</th>\n",
       "      <td>19142</td>\n",
       "      <td>Áo Tanktop sát nách ba lỗ cho nam dáng thể tha...</td>\n",
       "      <td>Áo Ba Lỗ</td>\n",
       "      <td>55000.0</td>\n",
       "      <td>5.0</td>\n",
       "      <td>\\n\\n</td>\n",
       "    </tr>\n",
       "    <tr>\n",
       "      <th>180</th>\n",
       "      <td>19180</td>\n",
       "      <td>Áo ba lỗ nam -Áo tank top tập gym nam cao cấp ...</td>\n",
       "      <td>Áo Ba Lỗ</td>\n",
       "      <td>48500.0</td>\n",
       "      <td>4.9</td>\n",
       "      <td>\\n\\n</td>\n",
       "    </tr>\n",
       "    <tr>\n",
       "      <th>183</th>\n",
       "      <td>19183</td>\n",
       "      <td>Áo Tank Top Nam 💝Giống Hình 100%💝 Áo Thun 3 Lỗ...</td>\n",
       "      <td>Áo Ba Lỗ</td>\n",
       "      <td>69000.0</td>\n",
       "      <td>5.0</td>\n",
       "      <td>\\n\\n</td>\n",
       "    </tr>\n",
       "    <tr>\n",
       "      <th>...</th>\n",
       "      <td>...</td>\n",
       "      <td>...</td>\n",
       "      <td>...</td>\n",
       "      <td>...</td>\n",
       "      <td>...</td>\n",
       "      <td>...</td>\n",
       "    </tr>\n",
       "    <tr>\n",
       "      <th>49411</th>\n",
       "      <td>174816</td>\n",
       "      <td>Tất Vớ cổ cao thể thao Nam kẻ 3 sọc chính hãng...</td>\n",
       "      <td>Vớ/Tất</td>\n",
       "      <td>45000.0</td>\n",
       "      <td>5.0</td>\n",
       "      <td>\\n\\n</td>\n",
       "    </tr>\n",
       "    <tr>\n",
       "      <th>49416</th>\n",
       "      <td>174821</td>\n",
       "      <td>CB106 Combo 10 đôi tất vớ nam kiểu 6</td>\n",
       "      <td>Vớ/Tất</td>\n",
       "      <td>49900.0</td>\n",
       "      <td>5.0</td>\n",
       "      <td>\\n\\n</td>\n",
       "    </tr>\n",
       "    <tr>\n",
       "      <th>49428</th>\n",
       "      <td>174833</td>\n",
       "      <td>Đôi tất thể thao dài qua gối thoáng khí thoải ...</td>\n",
       "      <td>Vớ/Tất</td>\n",
       "      <td>35000.0</td>\n",
       "      <td>4.7</td>\n",
       "      <td>\\n\\n</td>\n",
       "    </tr>\n",
       "    <tr>\n",
       "      <th>49583</th>\n",
       "      <td>174988</td>\n",
       "      <td>10 đôi tất lưới Nam thông hơi chống hôi chân</td>\n",
       "      <td>Vớ/Tất</td>\n",
       "      <td>97000.0</td>\n",
       "      <td>5.0</td>\n",
       "      <td>\\n\\n</td>\n",
       "    </tr>\n",
       "    <tr>\n",
       "      <th>49590</th>\n",
       "      <td>174995</td>\n",
       "      <td>FREESHIP ĐƠN 99K_Hộp 10 đôi tất nam chống hôi ...</td>\n",
       "      <td>Vớ/Tất</td>\n",
       "      <td>96600.0</td>\n",
       "      <td>5.0</td>\n",
       "      <td>\\n\\n</td>\n",
       "    </tr>\n",
       "  </tbody>\n",
       "</table>\n",
       "<p>1718 rows × 6 columns</p>\n",
       "</div>"
      ],
      "text/plain": [
       "       product_id                                       product_name  \\\n",
       "69           1969  Áo ba lỗ Gym Shark nam sát nách dập vân thun l...   \n",
       "119         19119  ÁO BA LỖ NAM CAO CẤP COTTON 100% THẤM HÚT MỒ H...   \n",
       "142         19142  Áo Tanktop sát nách ba lỗ cho nam dáng thể tha...   \n",
       "180         19180  Áo ba lỗ nam -Áo tank top tập gym nam cao cấp ...   \n",
       "183         19183  Áo Tank Top Nam 💝Giống Hình 100%💝 Áo Thun 3 Lỗ...   \n",
       "...           ...                                                ...   \n",
       "49411      174816  Tất Vớ cổ cao thể thao Nam kẻ 3 sọc chính hãng...   \n",
       "49416      174821               CB106 Combo 10 đôi tất vớ nam kiểu 6   \n",
       "49428      174833  Đôi tất thể thao dài qua gối thoáng khí thoải ...   \n",
       "49583      174988       10 đôi tất lưới Nam thông hơi chống hôi chân   \n",
       "49590      174995  FREESHIP ĐƠN 99K_Hộp 10 đôi tất nam chống hôi ...   \n",
       "\n",
       "      sub_category    price  rating description  \n",
       "69        Áo Ba Lỗ  55000.0     5.0        \\n\\n  \n",
       "119       Áo Ba Lỗ  99000.0     4.9        \\n\\n  \n",
       "142       Áo Ba Lỗ  55000.0     5.0        \\n\\n  \n",
       "180       Áo Ba Lỗ  48500.0     4.9        \\n\\n  \n",
       "183       Áo Ba Lỗ  69000.0     5.0        \\n\\n  \n",
       "...            ...      ...     ...         ...  \n",
       "49411       Vớ/Tất  45000.0     5.0        \\n\\n  \n",
       "49416       Vớ/Tất  49900.0     5.0        \\n\\n  \n",
       "49428       Vớ/Tất  35000.0     4.7        \\n\\n  \n",
       "49583       Vớ/Tất  97000.0     5.0        \\n\\n  \n",
       "49590       Vớ/Tất  96600.0     5.0        \\n\\n  \n",
       "\n",
       "[1718 rows x 6 columns]"
      ]
     },
     "execution_count": 27,
     "metadata": {},
     "output_type": "execute_result"
    }
   ],
   "source": [
    "clean_prd_df[clean_prd_df['description'] == '\\n\\n']"
   ]
  },
  {
   "cell_type": "code",
   "execution_count": 28,
   "id": "26ec03f3-802f-4f0a-81f0-a2e43cd20a01",
   "metadata": {},
   "outputs": [],
   "source": [
    "drop_index = clean_prd_df[clean_prd_df.duplicated(subset=['product_id'],keep=False)&(clean_prd_df['description'] == '\\n\\n')].index\n",
    "clean_prd_df = clean_prd_df.drop(index=drop_index)"
   ]
  },
  {
   "cell_type": "markdown",
   "id": "1ac51273-9ba8-4753-9c06-2cbb907fe780",
   "metadata": {},
   "source": [
    "- View duplicate"
   ]
  },
  {
   "cell_type": "code",
   "execution_count": 29,
   "id": "900c1da7-48ea-4b6c-98c3-43b8e1aec900",
   "metadata": {},
   "outputs": [
    {
     "data": {
      "text/html": [
       "<div>\n",
       "<style scoped>\n",
       "    .dataframe tbody tr th:only-of-type {\n",
       "        vertical-align: middle;\n",
       "    }\n",
       "\n",
       "    .dataframe tbody tr th {\n",
       "        vertical-align: top;\n",
       "    }\n",
       "\n",
       "    .dataframe thead th {\n",
       "        text-align: right;\n",
       "    }\n",
       "</style>\n",
       "<table border=\"1\" class=\"dataframe\">\n",
       "  <thead>\n",
       "    <tr style=\"text-align: right;\">\n",
       "      <th></th>\n",
       "      <th>product_id</th>\n",
       "      <th>product_name</th>\n",
       "      <th>sub_category</th>\n",
       "      <th>price</th>\n",
       "      <th>rating</th>\n",
       "      <th>description</th>\n",
       "    </tr>\n",
       "  </thead>\n",
       "  <tbody>\n",
       "    <tr>\n",
       "      <th>25401</th>\n",
       "      <td>11824</td>\n",
       "      <td>Quần baggy ống rộng khoá gối - Hot 2021 - Jean...</td>\n",
       "      <td>Khác</td>\n",
       "      <td>165220.0</td>\n",
       "      <td>4.8</td>\n",
       "      <td>Danh Mục\\nShopee\\nThời Trang Nam\\nKhác\\nKho hà...</td>\n",
       "    </tr>\n",
       "    <tr>\n",
       "      <th>30437</th>\n",
       "      <td>11824</td>\n",
       "      <td>Quần baggy ống rộng khoá gối - Hot 2021 - Jean...</td>\n",
       "      <td>Khác</td>\n",
       "      <td>165220.0</td>\n",
       "      <td>4.8</td>\n",
       "      <td>Danh Mục\\nShopee\\nThời Trang Nam\\nKhác\\nKho hà...</td>\n",
       "    </tr>\n",
       "    <tr>\n",
       "      <th>25406</th>\n",
       "      <td>11829</td>\n",
       "      <td>Mũ Lưỡi Trai Cotton Thêu Chữ Ground Thời Trang...</td>\n",
       "      <td>Khác</td>\n",
       "      <td>54000.0</td>\n",
       "      <td>4.7</td>\n",
       "      <td>Danh Mục\\nShopee\\nThời Trang Nam\\nKhác\\nKho hà...</td>\n",
       "    </tr>\n",
       "    <tr>\n",
       "      <th>30439</th>\n",
       "      <td>11829</td>\n",
       "      <td>Mũ Lưỡi Trai Cotton Thêu Chữ Ground Thời Trang...</td>\n",
       "      <td>Khác</td>\n",
       "      <td>52000.0</td>\n",
       "      <td>4.7</td>\n",
       "      <td>Danh Mục\\nShopee\\nThời Trang Nam\\nKhác\\nKho hà...</td>\n",
       "    </tr>\n",
       "    <tr>\n",
       "      <th>25419</th>\n",
       "      <td>11842</td>\n",
       "      <td>Xích quần Jeans - Mã XQJ043</td>\n",
       "      <td>Khác</td>\n",
       "      <td>159000.0</td>\n",
       "      <td>5.0</td>\n",
       "      <td>Danh Mục\\nShopee\\nThời Trang Nam\\nKhác\\nKho hà...</td>\n",
       "    </tr>\n",
       "    <tr>\n",
       "      <th>30442</th>\n",
       "      <td>11842</td>\n",
       "      <td>Xích quần Jeans - Mã XQJ043</td>\n",
       "      <td>Khác</td>\n",
       "      <td>159000.0</td>\n",
       "      <td>5.0</td>\n",
       "      <td>Danh Mục\\nShopee\\nThời Trang Nam\\nKhác\\nKho hà...</td>\n",
       "    </tr>\n",
       "    <tr>\n",
       "      <th>25434</th>\n",
       "      <td>11857</td>\n",
       "      <td>Thắt lưng vải canvas chất lượng cao thời trang...</td>\n",
       "      <td>Khác</td>\n",
       "      <td>26100.0</td>\n",
       "      <td>4.5</td>\n",
       "      <td>Danh Mục\\nShopee\\nThời Trang Nam\\nKhác\\nSố lượ...</td>\n",
       "    </tr>\n",
       "    <tr>\n",
       "      <th>30445</th>\n",
       "      <td>11857</td>\n",
       "      <td>Thắt lưng vải canvas chất lượng cao thời trang...</td>\n",
       "      <td>Khác</td>\n",
       "      <td>26100.0</td>\n",
       "      <td>4.5</td>\n",
       "      <td>Danh Mục\\nShopee\\nThời Trang Nam\\nKhác\\nSố lượ...</td>\n",
       "    </tr>\n",
       "    <tr>\n",
       "      <th>25437</th>\n",
       "      <td>11860</td>\n",
       "      <td>Vòng Tay và Nhẫn Unisex Tin Dành Cho Nam Nữ Th...</td>\n",
       "      <td>Khác</td>\n",
       "      <td>44000.0</td>\n",
       "      <td>4.9</td>\n",
       "      <td>Danh Mục\\nShopee\\nThời Trang Nam\\nKhác\\nKho hà...</td>\n",
       "    </tr>\n",
       "    <tr>\n",
       "      <th>30446</th>\n",
       "      <td>11860</td>\n",
       "      <td>Vòng Tay và Nhẫn Unisex Tin Dành Cho Nam Nữ Th...</td>\n",
       "      <td>Khác</td>\n",
       "      <td>44000.0</td>\n",
       "      <td>4.9</td>\n",
       "      <td>Danh Mục\\nShopee\\nThời Trang Nam\\nKhác\\nKho hà...</td>\n",
       "    </tr>\n",
       "  </tbody>\n",
       "</table>\n",
       "</div>"
      ],
      "text/plain": [
       "       product_id                                       product_name  \\\n",
       "25401       11824  Quần baggy ống rộng khoá gối - Hot 2021 - Jean...   \n",
       "30437       11824  Quần baggy ống rộng khoá gối - Hot 2021 - Jean...   \n",
       "25406       11829  Mũ Lưỡi Trai Cotton Thêu Chữ Ground Thời Trang...   \n",
       "30439       11829  Mũ Lưỡi Trai Cotton Thêu Chữ Ground Thời Trang...   \n",
       "25419       11842                        Xích quần Jeans - Mã XQJ043   \n",
       "30442       11842                        Xích quần Jeans - Mã XQJ043   \n",
       "25434       11857  Thắt lưng vải canvas chất lượng cao thời trang...   \n",
       "30445       11857  Thắt lưng vải canvas chất lượng cao thời trang...   \n",
       "25437       11860  Vòng Tay và Nhẫn Unisex Tin Dành Cho Nam Nữ Th...   \n",
       "30446       11860  Vòng Tay và Nhẫn Unisex Tin Dành Cho Nam Nữ Th...   \n",
       "\n",
       "      sub_category     price  rating  \\\n",
       "25401         Khác  165220.0     4.8   \n",
       "30437         Khác  165220.0     4.8   \n",
       "25406         Khác   54000.0     4.7   \n",
       "30439         Khác   52000.0     4.7   \n",
       "25419         Khác  159000.0     5.0   \n",
       "30442         Khác  159000.0     5.0   \n",
       "25434         Khác   26100.0     4.5   \n",
       "30445         Khác   26100.0     4.5   \n",
       "25437         Khác   44000.0     4.9   \n",
       "30446         Khác   44000.0     4.9   \n",
       "\n",
       "                                             description  \n",
       "25401  Danh Mục\\nShopee\\nThời Trang Nam\\nKhác\\nKho hà...  \n",
       "30437  Danh Mục\\nShopee\\nThời Trang Nam\\nKhác\\nKho hà...  \n",
       "25406  Danh Mục\\nShopee\\nThời Trang Nam\\nKhác\\nKho hà...  \n",
       "30439  Danh Mục\\nShopee\\nThời Trang Nam\\nKhác\\nKho hà...  \n",
       "25419  Danh Mục\\nShopee\\nThời Trang Nam\\nKhác\\nKho hà...  \n",
       "30442  Danh Mục\\nShopee\\nThời Trang Nam\\nKhác\\nKho hà...  \n",
       "25434  Danh Mục\\nShopee\\nThời Trang Nam\\nKhác\\nSố lượ...  \n",
       "30445  Danh Mục\\nShopee\\nThời Trang Nam\\nKhác\\nSố lượ...  \n",
       "25437  Danh Mục\\nShopee\\nThời Trang Nam\\nKhác\\nKho hà...  \n",
       "30446  Danh Mục\\nShopee\\nThời Trang Nam\\nKhác\\nKho hà...  "
      ]
     },
     "execution_count": 29,
     "metadata": {},
     "output_type": "execute_result"
    }
   ],
   "source": [
    "clean_prd_df[clean_prd_df.duplicated(subset=['product_id'],keep=False)].sort_values('product_id')"
   ]
  },
  {
   "cell_type": "code",
   "execution_count": 30,
   "id": "dcde444e-16c2-4102-92e3-9104165b8fa5",
   "metadata": {},
   "outputs": [],
   "source": [
    "clean_prd_df = clean_prd_df.drop_duplicates(subset='product_id')"
   ]
  },
  {
   "cell_type": "code",
   "execution_count": 31,
   "id": "0f17a8cc-b66d-42ee-887c-75f8a405339b",
   "metadata": {},
   "outputs": [],
   "source": [
    "#clean_prd_df[clean_prd_df.duplicated(subset=['product_name'],keep=False)].sort_values('product_name')"
   ]
  },
  {
   "cell_type": "code",
   "execution_count": 32,
   "id": "d214dd57-9b16-4783-8cab-cbc69d32d508",
   "metadata": {},
   "outputs": [
    {
     "data": {
      "text/html": [
       "<div>\n",
       "<style scoped>\n",
       "    .dataframe tbody tr th:only-of-type {\n",
       "        vertical-align: middle;\n",
       "    }\n",
       "\n",
       "    .dataframe tbody tr th {\n",
       "        vertical-align: top;\n",
       "    }\n",
       "\n",
       "    .dataframe thead th {\n",
       "        text-align: right;\n",
       "    }\n",
       "</style>\n",
       "<table border=\"1\" class=\"dataframe\">\n",
       "  <thead>\n",
       "    <tr style=\"text-align: right;\">\n",
       "      <th></th>\n",
       "      <th>product_id</th>\n",
       "      <th>product_name</th>\n",
       "      <th>sub_category</th>\n",
       "      <th>price</th>\n",
       "      <th>rating</th>\n",
       "      <th>description</th>\n",
       "    </tr>\n",
       "  </thead>\n",
       "  <tbody>\n",
       "    <tr>\n",
       "      <th>0</th>\n",
       "      <td>190</td>\n",
       "      <td>Áo ba lỗ thun gân ,form body tôn dáng</td>\n",
       "      <td>Áo Ba Lỗ</td>\n",
       "      <td>86250.0</td>\n",
       "      <td>4.9</td>\n",
       "      <td>Danh Mục\\nShopee\\nThời Trang Nam\\nÁo Ba Lỗ\\nCh...</td>\n",
       "    </tr>\n",
       "    <tr>\n",
       "      <th>1</th>\n",
       "      <td>191</td>\n",
       "      <td>Áo Ba Lỗ Nam Trắng Chất Cotton Siêu Mát, Siêu Đẹp</td>\n",
       "      <td>Áo Ba Lỗ</td>\n",
       "      <td>26800.0</td>\n",
       "      <td>4.9</td>\n",
       "      <td>Danh Mục\\nShopee\\nThời Trang Nam\\nÁo Ba Lỗ\\nXu...</td>\n",
       "    </tr>\n",
       "    <tr>\n",
       "      <th>2</th>\n",
       "      <td>192</td>\n",
       "      <td>Áo Ba Lỗ Nam Tyasuo chất vải co dãn mát, không...</td>\n",
       "      <td>Áo Ba Lỗ</td>\n",
       "      <td>39500.0</td>\n",
       "      <td>4.8</td>\n",
       "      <td>Danh Mục\\nShopee\\nThời Trang Nam\\nÁo Ba Lỗ\\nTh...</td>\n",
       "    </tr>\n",
       "    <tr>\n",
       "      <th>3</th>\n",
       "      <td>193</td>\n",
       "      <td>ÁO BA LỖ HÀNG VIỆT NAM 100% COTTON</td>\n",
       "      <td>Áo Ba Lỗ</td>\n",
       "      <td>16500.0</td>\n",
       "      <td>4.8</td>\n",
       "      <td>Danh Mục\\nShopee\\nThời Trang Nam\\nÁo Ba Lỗ\\nCh...</td>\n",
       "    </tr>\n",
       "    <tr>\n",
       "      <th>4</th>\n",
       "      <td>194</td>\n",
       "      <td>Áo Thun Nam Thể Thao Ba Lỗ Mẫu Mới Siêu Đẹp (B...</td>\n",
       "      <td>Áo Ba Lỗ</td>\n",
       "      <td>45000.0</td>\n",
       "      <td>4.8</td>\n",
       "      <td>Danh Mục\\nShopee\\nThời Trang Nam\\nÁo Ba Lỗ\\nCh...</td>\n",
       "    </tr>\n",
       "  </tbody>\n",
       "</table>\n",
       "</div>"
      ],
      "text/plain": [
       "   product_id                                       product_name sub_category  \\\n",
       "0         190              Áo ba lỗ thun gân ,form body tôn dáng     Áo Ba Lỗ   \n",
       "1         191  Áo Ba Lỗ Nam Trắng Chất Cotton Siêu Mát, Siêu Đẹp     Áo Ba Lỗ   \n",
       "2         192  Áo Ba Lỗ Nam Tyasuo chất vải co dãn mát, không...     Áo Ba Lỗ   \n",
       "3         193                 ÁO BA LỖ HÀNG VIỆT NAM 100% COTTON     Áo Ba Lỗ   \n",
       "4         194  Áo Thun Nam Thể Thao Ba Lỗ Mẫu Mới Siêu Đẹp (B...     Áo Ba Lỗ   \n",
       "\n",
       "     price  rating                                        description  \n",
       "0  86250.0     4.9  Danh Mục\\nShopee\\nThời Trang Nam\\nÁo Ba Lỗ\\nCh...  \n",
       "1  26800.0     4.9  Danh Mục\\nShopee\\nThời Trang Nam\\nÁo Ba Lỗ\\nXu...  \n",
       "2  39500.0     4.8  Danh Mục\\nShopee\\nThời Trang Nam\\nÁo Ba Lỗ\\nTh...  \n",
       "3  16500.0     4.8  Danh Mục\\nShopee\\nThời Trang Nam\\nÁo Ba Lỗ\\nCh...  \n",
       "4  45000.0     4.8  Danh Mục\\nShopee\\nThời Trang Nam\\nÁo Ba Lỗ\\nCh...  "
      ]
     },
     "execution_count": 32,
     "metadata": {},
     "output_type": "execute_result"
    }
   ],
   "source": [
    "clean_prd_df.head()"
   ]
  },
  {
   "cell_type": "markdown",
   "id": "7c6a1631-31de-472f-a79d-c487dc478778",
   "metadata": {},
   "source": [
    "### Clean Description:"
   ]
  },
  {
   "cell_type": "code",
   "execution_count": 39,
   "id": "911ff485-6299-4cd0-9dc2-b175c02f6747",
   "metadata": {},
   "outputs": [],
   "source": [
    "descriptions = clean_prd_df['description'].str.split(pat='\\n').to_list()"
   ]
  },
  {
   "cell_type": "code",
   "execution_count": 96,
   "id": "78040a2a-3f91-4457-a1e7-839fbef37899",
   "metadata": {},
   "outputs": [
    {
     "data": {
      "text/plain": [
       "49653"
      ]
     },
     "execution_count": 96,
     "metadata": {},
     "output_type": "execute_result"
    }
   ],
   "source": [
    "len(descriptions)"
   ]
  },
  {
   "cell_type": "code",
   "execution_count": 117,
   "id": "db3945e9-c434-44ac-bbc0-c36dd6f1a73a",
   "metadata": {},
   "outputs": [],
   "source": [
    "#full_des[100]"
   ]
  },
  {
   "cell_type": "code",
   "execution_count": 93,
   "id": "b4cd199a-58f7-4f75-a74b-a889429444b6",
   "metadata": {},
   "outputs": [
    {
     "data": {
      "application/vnd.jupyter.widget-view+json": {
       "model_id": "33743fd4392443c984f231f1ba8fa0b5",
       "version_major": 2,
       "version_minor": 0
      },
      "text/plain": [
       "Pre-process Description:   0%|          | 0/49653 [00:00<?, ?it/s]"
      ]
     },
     "metadata": {},
     "output_type": "display_data"
    }
   ],
   "source": [
    "full_des = []\n",
    "for des in tqdm(descriptions,'Pre-process Description'):\n",
    "    if isinstance(des,list):\n",
    "        new_ls = []\n",
    "        for words in des:\n",
    "            if (words not in stop_lst)  and (words != '') and (not words.isnumeric()):\n",
    "                new_words = data_cleanser.process_text(text=words)\n",
    "                new_words \n",
    "                if new_words != '':\n",
    "                    new_ls.append(new_words)\n",
    "    \n",
    "        # Process pos_tag\n",
    "        prd_des_str = ' '.join(new_ls)\n",
    "        prd_des_thesea = data_cleanser.process_postag_thesea(prd_des_str)\n",
    "    \n",
    "        # Append to list \n",
    "        full_des.append(prd_des_thesea)\n",
    "    else:\n",
    "        full_des.append(des)"
   ]
  },
  {
   "cell_type": "code",
   "execution_count": 94,
   "id": "aa3a58ba-59b7-4c61-9f27-048d688afe8e",
   "metadata": {},
   "outputs": [
    {
     "data": {
      "text/plain": [
       "49653"
      ]
     },
     "execution_count": 94,
     "metadata": {},
     "output_type": "execute_result"
    }
   ],
   "source": [
    "len(full_des)"
   ]
  },
  {
   "cell_type": "code",
   "execution_count": 98,
   "id": "56b50eb7-db63-46e5-b182-3f9c24dd18a7",
   "metadata": {},
   "outputs": [],
   "source": [
    "clean_prd_df['clean_desc'] = full_des"
   ]
  },
  {
   "cell_type": "code",
   "execution_count": 102,
   "id": "2a3f0a5a-5b49-49f1-8920-99eaf323e19d",
   "metadata": {},
   "outputs": [],
   "source": [
    "clean_prd_df = clean_prd_df.drop(columns=['description'])"
   ]
  },
  {
   "cell_type": "code",
   "execution_count": 103,
   "id": "ec1a6e01-6597-416b-affb-26a14eb95bf8",
   "metadata": {},
   "outputs": [
    {
     "data": {
      "text/html": [
       "<div>\n",
       "<style scoped>\n",
       "    .dataframe tbody tr th:only-of-type {\n",
       "        vertical-align: middle;\n",
       "    }\n",
       "\n",
       "    .dataframe tbody tr th {\n",
       "        vertical-align: top;\n",
       "    }\n",
       "\n",
       "    .dataframe thead th {\n",
       "        text-align: right;\n",
       "    }\n",
       "</style>\n",
       "<table border=\"1\" class=\"dataframe\">\n",
       "  <thead>\n",
       "    <tr style=\"text-align: right;\">\n",
       "      <th></th>\n",
       "      <th>product_id</th>\n",
       "      <th>product_name</th>\n",
       "      <th>sub_category</th>\n",
       "      <th>price</th>\n",
       "      <th>rating</th>\n",
       "      <th>clean_desc</th>\n",
       "    </tr>\n",
       "  </thead>\n",
       "  <tbody>\n",
       "    <tr>\n",
       "      <th>0</th>\n",
       "      <td>190</td>\n",
       "      <td>Áo ba lỗ thun gân ,form body tôn dáng</td>\n",
       "      <td>Áo Ba Lỗ</td>\n",
       "      <td>86250.0</td>\n",
       "      <td>4.9</td>\n",
       "      <td>áo lỗ chiều đường_phố nhiệt_đới tal fit xuất_x...</td>\n",
       "    </tr>\n",
       "    <tr>\n",
       "      <th>1</th>\n",
       "      <td>191</td>\n",
       "      <td>Áo Ba Lỗ Nam Trắng Chất Cotton Siêu Mát, Siêu Đẹp</td>\n",
       "      <td>Áo Ba Lỗ</td>\n",
       "      <td>26800.0</td>\n",
       "      <td>4.9</td>\n",
       "      <td>áo lỗ xuất_xứ việt_nam tổ_chức trách_nhiệm sản...</td>\n",
       "    </tr>\n",
       "    <tr>\n",
       "      <th>2</th>\n",
       "      <td>192</td>\n",
       "      <td>Áo Ba Lỗ Nam Tyasuo chất vải co dãn mát, không...</td>\n",
       "      <td>Áo Ba Lỗ</td>\n",
       "      <td>39500.0</td>\n",
       "      <td>4.8</td>\n",
       "      <td>áo lỗ thương_hiệu tyasuo chiều áo không_thể đư...</td>\n",
       "    </tr>\n",
       "    <tr>\n",
       "      <th>3</th>\n",
       "      <td>193</td>\n",
       "      <td>ÁO BA LỖ HÀNG VIỆT NAM 100% COTTON</td>\n",
       "      <td>Áo Ba Lỗ</td>\n",
       "      <td>16500.0</td>\n",
       "      <td>4.8</td>\n",
       "      <td>áo lỗ chất_liệu hàng gửi hà_nội áo lỗ nam mặc ...</td>\n",
       "    </tr>\n",
       "    <tr>\n",
       "      <th>4</th>\n",
       "      <td>194</td>\n",
       "      <td>Áo Thun Nam Thể Thao Ba Lỗ Mẫu Mới Siêu Đẹp (B...</td>\n",
       "      <td>Áo Ba Lỗ</td>\n",
       "      <td>45000.0</td>\n",
       "      <td>4.8</td>\n",
       "      <td>áo lỗ chiều áo không_thể hàng gửi hà_nội thông...</td>\n",
       "    </tr>\n",
       "  </tbody>\n",
       "</table>\n",
       "</div>"
      ],
      "text/plain": [
       "   product_id                                       product_name sub_category  \\\n",
       "0         190              Áo ba lỗ thun gân ,form body tôn dáng     Áo Ba Lỗ   \n",
       "1         191  Áo Ba Lỗ Nam Trắng Chất Cotton Siêu Mát, Siêu Đẹp     Áo Ba Lỗ   \n",
       "2         192  Áo Ba Lỗ Nam Tyasuo chất vải co dãn mát, không...     Áo Ba Lỗ   \n",
       "3         193                 ÁO BA LỖ HÀNG VIỆT NAM 100% COTTON     Áo Ba Lỗ   \n",
       "4         194  Áo Thun Nam Thể Thao Ba Lỗ Mẫu Mới Siêu Đẹp (B...     Áo Ba Lỗ   \n",
       "\n",
       "     price  rating                                         clean_desc  \n",
       "0  86250.0     4.9  áo lỗ chiều đường_phố nhiệt_đới tal fit xuất_x...  \n",
       "1  26800.0     4.9  áo lỗ xuất_xứ việt_nam tổ_chức trách_nhiệm sản...  \n",
       "2  39500.0     4.8  áo lỗ thương_hiệu tyasuo chiều áo không_thể đư...  \n",
       "3  16500.0     4.8  áo lỗ chất_liệu hàng gửi hà_nội áo lỗ nam mặc ...  \n",
       "4  45000.0     4.8  áo lỗ chiều áo không_thể hàng gửi hà_nội thông...  "
      ]
     },
     "execution_count": 103,
     "metadata": {},
     "output_type": "execute_result"
    }
   ],
   "source": [
    "clean_prd_df.head()"
   ]
  },
  {
   "cell_type": "markdown",
   "id": "f1e64f19-20ef-4354-bec0-f338c3a51529",
   "metadata": {},
   "source": [
    "#### Clean Product Name:"
   ]
  },
  {
   "cell_type": "code",
   "execution_count": 126,
   "id": "2ad2a07a-33c1-4ed2-8458-4cd91165db31",
   "metadata": {},
   "outputs": [
    {
     "data": {
      "application/vnd.jupyter.widget-view+json": {
       "model_id": "58f4c591bf1e41b09ac0d21399c3a8dd",
       "version_major": 2,
       "version_minor": 0
      },
      "text/plain": [
       "  0%|          | 0/49653 [00:00<?, ?it/s]"
      ]
     },
     "metadata": {},
     "output_type": "display_data"
    }
   ],
   "source": [
    "clean_prd_name =  clean_prd_df['product_name'].progress_apply(lambda x: data_cleanser.process_text(x))"
   ]
  },
  {
   "cell_type": "code",
   "execution_count": 127,
   "id": "9a42e32e-4ec4-47c0-b245-4c79d081deb5",
   "metadata": {},
   "outputs": [
    {
     "data": {
      "text/plain": [
       "0                     áo ba lỗ thun gân form body tôn dáng\n",
       "1         áo ba lỗ nam trắng chất cotton siêu mát siêu đẹp\n",
       "2        áo ba lỗ nam tyasuo chất vải co dãn mát không ...\n",
       "3                            áo ba lỗ hàng việt nam cotton\n",
       "4              áo thun nam thể thao ba lỗ mẫu mới siêu đẹp\n",
       "                               ...                        \n",
       "49658    tất vớ nam cổ cao cao cấp tất vớ đi giày công ...\n",
       "49659    tất nam livan sport chất liệu bamboo kháng khu...\n",
       "49660     combo đôi tất vớ hài chống hôi chân uni hàng xịn\n",
       "49661                       hộp đôi tất chống hôi chân nam\n",
       "49662          combo đôi tất nam nữ cao cấp không hôi chân\n",
       "Name: product_name, Length: 49653, dtype: object"
      ]
     },
     "execution_count": 127,
     "metadata": {},
     "output_type": "execute_result"
    }
   ],
   "source": [
    "clean_prd_name"
   ]
  },
  {
   "cell_type": "code",
   "execution_count": 128,
   "id": "896969a6-447e-4b2a-ba0d-6e194783bfec",
   "metadata": {},
   "outputs": [
    {
     "data": {
      "application/vnd.jupyter.widget-view+json": {
       "model_id": "f198975b653e4feeac78c6d3fb12dbda",
       "version_major": 2,
       "version_minor": 0
      },
      "text/plain": [
       "  0%|          | 0/49653 [00:00<?, ?it/s]"
      ]
     },
     "metadata": {},
     "output_type": "display_data"
    }
   ],
   "source": [
    "clean_prd_name = clean_prd_name.progress_apply(lambda x: data_cleanser.process_postag_thesea(x))"
   ]
  },
  {
   "cell_type": "code",
   "execution_count": 130,
   "id": "d061423f-cead-45c4-96d1-e06ca78cc4b6",
   "metadata": {},
   "outputs": [],
   "source": [
    "clean_prd_df['clean_prd_name'] = clean_prd_name"
   ]
  },
  {
   "cell_type": "code",
   "execution_count": 131,
   "id": "c3912ca1-5072-4181-88db-48ec0e5b22d4",
   "metadata": {},
   "outputs": [],
   "source": [
    "clean_prd_df.to_csv(path_or_buf='../DATA/clean_products.csv',index=True)"
   ]
  },
  {
   "cell_type": "code",
   "execution_count": 132,
   "id": "ce0a2228-55f2-430a-9f85-81eeff7c2eff",
   "metadata": {},
   "outputs": [
    {
     "data": {
      "text/html": [
       "<div>\n",
       "<style scoped>\n",
       "    .dataframe tbody tr th:only-of-type {\n",
       "        vertical-align: middle;\n",
       "    }\n",
       "\n",
       "    .dataframe tbody tr th {\n",
       "        vertical-align: top;\n",
       "    }\n",
       "\n",
       "    .dataframe thead th {\n",
       "        text-align: right;\n",
       "    }\n",
       "</style>\n",
       "<table border=\"1\" class=\"dataframe\">\n",
       "  <thead>\n",
       "    <tr style=\"text-align: right;\">\n",
       "      <th></th>\n",
       "      <th>product_id</th>\n",
       "      <th>product_name</th>\n",
       "      <th>sub_category</th>\n",
       "      <th>price</th>\n",
       "      <th>rating</th>\n",
       "      <th>clean_desc</th>\n",
       "      <th>clean_prd_name</th>\n",
       "    </tr>\n",
       "  </thead>\n",
       "  <tbody>\n",
       "    <tr>\n",
       "      <th>0</th>\n",
       "      <td>190</td>\n",
       "      <td>Áo ba lỗ thun gân ,form body tôn dáng</td>\n",
       "      <td>Áo Ba Lỗ</td>\n",
       "      <td>86250.0</td>\n",
       "      <td>4.9</td>\n",
       "      <td>áo lỗ chiều đường_phố nhiệt_đới tal fit xuất_x...</td>\n",
       "      <td>áo lỗ thun gân form body</td>\n",
       "    </tr>\n",
       "    <tr>\n",
       "      <th>1</th>\n",
       "      <td>191</td>\n",
       "      <td>Áo Ba Lỗ Nam Trắng Chất Cotton Siêu Mát, Siêu Đẹp</td>\n",
       "      <td>Áo Ba Lỗ</td>\n",
       "      <td>26800.0</td>\n",
       "      <td>4.9</td>\n",
       "      <td>áo lỗ xuất_xứ việt_nam tổ_chức trách_nhiệm sản...</td>\n",
       "      <td>áo lỗ nam trắng chất_cotton siêu_mát đẹp</td>\n",
       "    </tr>\n",
       "    <tr>\n",
       "      <th>2</th>\n",
       "      <td>192</td>\n",
       "      <td>Áo Ba Lỗ Nam Tyasuo chất vải co dãn mát, không...</td>\n",
       "      <td>Áo Ba Lỗ</td>\n",
       "      <td>39500.0</td>\n",
       "      <td>4.8</td>\n",
       "      <td>áo lỗ thương_hiệu tyasuo chiều áo không_thể đư...</td>\n",
       "      <td>áo lỗ nam tyasuo chất vải co_dãn mát không_xù mềm</td>\n",
       "    </tr>\n",
       "    <tr>\n",
       "      <th>3</th>\n",
       "      <td>193</td>\n",
       "      <td>ÁO BA LỖ HÀNG VIỆT NAM 100% COTTON</td>\n",
       "      <td>Áo Ba Lỗ</td>\n",
       "      <td>16500.0</td>\n",
       "      <td>4.8</td>\n",
       "      <td>áo lỗ chất_liệu hàng gửi hà_nội áo lỗ nam mặc ...</td>\n",
       "      <td>áo lỗ hàng việt_nam</td>\n",
       "    </tr>\n",
       "    <tr>\n",
       "      <th>4</th>\n",
       "      <td>194</td>\n",
       "      <td>Áo Thun Nam Thể Thao Ba Lỗ Mẫu Mới Siêu Đẹp (B...</td>\n",
       "      <td>Áo Ba Lỗ</td>\n",
       "      <td>45000.0</td>\n",
       "      <td>4.8</td>\n",
       "      <td>áo lỗ chiều áo không_thể hàng gửi hà_nội thông...</td>\n",
       "      <td>áo thun nam thể_thao lỗ mẫu mới đẹp</td>\n",
       "    </tr>\n",
       "  </tbody>\n",
       "</table>\n",
       "</div>"
      ],
      "text/plain": [
       "   product_id                                       product_name sub_category  \\\n",
       "0         190              Áo ba lỗ thun gân ,form body tôn dáng     Áo Ba Lỗ   \n",
       "1         191  Áo Ba Lỗ Nam Trắng Chất Cotton Siêu Mát, Siêu Đẹp     Áo Ba Lỗ   \n",
       "2         192  Áo Ba Lỗ Nam Tyasuo chất vải co dãn mát, không...     Áo Ba Lỗ   \n",
       "3         193                 ÁO BA LỖ HÀNG VIỆT NAM 100% COTTON     Áo Ba Lỗ   \n",
       "4         194  Áo Thun Nam Thể Thao Ba Lỗ Mẫu Mới Siêu Đẹp (B...     Áo Ba Lỗ   \n",
       "\n",
       "     price  rating                                         clean_desc  \\\n",
       "0  86250.0     4.9  áo lỗ chiều đường_phố nhiệt_đới tal fit xuất_x...   \n",
       "1  26800.0     4.9  áo lỗ xuất_xứ việt_nam tổ_chức trách_nhiệm sản...   \n",
       "2  39500.0     4.8  áo lỗ thương_hiệu tyasuo chiều áo không_thể đư...   \n",
       "3  16500.0     4.8  áo lỗ chất_liệu hàng gửi hà_nội áo lỗ nam mặc ...   \n",
       "4  45000.0     4.8  áo lỗ chiều áo không_thể hàng gửi hà_nội thông...   \n",
       "\n",
       "                                      clean_prd_name  \n",
       "0                           áo lỗ thun gân form body  \n",
       "1           áo lỗ nam trắng chất_cotton siêu_mát đẹp  \n",
       "2  áo lỗ nam tyasuo chất vải co_dãn mát không_xù mềm  \n",
       "3                                áo lỗ hàng việt_nam  \n",
       "4                áo thun nam thể_thao lỗ mẫu mới đẹp  "
      ]
     },
     "execution_count": 132,
     "metadata": {},
     "output_type": "execute_result"
    }
   ],
   "source": [
    "clean_prd_df.head()"
   ]
  },
  {
   "cell_type": "markdown",
   "id": "143c4c2d-1ca8-450b-8fd1-87fa5296f2fd",
   "metadata": {},
   "source": [
    "# EDA DEEPER:"
   ]
  },
  {
   "cell_type": "code",
   "execution_count": 61,
   "id": "e9c6fc63-a2e7-4a06-b520-f21faf304ea7",
   "metadata": {},
   "outputs": [
    {
     "data": {
      "text/html": [
       "<div>\n",
       "<style scoped>\n",
       "    .dataframe tbody tr th:only-of-type {\n",
       "        vertical-align: middle;\n",
       "    }\n",
       "\n",
       "    .dataframe tbody tr th {\n",
       "        vertical-align: top;\n",
       "    }\n",
       "\n",
       "    .dataframe thead th {\n",
       "        text-align: right;\n",
       "    }\n",
       "</style>\n",
       "<table border=\"1\" class=\"dataframe\">\n",
       "  <thead>\n",
       "    <tr style=\"text-align: right;\">\n",
       "      <th></th>\n",
       "      <th>Unnamed: 0</th>\n",
       "      <th>product_id</th>\n",
       "      <th>product_name</th>\n",
       "      <th>sub_category</th>\n",
       "      <th>price</th>\n",
       "      <th>rating</th>\n",
       "      <th>clean_desc</th>\n",
       "      <th>clean_prd_name</th>\n",
       "    </tr>\n",
       "  </thead>\n",
       "  <tbody>\n",
       "    <tr>\n",
       "      <th>0</th>\n",
       "      <td>0</td>\n",
       "      <td>190</td>\n",
       "      <td>Áo ba lỗ thun gân ,form body tôn dáng</td>\n",
       "      <td>Áo Ba Lỗ</td>\n",
       "      <td>86250.0</td>\n",
       "      <td>4.9</td>\n",
       "      <td>áo lỗ chiều đường_phố nhiệt_đới tal fit xuất_x...</td>\n",
       "      <td>áo lỗ thun gân form body</td>\n",
       "    </tr>\n",
       "    <tr>\n",
       "      <th>1</th>\n",
       "      <td>1</td>\n",
       "      <td>191</td>\n",
       "      <td>Áo Ba Lỗ Nam Trắng Chất Cotton Siêu Mát, Siêu Đẹp</td>\n",
       "      <td>Áo Ba Lỗ</td>\n",
       "      <td>26800.0</td>\n",
       "      <td>4.9</td>\n",
       "      <td>áo lỗ xuất_xứ việt_nam tổ_chức trách_nhiệm sản...</td>\n",
       "      <td>áo lỗ nam trắng chất_cotton siêu_mát đẹp</td>\n",
       "    </tr>\n",
       "    <tr>\n",
       "      <th>2</th>\n",
       "      <td>2</td>\n",
       "      <td>192</td>\n",
       "      <td>Áo Ba Lỗ Nam Tyasuo chất vải co dãn mát, không...</td>\n",
       "      <td>Áo Ba Lỗ</td>\n",
       "      <td>39500.0</td>\n",
       "      <td>4.8</td>\n",
       "      <td>áo lỗ thương_hiệu tyasuo chiều áo không_thể đư...</td>\n",
       "      <td>áo lỗ nam tyasuo chất vải co_dãn mát không_xù mềm</td>\n",
       "    </tr>\n",
       "    <tr>\n",
       "      <th>3</th>\n",
       "      <td>3</td>\n",
       "      <td>193</td>\n",
       "      <td>ÁO BA LỖ HÀNG VIỆT NAM 100% COTTON</td>\n",
       "      <td>Áo Ba Lỗ</td>\n",
       "      <td>16500.0</td>\n",
       "      <td>4.8</td>\n",
       "      <td>áo lỗ chất_liệu hàng gửi hà_nội áo lỗ nam mặc ...</td>\n",
       "      <td>áo lỗ hàng việt_nam</td>\n",
       "    </tr>\n",
       "    <tr>\n",
       "      <th>4</th>\n",
       "      <td>4</td>\n",
       "      <td>194</td>\n",
       "      <td>Áo Thun Nam Thể Thao Ba Lỗ Mẫu Mới Siêu Đẹp (B...</td>\n",
       "      <td>Áo Ba Lỗ</td>\n",
       "      <td>45000.0</td>\n",
       "      <td>4.8</td>\n",
       "      <td>áo lỗ chiều áo không_thể hàng gửi hà_nội thông...</td>\n",
       "      <td>áo thun nam thể_thao lỗ mẫu mới đẹp</td>\n",
       "    </tr>\n",
       "  </tbody>\n",
       "</table>\n",
       "</div>"
      ],
      "text/plain": [
       "   Unnamed: 0  product_id                                       product_name  \\\n",
       "0           0         190              Áo ba lỗ thun gân ,form body tôn dáng   \n",
       "1           1         191  Áo Ba Lỗ Nam Trắng Chất Cotton Siêu Mát, Siêu Đẹp   \n",
       "2           2         192  Áo Ba Lỗ Nam Tyasuo chất vải co dãn mát, không...   \n",
       "3           3         193                 ÁO BA LỖ HÀNG VIỆT NAM 100% COTTON   \n",
       "4           4         194  Áo Thun Nam Thể Thao Ba Lỗ Mẫu Mới Siêu Đẹp (B...   \n",
       "\n",
       "  sub_category    price  rating  \\\n",
       "0     Áo Ba Lỗ  86250.0     4.9   \n",
       "1     Áo Ba Lỗ  26800.0     4.9   \n",
       "2     Áo Ba Lỗ  39500.0     4.8   \n",
       "3     Áo Ba Lỗ  16500.0     4.8   \n",
       "4     Áo Ba Lỗ  45000.0     4.8   \n",
       "\n",
       "                                          clean_desc  \\\n",
       "0  áo lỗ chiều đường_phố nhiệt_đới tal fit xuất_x...   \n",
       "1  áo lỗ xuất_xứ việt_nam tổ_chức trách_nhiệm sản...   \n",
       "2  áo lỗ thương_hiệu tyasuo chiều áo không_thể đư...   \n",
       "3  áo lỗ chất_liệu hàng gửi hà_nội áo lỗ nam mặc ...   \n",
       "4  áo lỗ chiều áo không_thể hàng gửi hà_nội thông...   \n",
       "\n",
       "                                      clean_prd_name  \n",
       "0                           áo lỗ thun gân form body  \n",
       "1           áo lỗ nam trắng chất_cotton siêu_mát đẹp  \n",
       "2  áo lỗ nam tyasuo chất vải co_dãn mát không_xù mềm  \n",
       "3                                áo lỗ hàng việt_nam  \n",
       "4                áo thun nam thể_thao lỗ mẫu mới đẹp  "
      ]
     },
     "execution_count": 61,
     "metadata": {},
     "output_type": "execute_result"
    }
   ],
   "source": [
    "clean_prd_df = pd.read_csv('../DATA/clean_products.csv')\n",
    "clean_prd_df.head()"
   ]
  },
  {
   "cell_type": "code",
   "execution_count": 62,
   "id": "f5d34dbc-27a7-42e2-8e64-16d9daf2884b",
   "metadata": {},
   "outputs": [
    {
     "data": {
      "text/html": [
       "<div>\n",
       "<style scoped>\n",
       "    .dataframe tbody tr th:only-of-type {\n",
       "        vertical-align: middle;\n",
       "    }\n",
       "\n",
       "    .dataframe tbody tr th {\n",
       "        vertical-align: top;\n",
       "    }\n",
       "\n",
       "    .dataframe thead th {\n",
       "        text-align: right;\n",
       "    }\n",
       "</style>\n",
       "<table border=\"1\" class=\"dataframe\">\n",
       "  <thead>\n",
       "    <tr style=\"text-align: right;\">\n",
       "      <th></th>\n",
       "      <th>Unnamed: 0</th>\n",
       "      <th>product_id</th>\n",
       "      <th>price</th>\n",
       "      <th>rating</th>\n",
       "    </tr>\n",
       "  </thead>\n",
       "  <tbody>\n",
       "    <tr>\n",
       "      <th>count</th>\n",
       "      <td>49653.000000</td>\n",
       "      <td>49653.000000</td>\n",
       "      <td>4.965300e+04</td>\n",
       "      <td>49653.000000</td>\n",
       "    </tr>\n",
       "    <tr>\n",
       "      <th>mean</th>\n",
       "      <td>24830.274646</td>\n",
       "      <td>117102.960647</td>\n",
       "      <td>2.337032e+05</td>\n",
       "      <td>3.085137</td>\n",
       "    </tr>\n",
       "    <tr>\n",
       "      <th>std</th>\n",
       "      <td>14337.927559</td>\n",
       "      <td>83780.341243</td>\n",
       "      <td>9.854160e+05</td>\n",
       "      <td>2.339682</td>\n",
       "    </tr>\n",
       "    <tr>\n",
       "      <th>min</th>\n",
       "      <td>0.000000</td>\n",
       "      <td>100.000000</td>\n",
       "      <td>0.000000e+00</td>\n",
       "      <td>0.000000</td>\n",
       "    </tr>\n",
       "    <tr>\n",
       "      <th>25%</th>\n",
       "      <td>12413.000000</td>\n",
       "      <td>21913.000000</td>\n",
       "      <td>6.900000e+04</td>\n",
       "      <td>0.000000</td>\n",
       "    </tr>\n",
       "    <tr>\n",
       "      <th>50%</th>\n",
       "      <td>24826.000000</td>\n",
       "      <td>114911.000000</td>\n",
       "      <td>1.419000e+05</td>\n",
       "      <td>4.800000</td>\n",
       "    </tr>\n",
       "    <tr>\n",
       "      <th>75%</th>\n",
       "      <td>37249.000000</td>\n",
       "      <td>174078.000000</td>\n",
       "      <td>2.686420e+05</td>\n",
       "      <td>5.000000</td>\n",
       "    </tr>\n",
       "    <tr>\n",
       "      <th>max</th>\n",
       "      <td>49662.000000</td>\n",
       "      <td>261499.000000</td>\n",
       "      <td>1.000000e+08</td>\n",
       "      <td>5.000000</td>\n",
       "    </tr>\n",
       "  </tbody>\n",
       "</table>\n",
       "</div>"
      ],
      "text/plain": [
       "         Unnamed: 0     product_id         price        rating\n",
       "count  49653.000000   49653.000000  4.965300e+04  49653.000000\n",
       "mean   24830.274646  117102.960647  2.337032e+05      3.085137\n",
       "std    14337.927559   83780.341243  9.854160e+05      2.339682\n",
       "min        0.000000     100.000000  0.000000e+00      0.000000\n",
       "25%    12413.000000   21913.000000  6.900000e+04      0.000000\n",
       "50%    24826.000000  114911.000000  1.419000e+05      4.800000\n",
       "75%    37249.000000  174078.000000  2.686420e+05      5.000000\n",
       "max    49662.000000  261499.000000  1.000000e+08      5.000000"
      ]
     },
     "execution_count": 62,
     "metadata": {},
     "output_type": "execute_result"
    }
   ],
   "source": [
    "clean_prd_df.describe()"
   ]
  }
 ],
 "metadata": {
  "kernelspec": {
   "display_name": "Python 3 (ipykernel)",
   "language": "python",
   "name": "python3"
  },
  "language_info": {
   "codemirror_mode": {
    "name": "ipython",
    "version": 3
   },
   "file_extension": ".py",
   "mimetype": "text/x-python",
   "name": "python",
   "nbconvert_exporter": "python",
   "pygments_lexer": "ipython3",
   "version": "3.9.18"
  }
 },
 "nbformat": 4,
 "nbformat_minor": 5
}
