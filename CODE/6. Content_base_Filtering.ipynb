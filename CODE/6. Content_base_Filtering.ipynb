{
 "cells": [
  {
   "cell_type": "code",
   "execution_count": 1,
   "id": "a8ec4991-1591-41b3-a364-92b3d1515297",
   "metadata": {},
   "outputs": [],
   "source": [
    "%load_ext autoreload\n",
    "%autoreload 2\n",
    "from project_transformer import Data_Wrangling"
   ]
  },
  {
   "cell_type": "code",
   "execution_count": 2,
   "id": "4ec42733-a55f-4e72-9e90-fd5736999fce",
   "metadata": {},
   "outputs": [],
   "source": [
    "import numpy as np\n",
    "import pandas as pd\n",
    "import matplotlib.pyplot as plt\n",
    "from sklearn.feature_extraction.text import TfidfVectorizer\n",
    "from sklearn.metrics.pairwise import linear_kernel, cosine_similarity\n",
    "from underthesea import word_tokenize, pos_tag, sent_tokenize\n",
    "import warnings\n",
    "from gensim import corpora, models, similarities\n",
    "import gensim\n",
    "import re"
   ]
  },
  {
   "cell_type": "code",
   "execution_count": 3,
   "id": "c3a98db6-b7b2-411a-9ee7-bbdca70091cc",
   "metadata": {},
   "outputs": [],
   "source": [
    "import matplotlib.pyplot as plt \n",
    "import seaborn as sns\n",
    "import glob\n",
    "import os \n",
    "from tqdm.auto import tqdm\n",
    "import re\n",
    "import pickle"
   ]
  },
  {
   "cell_type": "code",
   "execution_count": 4,
   "id": "0bdc5f6b-d4fb-4078-b99c-4abcab848949",
   "metadata": {},
   "outputs": [],
   "source": [
    "import scipy.sparse as ss"
   ]
  },
  {
   "cell_type": "markdown",
   "id": "84c38e07-6e64-4a30-be78-0923b5545ce8",
   "metadata": {},
   "source": [
    "# Function:"
   ]
  },
  {
   "cell_type": "code",
   "execution_count": 5,
   "id": "eeadfb65-873d-40cf-bc2a-87559761ad60",
   "metadata": {},
   "outputs": [],
   "source": [
    "# EMOJI\n",
    "with open('../DATA/files/emojicon.txt', 'r', encoding=\"utf8\") as file:\n",
    "    emoji_lst = file.read().split('\\n')\n",
    "    emoji_dict = {}\n",
    "    for line in emoji_lst:\n",
    "        key, value = line.split('\\t')\n",
    "        emoji_dict[key] = str(value)\n",
    "\n",
    "# TEEN CODE\n",
    "with open('../DATA/files/teencode.txt', 'r', encoding=\"utf8\") as file:\n",
    "    teen_lst = file.read().split('\\n')\n",
    "    teen_dict = {}\n",
    "    for line in teen_lst:\n",
    "        key, value = line.split('\\t')\n",
    "        teen_dict[key] = str(value)\n",
    "\n",
    "# ENG VIET\n",
    "with open('../DATA/files/english-vnmese.txt', 'r', encoding=\"utf8\") as file:\n",
    "    eng_lst = file.read().split('\\n')\n",
    "    eng_dict = {}\n",
    "    for line in eng_lst:\n",
    "        key, value = line.split('\\t')\n",
    "        eng_dict[key] = str(value)\n",
    "\n",
    "# WRONG WORD\n",
    "with open('../DATA/files/wrong-word.txt', 'r', encoding=\"utf8\") as file:\n",
    "    wrong_lst = file.read().split('\\n')\n",
    "\n",
    "# STOP WORD\n",
    "with open('../DATA/files/vietnamese-stopwords.txt', 'r', encoding=\"utf8\") as file:\n",
    "    stop_lst = file.read().split('\\n')"
   ]
  },
  {
   "cell_type": "markdown",
   "id": "6ea86d53-39a7-49af-9f07-6a9337784743",
   "metadata": {},
   "source": [
    "## Build CLEANSER"
   ]
  },
  {
   "cell_type": "code",
   "execution_count": 6,
   "id": "f4386e8d-dce9-4460-9ba6-0a820b31d3ed",
   "metadata": {},
   "outputs": [],
   "source": [
    "data_cleanser = Data_Wrangling(emoji_dict=emoji_dict,\n",
    "                               teen_dict=teen_dict,\n",
    "                               wrong_lst=wrong_lst,\n",
    "                               eng_vn_dict=eng_dict,\n",
    "                               stop_words=stop_lst)"
   ]
  },
  {
   "cell_type": "code",
   "execution_count": 7,
   "id": "4f302023-9f23-4ceb-a703-0db7517d3bbf",
   "metadata": {},
   "outputs": [
    {
     "data": {
      "text/plain": [
       "project_transformer.Data_Wrangling"
      ]
     },
     "execution_count": 7,
     "metadata": {},
     "output_type": "execute_result"
    }
   ],
   "source": [
    "type(data_cleanser)"
   ]
  },
  {
   "cell_type": "markdown",
   "id": "342bd3b6-0084-4a7e-a8ae-c9cacaf78109",
   "metadata": {},
   "source": [
    "### Gensim"
   ]
  },
  {
   "cell_type": "code",
   "execution_count": 8,
   "id": "4459dc50-667e-492f-aab0-71289d680acd",
   "metadata": {},
   "outputs": [],
   "source": [
    "def recommender_gensim(view_prd: str,\n",
    "                       cleaner,\n",
    "                       dict_prd: corpora.Dictionary,\n",
    "                       tfidf_model: gensim.models.tfidfmodel.TfidfModel,\n",
    "                       similarity: gensim.similarities.docsim.SparseMatrixSimilarity,\n",
    "                       prd_df: pd.DataFrame):\n",
    "    # Convert search words into Sparse Vectors\n",
    "    clean_txt = cleaner.process_text(text=view_prd)\n",
    "    clean_txt = cleaner.process_postag_thesea(clean_txt)\n",
    "\n",
    "    clean_ls = clean_txt.split()\n",
    "    kw_vector = dict_prd.doc2bow(clean_ls)\n",
    "    print(\"View product's vector:\")\n",
    "    print(kw_vector)\n",
    "\n",
    "    # similarity calculation\n",
    "    sim = similarity[tfidf_model[kw_vector]]\n",
    "\n",
    "    # print result\n",
    "    list_id = []\n",
    "    list_score = []\n",
    "    for i in range(len(sim)):\n",
    "        list_id.append(i)\n",
    "        list_score.append(sim[i])\n",
    "\n",
    "    # Create df\n",
    "    df_res = pd.DataFrame({'item_id': list_id, 'score': list_score})\n",
    "\n",
    "    # Get 5 highest score\n",
    "    five_h_score = df_res.sort_values(by='score', ascending=False).head(6)\n",
    "    print(\"Five highest scores:\")\n",
    "    print(five_h_score)\n",
    "    print('IDS to list:')\n",
    "    id_to_ls = five_h_score['item_id'].to_list()\n",
    "    print(id_to_ls)\n",
    "\n",
    "    # Find prd\n",
    "    prd_find = prd_df[prd_df.index.isin(id_to_ls)]\n",
    "    prd_results = prd_find[['product_id', 'product_name', 'clean_prd_name', 'sub_category', 'price', 'rating']]\n",
    "    final = pd.concat([prd_results, five_h_score], axis=1).sort_values(by='score', ascending=False)\n",
    "    final = final[final['score']!=1]\n",
    "    return final"
   ]
  },
  {
   "cell_type": "markdown",
   "id": "1edb1c30-b764-4fd0-beaa-c68c262b3eff",
   "metadata": {},
   "source": [
    "### Similarity:"
   ]
  },
  {
   "cell_type": "code",
   "execution_count": 9,
   "id": "a90e8bd3-120d-43cb-b09e-d75f1e80f7c9",
   "metadata": {},
   "outputs": [],
   "source": [
    "def recommend_cosine(text_,\n",
    "                     df,\n",
    "                     cleaner,\n",
    "                     tf_idf_model,\n",
    "                     tf_idf_arr,\n",
    "                     num=5):\n",
    "    import warnings\n",
    "    warnings.filterwarnings(\"ignore\")\n",
    "    # Convert search words into Sparse Vectors\n",
    "    clean_txt = cleaner.process_text(text=text_)\n",
    "    clean_txt = cleaner.process_postag_thesea(clean_txt)\n",
    "\n",
    "    # Get Sparse Matrix from TFIDF\n",
    "    txt_sparse_matrix = tf_idf_model.transform([clean_txt])\n",
    "\n",
    "    # Calcualte the cosine score\n",
    "    cosine_text_ = cosine_similarity(X=txt_sparse_matrix,\n",
    "                                     Y=tf_idf_arr)\n",
    "\n",
    "    top5_prd = cosine_text_.flatten().argsort()[-num-1:-1]\n",
    "    top5_score = [(cosine_text_.flatten()[i]) for i in top5_prd]\n",
    "\n",
    "    # Extract Product\n",
    "    ls_item = []\n",
    "    for id, sim in zip(top5_prd, top5_score):\n",
    "        sim_item = {'item_id': id, 'score': sim}\n",
    "        ls_item.append(sim_item)\n",
    "    print(f\"San Pham user nhap: {text_}\\n\\n\")\n",
    "    for rec in ls_item:\n",
    "        # print(rec[1])\n",
    "        print(\n",
    "            f\"Recommnended:\\tItem ID: {rec['item_id']}, {df.loc[df['item_id'] == rec['item_id'], 'product_name'].values[0]}, (score: {rec['score']})\\n\")\n",
    "\n",
    "    # Create DataFrame\n",
    "    df_res = pd.DataFrame(ls_item)\n",
    "    filter_ls = df_res['item_id'].to_list()\n",
    "    prd_find = df[df['item_id'].isin(filter_ls)]\n",
    "    prd_results = pd.merge(left=prd_find,\n",
    "                           right=df_res,\n",
    "                           on=['item_id'],\n",
    "                           how='inner')\n",
    "    \n",
    "    final = prd_results.sort_values(by='score', ascending=False)\n",
    "    #final = final[final['score']!=1]\n",
    "    feat = ['product_id', 'product_name', 'clean_prd_name', 'sub_category', 'price', 'rating','item_id','score']\n",
    "    return final[feat]"
   ]
  },
  {
   "cell_type": "code",
   "execution_count": 10,
   "id": "46043fc2-08ef-452e-9a67-d92c6c2c0d39",
   "metadata": {},
   "outputs": [],
   "source": [
    "def combine_both(gensim_df, cosim_df):\n",
    "    combine_df = pd.merge(cosim_df,\n",
    "                     gensim_df,\n",
    "                     on=['product_id','product_name','clean_prd_name','sub_category','price','rating'],\n",
    "                     suffixes=('_gensim', '_simi'), \n",
    "                     how='outer').drop(columns=['item_id_gensim','item_id_simi'])\n",
    "    combine_df[combine_df['rating']>3]\n",
    "    return combine_df"
   ]
  },
  {
   "cell_type": "markdown",
   "id": "28453734-d7d9-4032-9c42-027597a9a0c3",
   "metadata": {},
   "source": [
    "# Load Product DF:"
   ]
  },
  {
   "cell_type": "code",
   "execution_count": 11,
   "id": "130fac15-7341-4aa0-b07f-3704ee1e098a",
   "metadata": {},
   "outputs": [
    {
     "data": {
      "text/html": [
       "<div>\n",
       "<style scoped>\n",
       "    .dataframe tbody tr th:only-of-type {\n",
       "        vertical-align: middle;\n",
       "    }\n",
       "\n",
       "    .dataframe tbody tr th {\n",
       "        vertical-align: top;\n",
       "    }\n",
       "\n",
       "    .dataframe thead th {\n",
       "        text-align: right;\n",
       "    }\n",
       "</style>\n",
       "<table border=\"1\" class=\"dataframe\">\n",
       "  <thead>\n",
       "    <tr style=\"text-align: right;\">\n",
       "      <th></th>\n",
       "      <th>item_id</th>\n",
       "      <th>product_id</th>\n",
       "      <th>product_name</th>\n",
       "      <th>sub_category</th>\n",
       "      <th>price</th>\n",
       "      <th>rating</th>\n",
       "      <th>clean_desc</th>\n",
       "      <th>clean_prd_name</th>\n",
       "    </tr>\n",
       "  </thead>\n",
       "  <tbody>\n",
       "    <tr>\n",
       "      <th>0</th>\n",
       "      <td>0</td>\n",
       "      <td>190</td>\n",
       "      <td>Áo ba lỗ thun gân ,form body tôn dáng</td>\n",
       "      <td>Áo Ba Lỗ</td>\n",
       "      <td>86250.0</td>\n",
       "      <td>4.9</td>\n",
       "      <td>áo lỗ chiều đường_phố nhiệt_đới tal fit xuất_x...</td>\n",
       "      <td>áo lỗ thun gân form body</td>\n",
       "    </tr>\n",
       "    <tr>\n",
       "      <th>1</th>\n",
       "      <td>1</td>\n",
       "      <td>191</td>\n",
       "      <td>Áo Ba Lỗ Nam Trắng Chất Cotton Siêu Mát, Siêu Đẹp</td>\n",
       "      <td>Áo Ba Lỗ</td>\n",
       "      <td>26800.0</td>\n",
       "      <td>4.9</td>\n",
       "      <td>áo lỗ xuất_xứ việt_nam tổ_chức trách_nhiệm sản...</td>\n",
       "      <td>áo lỗ nam trắng chất_cotton siêu_mát đẹp</td>\n",
       "    </tr>\n",
       "    <tr>\n",
       "      <th>2</th>\n",
       "      <td>2</td>\n",
       "      <td>192</td>\n",
       "      <td>Áo Ba Lỗ Nam Tyasuo chất vải co dãn mát, không...</td>\n",
       "      <td>Áo Ba Lỗ</td>\n",
       "      <td>39500.0</td>\n",
       "      <td>4.8</td>\n",
       "      <td>áo lỗ thương_hiệu tyasuo chiều áo không_thể đư...</td>\n",
       "      <td>áo lỗ nam tyasuo chất vải co_dãn mát không_xù mềm</td>\n",
       "    </tr>\n",
       "    <tr>\n",
       "      <th>3</th>\n",
       "      <td>3</td>\n",
       "      <td>193</td>\n",
       "      <td>ÁO BA LỖ HÀNG VIỆT NAM 100% COTTON</td>\n",
       "      <td>Áo Ba Lỗ</td>\n",
       "      <td>16500.0</td>\n",
       "      <td>4.8</td>\n",
       "      <td>áo lỗ chất_liệu hàng gửi hà_nội áo lỗ nam mặc ...</td>\n",
       "      <td>áo lỗ hàng việt_nam</td>\n",
       "    </tr>\n",
       "    <tr>\n",
       "      <th>4</th>\n",
       "      <td>4</td>\n",
       "      <td>194</td>\n",
       "      <td>Áo Thun Nam Thể Thao Ba Lỗ Mẫu Mới Siêu Đẹp (B...</td>\n",
       "      <td>Áo Ba Lỗ</td>\n",
       "      <td>45000.0</td>\n",
       "      <td>4.8</td>\n",
       "      <td>áo lỗ chiều áo không_thể hàng gửi hà_nội thông...</td>\n",
       "      <td>áo thun nam thể_thao lỗ mẫu mới đẹp</td>\n",
       "    </tr>\n",
       "  </tbody>\n",
       "</table>\n",
       "</div>"
      ],
      "text/plain": [
       "   item_id  product_id                                       product_name  \\\n",
       "0        0         190              Áo ba lỗ thun gân ,form body tôn dáng   \n",
       "1        1         191  Áo Ba Lỗ Nam Trắng Chất Cotton Siêu Mát, Siêu Đẹp   \n",
       "2        2         192  Áo Ba Lỗ Nam Tyasuo chất vải co dãn mát, không...   \n",
       "3        3         193                 ÁO BA LỖ HÀNG VIỆT NAM 100% COTTON   \n",
       "4        4         194  Áo Thun Nam Thể Thao Ba Lỗ Mẫu Mới Siêu Đẹp (B...   \n",
       "\n",
       "  sub_category    price  rating  \\\n",
       "0     Áo Ba Lỗ  86250.0     4.9   \n",
       "1     Áo Ba Lỗ  26800.0     4.9   \n",
       "2     Áo Ba Lỗ  39500.0     4.8   \n",
       "3     Áo Ba Lỗ  16500.0     4.8   \n",
       "4     Áo Ba Lỗ  45000.0     4.8   \n",
       "\n",
       "                                          clean_desc  \\\n",
       "0  áo lỗ chiều đường_phố nhiệt_đới tal fit xuất_x...   \n",
       "1  áo lỗ xuất_xứ việt_nam tổ_chức trách_nhiệm sản...   \n",
       "2  áo lỗ thương_hiệu tyasuo chiều áo không_thể đư...   \n",
       "3  áo lỗ chất_liệu hàng gửi hà_nội áo lỗ nam mặc ...   \n",
       "4  áo lỗ chiều áo không_thể hàng gửi hà_nội thông...   \n",
       "\n",
       "                                      clean_prd_name  \n",
       "0                           áo lỗ thun gân form body  \n",
       "1           áo lỗ nam trắng chất_cotton siêu_mát đẹp  \n",
       "2  áo lỗ nam tyasuo chất vải co_dãn mát không_xù mềm  \n",
       "3                                áo lỗ hàng việt_nam  \n",
       "4                áo thun nam thể_thao lỗ mẫu mới đẹp  "
      ]
     },
     "execution_count": 11,
     "metadata": {},
     "output_type": "execute_result"
    }
   ],
   "source": [
    "use_cols = ['item_id','product_id','sub_category','price','rating','clean_desc','product_name','clean_prd_name']\n",
    "clean_prd_df = pd.read_csv('../DATA/final_details.csv',usecols=use_cols)\n",
    "clean_prd_df.head()"
   ]
  },
  {
   "cell_type": "markdown",
   "id": "998e4deb-aea3-4eab-95e6-776117a62f98",
   "metadata": {},
   "source": [
    "# Gensim"
   ]
  },
  {
   "cell_type": "markdown",
   "id": "52bf77f9-c652-43db-99f4-248f0dd341c3",
   "metadata": {},
   "source": [
    "## Load Model and Product Dataframe:"
   ]
  },
  {
   "cell_type": "code",
   "execution_count": 78,
   "id": "08f5bcaf-4c42-449e-a4fb-e68aa2c1dfcc",
   "metadata": {},
   "outputs": [],
   "source": [
    "# Load the TF-IDF model from the file\n",
    "loaded_tfidf_model = models.TfidfModel.load('../DATA/Gensim/tfidf_model')\n",
    "\n",
    "# Load the dictionary from the file\n",
    "loaded_dictionary = corpora.Dictionary.load('../DATA/Gensim/corpus_dictionary')\n",
    "\n",
    "# Load the similarity matrx \n",
    "loaded_similarity_matrix  = similarities.SparseMatrixSimilarity.load(\"../DATA/Gensim/similarity_matrix.index\")"
   ]
  },
  {
   "cell_type": "markdown",
   "id": "20a6f042-e809-4e03-abfc-0447862e8288",
   "metadata": {},
   "source": [
    "## Test Fuction:"
   ]
  },
  {
   "cell_type": "code",
   "execution_count": 79,
   "id": "6b021bda-1327-4817-a527-6c697ddc0f96",
   "metadata": {},
   "outputs": [],
   "source": [
    "#clean_prd_df"
   ]
  },
  {
   "cell_type": "code",
   "execution_count": 15,
   "id": "d28744ca-4aa5-42a3-8669-de54b7554eeb",
   "metadata": {},
   "outputs": [
    {
     "data": {
      "text/plain": [
       "'kinh nam rất xịn'"
      ]
     },
     "execution_count": 15,
     "metadata": {},
     "output_type": "execute_result"
    }
   ],
   "source": [
    "text_prd = clean_prd_df.loc[100,'product_name']\n",
    "text_prd = 'kinh nam rất xịn'\n",
    "text_prd"
   ]
  },
  {
   "cell_type": "code",
   "execution_count": 145,
   "id": "30117237-c965-4faf-b569-355be5def471",
   "metadata": {},
   "outputs": [
    {
     "name": "stdout",
     "output_type": "stream",
     "text": [
      "View product's vector:\n",
      "[(7, 1), (526, 1), (1994, 1), (6595, 1)]\n",
      "Five highest scores:\n",
      "       item_id     score\n",
      "28351    28351  0.518623\n",
      "30872    30872  0.443889\n",
      "19026    19026  0.378886\n",
      "31381    31381  0.366443\n",
      "33358    33358  0.366443\n",
      "11035    11035  0.351456\n",
      "IDS to list:\n",
      "[28351, 30872, 19026, 31381, 33358, 11035]\n"
     ]
    }
   ],
   "source": [
    "results_df = recommender_gensim(view_prd=text_prd,\n",
    "                                cleaner=data_cleanser,\n",
    "                                dict_prd=loaded_dictionary,\n",
    "                                tfidf_model=loaded_tfidf_model,\n",
    "                                similarity=loaded_similarity_matrix,\n",
    "                                prd_df=clean_prd_df)"
   ]
  },
  {
   "cell_type": "code",
   "execution_count": 146,
   "id": "82ddf237-84a8-456d-ae10-02e49a512d1f",
   "metadata": {},
   "outputs": [
    {
     "data": {
      "text/html": [
       "<div>\n",
       "<style scoped>\n",
       "    .dataframe tbody tr th:only-of-type {\n",
       "        vertical-align: middle;\n",
       "    }\n",
       "\n",
       "    .dataframe tbody tr th {\n",
       "        vertical-align: top;\n",
       "    }\n",
       "\n",
       "    .dataframe thead th {\n",
       "        text-align: right;\n",
       "    }\n",
       "</style>\n",
       "<table border=\"1\" class=\"dataframe\">\n",
       "  <thead>\n",
       "    <tr style=\"text-align: right;\">\n",
       "      <th></th>\n",
       "      <th>product_id</th>\n",
       "      <th>product_name</th>\n",
       "      <th>clean_prd_name</th>\n",
       "      <th>sub_category</th>\n",
       "      <th>price</th>\n",
       "      <th>rating</th>\n",
       "      <th>item_id</th>\n",
       "      <th>score</th>\n",
       "    </tr>\n",
       "  </thead>\n",
       "  <tbody>\n",
       "    <tr>\n",
       "      <th>28351</th>\n",
       "      <td>113402</td>\n",
       "      <td>kinh nam siêu xin</td>\n",
       "      <td>kinh nam xin</td>\n",
       "      <td>Khác</td>\n",
       "      <td>145000.0</td>\n",
       "      <td>0.0</td>\n",
       "      <td>28351</td>\n",
       "      <td>0.518623</td>\n",
       "    </tr>\n",
       "    <tr>\n",
       "      <th>30872</th>\n",
       "      <td>12486</td>\n",
       "      <td>kinh mát nam cao cấp gọng dẻo đẹp nhất</td>\n",
       "      <td>kinh mát_nam cao_cấp gọng dẻo đẹp nhất</td>\n",
       "      <td>Kính Mắt Nam</td>\n",
       "      <td>209000.0</td>\n",
       "      <td>4.5</td>\n",
       "      <td>30872</td>\n",
       "      <td>0.443889</td>\n",
       "    </tr>\n",
       "    <tr>\n",
       "      <th>19026</th>\n",
       "      <td>241905</td>\n",
       "      <td>Kinh nam Poscher đổi màu chui tròn</td>\n",
       "      <td>kinh nam poscher đổi màu chui tròn</td>\n",
       "      <td>Đồ Hóa Trang</td>\n",
       "      <td>180000.0</td>\n",
       "      <td>0.0</td>\n",
       "      <td>19026</td>\n",
       "      <td>0.378886</td>\n",
       "    </tr>\n",
       "    <tr>\n",
       "      <th>31381</th>\n",
       "      <td>12995</td>\n",
       "      <td>Kính nam xịn</td>\n",
       "      <td>kính nam xịn</td>\n",
       "      <td>Kính Mắt Nam</td>\n",
       "      <td>250000.0</td>\n",
       "      <td>5.0</td>\n",
       "      <td>31381</td>\n",
       "      <td>0.366443</td>\n",
       "    </tr>\n",
       "    <tr>\n",
       "      <th>33358</th>\n",
       "      <td>122972</td>\n",
       "      <td>KÍNH NAM XỊN</td>\n",
       "      <td>kính nam xịn</td>\n",
       "      <td>Kính Mắt Nam</td>\n",
       "      <td>550000.0</td>\n",
       "      <td>0.0</td>\n",
       "      <td>33358</td>\n",
       "      <td>0.366443</td>\n",
       "    </tr>\n",
       "    <tr>\n",
       "      <th>11035</th>\n",
       "      <td>103621</td>\n",
       "      <td>Cà Vạt Có Khóa Kéo Dễ Kéo Phong Cách Bắc Kinh ...</td>\n",
       "      <td>cà_vạt có khóa kéo dễ kéo phong_cách bắc kinh ...</td>\n",
       "      <td>Cà vạt &amp; Nơ cổ</td>\n",
       "      <td>133000.0</td>\n",
       "      <td>0.0</td>\n",
       "      <td>11035</td>\n",
       "      <td>0.351456</td>\n",
       "    </tr>\n",
       "  </tbody>\n",
       "</table>\n",
       "</div>"
      ],
      "text/plain": [
       "       product_id                                       product_name  \\\n",
       "28351      113402                                  kinh nam siêu xin   \n",
       "30872       12486             kinh mát nam cao cấp gọng dẻo đẹp nhất   \n",
       "19026      241905                 Kinh nam Poscher đổi màu chui tròn   \n",
       "31381       12995                                       Kính nam xịn   \n",
       "33358      122972                                       KÍNH NAM XỊN   \n",
       "11035      103621  Cà Vạt Có Khóa Kéo Dễ Kéo Phong Cách Bắc Kinh ...   \n",
       "\n",
       "                                          clean_prd_name    sub_category  \\\n",
       "28351                                       kinh nam xin            Khác   \n",
       "30872             kinh mát_nam cao_cấp gọng dẻo đẹp nhất    Kính Mắt Nam   \n",
       "19026                 kinh nam poscher đổi màu chui tròn    Đồ Hóa Trang   \n",
       "31381                                       kính nam xịn    Kính Mắt Nam   \n",
       "33358                                       kính nam xịn    Kính Mắt Nam   \n",
       "11035  cà_vạt có khóa kéo dễ kéo phong_cách bắc kinh ...  Cà vạt & Nơ cổ   \n",
       "\n",
       "          price  rating  item_id     score  \n",
       "28351  145000.0     0.0    28351  0.518623  \n",
       "30872  209000.0     4.5    30872  0.443889  \n",
       "19026  180000.0     0.0    19026  0.378886  \n",
       "31381  250000.0     5.0    31381  0.366443  \n",
       "33358  550000.0     0.0    33358  0.366443  \n",
       "11035  133000.0     0.0    11035  0.351456  "
      ]
     },
     "execution_count": 146,
     "metadata": {},
     "output_type": "execute_result"
    }
   ],
   "source": [
    "results_df"
   ]
  },
  {
   "cell_type": "markdown",
   "id": "eddf36f6-879e-4b66-952c-7be68a2d811f",
   "metadata": {},
   "source": [
    "# Similarity"
   ]
  },
  {
   "cell_type": "markdown",
   "id": "c8933309-b134-493d-8e4c-01c89a2f4e58",
   "metadata": {},
   "source": [
    "## Load Model and Product Dataframe:"
   ]
  },
  {
   "cell_type": "code",
   "execution_count": 12,
   "id": "39138f2d-d37a-4f98-9070-5c9b6d39d1ec",
   "metadata": {},
   "outputs": [
    {
     "data": {
      "text/plain": [
       "sklearn.feature_extraction.text.TfidfVectorizer"
      ]
     },
     "execution_count": 12,
     "metadata": {},
     "output_type": "execute_result"
    }
   ],
   "source": [
    "with open('../DATA/tfidf_vectorizer.pkl', 'rb') as f:\n",
    "    sim_tfidf_model = pickle.load(f)\n",
    "type(sim_tfidf_model)"
   ]
  },
  {
   "cell_type": "code",
   "execution_count": 13,
   "id": "fb50b95e-62de-4a86-82f4-a2afa6015973",
   "metadata": {},
   "outputs": [
    {
     "data": {
      "text/plain": [
       "scipy.sparse._csr.csr_matrix"
      ]
     },
     "execution_count": 13,
     "metadata": {},
     "output_type": "execute_result"
    }
   ],
   "source": [
    "sim_tfidf_matrix = ss.load_npz('../DATA/tfidf_matrix.npz')\n",
    "type(sim_tfidf_matrix)"
   ]
  },
  {
   "cell_type": "markdown",
   "id": "c3fbc6ae-e251-478b-9610-f7734c5497da",
   "metadata": {},
   "source": [
    "## Test Fuction:"
   ]
  },
  {
   "cell_type": "code",
   "execution_count": 85,
   "id": "5b495e81-91c3-466f-89a2-234244174e76",
   "metadata": {},
   "outputs": [],
   "source": [
    "#clean_prd_df"
   ]
  },
  {
   "cell_type": "code",
   "execution_count": 147,
   "id": "23c4fa4b-0e02-4d93-af50-f9fea0089af6",
   "metadata": {},
   "outputs": [
    {
     "data": {
      "text/plain": [
       "'kinh nam rất xịn'"
      ]
     },
     "execution_count": 147,
     "metadata": {},
     "output_type": "execute_result"
    }
   ],
   "source": [
    "#text_prd = clean_prd_df.loc[100,'product_name']\n",
    "text_prd"
   ]
  },
  {
   "cell_type": "code",
   "execution_count": 16,
   "id": "cf7b9c64-d68c-4de8-b517-5e2ad61cd601",
   "metadata": {},
   "outputs": [
    {
     "name": "stdout",
     "output_type": "stream",
     "text": [
      "San Pham user nhap: kinh nam rất xịn\n",
      "\n",
      "\n",
      "Recommnended:\tItem ID: 11035, Cà Vạt Có Khóa Kéo Dễ Kéo Phong Cách Bắc Kinh Dành Cho Nam Nữ, (score: 0.43099371373718015)\n",
      "\n",
      "Recommnended:\tItem ID: 19026, Kinh nam Poscher đổi màu chui tròn, (score: 0.4424089801609495)\n",
      "\n",
      "Recommnended:\tItem ID: 33358, KÍNH NAM XỊN, (score: 0.46969046860575886)\n",
      "\n",
      "Recommnended:\tItem ID: 31381, Kính nam xịn, (score: 0.46969046860575886)\n",
      "\n",
      "Recommnended:\tItem ID: 30872, kinh mát nam cao cấp gọng dẻo đẹp nhất, (score: 0.5188618900050489)\n",
      "\n"
     ]
    }
   ],
   "source": [
    "sim_res_df = recommend_cosine(text_=text_prd,\n",
    "                              cleaner=data_cleanser,\n",
    "                             df=clean_prd_df,\n",
    "                             tf_idf_model=sim_tfidf_model,\n",
    "                             tf_idf_arr=sim_tfidf_matrix)"
   ]
  },
  {
   "cell_type": "code",
   "execution_count": 149,
   "id": "9615f25e-374c-497d-b915-de6303091120",
   "metadata": {},
   "outputs": [
    {
     "data": {
      "text/html": [
       "<div>\n",
       "<style scoped>\n",
       "    .dataframe tbody tr th:only-of-type {\n",
       "        vertical-align: middle;\n",
       "    }\n",
       "\n",
       "    .dataframe tbody tr th {\n",
       "        vertical-align: top;\n",
       "    }\n",
       "\n",
       "    .dataframe thead th {\n",
       "        text-align: right;\n",
       "    }\n",
       "</style>\n",
       "<table border=\"1\" class=\"dataframe\">\n",
       "  <thead>\n",
       "    <tr style=\"text-align: right;\">\n",
       "      <th></th>\n",
       "      <th>product_id</th>\n",
       "      <th>product_name</th>\n",
       "      <th>clean_prd_name</th>\n",
       "      <th>sub_category</th>\n",
       "      <th>price</th>\n",
       "      <th>rating</th>\n",
       "      <th>item_id</th>\n",
       "      <th>score</th>\n",
       "    </tr>\n",
       "  </thead>\n",
       "  <tbody>\n",
       "    <tr>\n",
       "      <th>2</th>\n",
       "      <td>12486</td>\n",
       "      <td>kinh mát nam cao cấp gọng dẻo đẹp nhất</td>\n",
       "      <td>kinh mát_nam cao_cấp gọng dẻo đẹp nhất</td>\n",
       "      <td>Kính Mắt Nam</td>\n",
       "      <td>209000.0</td>\n",
       "      <td>4.5</td>\n",
       "      <td>30872</td>\n",
       "      <td>0.518862</td>\n",
       "    </tr>\n",
       "    <tr>\n",
       "      <th>3</th>\n",
       "      <td>12995</td>\n",
       "      <td>Kính nam xịn</td>\n",
       "      <td>kính nam xịn</td>\n",
       "      <td>Kính Mắt Nam</td>\n",
       "      <td>250000.0</td>\n",
       "      <td>5.0</td>\n",
       "      <td>31381</td>\n",
       "      <td>0.469690</td>\n",
       "    </tr>\n",
       "    <tr>\n",
       "      <th>4</th>\n",
       "      <td>122972</td>\n",
       "      <td>KÍNH NAM XỊN</td>\n",
       "      <td>kính nam xịn</td>\n",
       "      <td>Kính Mắt Nam</td>\n",
       "      <td>550000.0</td>\n",
       "      <td>0.0</td>\n",
       "      <td>33358</td>\n",
       "      <td>0.469690</td>\n",
       "    </tr>\n",
       "    <tr>\n",
       "      <th>1</th>\n",
       "      <td>241905</td>\n",
       "      <td>Kinh nam Poscher đổi màu chui tròn</td>\n",
       "      <td>kinh nam poscher đổi màu chui tròn</td>\n",
       "      <td>Đồ Hóa Trang</td>\n",
       "      <td>180000.0</td>\n",
       "      <td>0.0</td>\n",
       "      <td>19026</td>\n",
       "      <td>0.442409</td>\n",
       "    </tr>\n",
       "    <tr>\n",
       "      <th>0</th>\n",
       "      <td>103621</td>\n",
       "      <td>Cà Vạt Có Khóa Kéo Dễ Kéo Phong Cách Bắc Kinh ...</td>\n",
       "      <td>cà_vạt có khóa kéo dễ kéo phong_cách bắc kinh ...</td>\n",
       "      <td>Cà vạt &amp; Nơ cổ</td>\n",
       "      <td>133000.0</td>\n",
       "      <td>0.0</td>\n",
       "      <td>11035</td>\n",
       "      <td>0.430994</td>\n",
       "    </tr>\n",
       "  </tbody>\n",
       "</table>\n",
       "</div>"
      ],
      "text/plain": [
       "   product_id                                       product_name  \\\n",
       "2       12486             kinh mát nam cao cấp gọng dẻo đẹp nhất   \n",
       "3       12995                                       Kính nam xịn   \n",
       "4      122972                                       KÍNH NAM XỊN   \n",
       "1      241905                 Kinh nam Poscher đổi màu chui tròn   \n",
       "0      103621  Cà Vạt Có Khóa Kéo Dễ Kéo Phong Cách Bắc Kinh ...   \n",
       "\n",
       "                                      clean_prd_name    sub_category  \\\n",
       "2             kinh mát_nam cao_cấp gọng dẻo đẹp nhất    Kính Mắt Nam   \n",
       "3                                       kính nam xịn    Kính Mắt Nam   \n",
       "4                                       kính nam xịn    Kính Mắt Nam   \n",
       "1                 kinh nam poscher đổi màu chui tròn    Đồ Hóa Trang   \n",
       "0  cà_vạt có khóa kéo dễ kéo phong_cách bắc kinh ...  Cà vạt & Nơ cổ   \n",
       "\n",
       "      price  rating  item_id     score  \n",
       "2  209000.0     4.5    30872  0.518862  \n",
       "3  250000.0     5.0    31381  0.469690  \n",
       "4  550000.0     0.0    33358  0.469690  \n",
       "1  180000.0     0.0    19026  0.442409  \n",
       "0  133000.0     0.0    11035  0.430994  "
      ]
     },
     "execution_count": 149,
     "metadata": {},
     "output_type": "execute_result"
    }
   ],
   "source": [
    "sim_res_df"
   ]
  },
  {
   "cell_type": "code",
   "execution_count": 150,
   "id": "ea98d8ff-8d90-4cd0-9e0d-3d31ffd96801",
   "metadata": {},
   "outputs": [
    {
     "data": {
      "text/html": [
       "<div>\n",
       "<style scoped>\n",
       "    .dataframe tbody tr th:only-of-type {\n",
       "        vertical-align: middle;\n",
       "    }\n",
       "\n",
       "    .dataframe tbody tr th {\n",
       "        vertical-align: top;\n",
       "    }\n",
       "\n",
       "    .dataframe thead th {\n",
       "        text-align: right;\n",
       "    }\n",
       "</style>\n",
       "<table border=\"1\" class=\"dataframe\">\n",
       "  <thead>\n",
       "    <tr style=\"text-align: right;\">\n",
       "      <th></th>\n",
       "      <th>product_id</th>\n",
       "      <th>product_name</th>\n",
       "      <th>clean_prd_name</th>\n",
       "      <th>sub_category</th>\n",
       "      <th>price</th>\n",
       "      <th>rating</th>\n",
       "      <th>item_id</th>\n",
       "      <th>score</th>\n",
       "    </tr>\n",
       "  </thead>\n",
       "  <tbody>\n",
       "    <tr>\n",
       "      <th>28351</th>\n",
       "      <td>113402</td>\n",
       "      <td>kinh nam siêu xin</td>\n",
       "      <td>kinh nam xin</td>\n",
       "      <td>Khác</td>\n",
       "      <td>145000.0</td>\n",
       "      <td>0.0</td>\n",
       "      <td>28351</td>\n",
       "      <td>0.518623</td>\n",
       "    </tr>\n",
       "    <tr>\n",
       "      <th>30872</th>\n",
       "      <td>12486</td>\n",
       "      <td>kinh mát nam cao cấp gọng dẻo đẹp nhất</td>\n",
       "      <td>kinh mát_nam cao_cấp gọng dẻo đẹp nhất</td>\n",
       "      <td>Kính Mắt Nam</td>\n",
       "      <td>209000.0</td>\n",
       "      <td>4.5</td>\n",
       "      <td>30872</td>\n",
       "      <td>0.443889</td>\n",
       "    </tr>\n",
       "    <tr>\n",
       "      <th>19026</th>\n",
       "      <td>241905</td>\n",
       "      <td>Kinh nam Poscher đổi màu chui tròn</td>\n",
       "      <td>kinh nam poscher đổi màu chui tròn</td>\n",
       "      <td>Đồ Hóa Trang</td>\n",
       "      <td>180000.0</td>\n",
       "      <td>0.0</td>\n",
       "      <td>19026</td>\n",
       "      <td>0.378886</td>\n",
       "    </tr>\n",
       "    <tr>\n",
       "      <th>31381</th>\n",
       "      <td>12995</td>\n",
       "      <td>Kính nam xịn</td>\n",
       "      <td>kính nam xịn</td>\n",
       "      <td>Kính Mắt Nam</td>\n",
       "      <td>250000.0</td>\n",
       "      <td>5.0</td>\n",
       "      <td>31381</td>\n",
       "      <td>0.366443</td>\n",
       "    </tr>\n",
       "    <tr>\n",
       "      <th>33358</th>\n",
       "      <td>122972</td>\n",
       "      <td>KÍNH NAM XỊN</td>\n",
       "      <td>kính nam xịn</td>\n",
       "      <td>Kính Mắt Nam</td>\n",
       "      <td>550000.0</td>\n",
       "      <td>0.0</td>\n",
       "      <td>33358</td>\n",
       "      <td>0.366443</td>\n",
       "    </tr>\n",
       "    <tr>\n",
       "      <th>11035</th>\n",
       "      <td>103621</td>\n",
       "      <td>Cà Vạt Có Khóa Kéo Dễ Kéo Phong Cách Bắc Kinh ...</td>\n",
       "      <td>cà_vạt có khóa kéo dễ kéo phong_cách bắc kinh ...</td>\n",
       "      <td>Cà vạt &amp; Nơ cổ</td>\n",
       "      <td>133000.0</td>\n",
       "      <td>0.0</td>\n",
       "      <td>11035</td>\n",
       "      <td>0.351456</td>\n",
       "    </tr>\n",
       "  </tbody>\n",
       "</table>\n",
       "</div>"
      ],
      "text/plain": [
       "       product_id                                       product_name  \\\n",
       "28351      113402                                  kinh nam siêu xin   \n",
       "30872       12486             kinh mát nam cao cấp gọng dẻo đẹp nhất   \n",
       "19026      241905                 Kinh nam Poscher đổi màu chui tròn   \n",
       "31381       12995                                       Kính nam xịn   \n",
       "33358      122972                                       KÍNH NAM XỊN   \n",
       "11035      103621  Cà Vạt Có Khóa Kéo Dễ Kéo Phong Cách Bắc Kinh ...   \n",
       "\n",
       "                                          clean_prd_name    sub_category  \\\n",
       "28351                                       kinh nam xin            Khác   \n",
       "30872             kinh mát_nam cao_cấp gọng dẻo đẹp nhất    Kính Mắt Nam   \n",
       "19026                 kinh nam poscher đổi màu chui tròn    Đồ Hóa Trang   \n",
       "31381                                       kính nam xịn    Kính Mắt Nam   \n",
       "33358                                       kính nam xịn    Kính Mắt Nam   \n",
       "11035  cà_vạt có khóa kéo dễ kéo phong_cách bắc kinh ...  Cà vạt & Nơ cổ   \n",
       "\n",
       "          price  rating  item_id     score  \n",
       "28351  145000.0     0.0    28351  0.518623  \n",
       "30872  209000.0     4.5    30872  0.443889  \n",
       "19026  180000.0     0.0    19026  0.378886  \n",
       "31381  250000.0     5.0    31381  0.366443  \n",
       "33358  550000.0     0.0    33358  0.366443  \n",
       "11035  133000.0     0.0    11035  0.351456  "
      ]
     },
     "execution_count": 150,
     "metadata": {},
     "output_type": "execute_result"
    }
   ],
   "source": [
    "results_df"
   ]
  },
  {
   "cell_type": "code",
   "execution_count": 151,
   "id": "17bef02e-632f-4eb8-9fb6-a1c06e4336fc",
   "metadata": {},
   "outputs": [
    {
     "data": {
      "text/plain": [
       "'kinh nam rất xịn'"
      ]
     },
     "execution_count": 151,
     "metadata": {},
     "output_type": "execute_result"
    }
   ],
   "source": [
    "text_prd"
   ]
  },
  {
   "cell_type": "markdown",
   "id": "55d10d9b-7489-404f-b016-14ea6e0f43a7",
   "metadata": {},
   "source": [
    "# Combine BOTH"
   ]
  },
  {
   "cell_type": "code",
   "execution_count": 155,
   "id": "cf6feea1-75ad-43d6-8064-ff92e848764a",
   "metadata": {},
   "outputs": [
    {
     "data": {
      "text/html": [
       "<div>\n",
       "<style scoped>\n",
       "    .dataframe tbody tr th:only-of-type {\n",
       "        vertical-align: middle;\n",
       "    }\n",
       "\n",
       "    .dataframe tbody tr th {\n",
       "        vertical-align: top;\n",
       "    }\n",
       "\n",
       "    .dataframe thead th {\n",
       "        text-align: right;\n",
       "    }\n",
       "</style>\n",
       "<table border=\"1\" class=\"dataframe\">\n",
       "  <thead>\n",
       "    <tr style=\"text-align: right;\">\n",
       "      <th></th>\n",
       "      <th>product_id</th>\n",
       "      <th>product_name</th>\n",
       "      <th>clean_prd_name</th>\n",
       "      <th>sub_category</th>\n",
       "      <th>price</th>\n",
       "      <th>rating</th>\n",
       "      <th>score_gensim</th>\n",
       "      <th>score_simi</th>\n",
       "    </tr>\n",
       "  </thead>\n",
       "  <tbody>\n",
       "    <tr>\n",
       "      <th>0</th>\n",
       "      <td>12486</td>\n",
       "      <td>kinh mát nam cao cấp gọng dẻo đẹp nhất</td>\n",
       "      <td>kinh mát_nam cao_cấp gọng dẻo đẹp nhất</td>\n",
       "      <td>Kính Mắt Nam</td>\n",
       "      <td>209000.0</td>\n",
       "      <td>4.5</td>\n",
       "      <td>0.518862</td>\n",
       "      <td>0.443889</td>\n",
       "    </tr>\n",
       "    <tr>\n",
       "      <th>1</th>\n",
       "      <td>12995</td>\n",
       "      <td>Kính nam xịn</td>\n",
       "      <td>kính nam xịn</td>\n",
       "      <td>Kính Mắt Nam</td>\n",
       "      <td>250000.0</td>\n",
       "      <td>5.0</td>\n",
       "      <td>0.469690</td>\n",
       "      <td>0.366443</td>\n",
       "    </tr>\n",
       "    <tr>\n",
       "      <th>2</th>\n",
       "      <td>122972</td>\n",
       "      <td>KÍNH NAM XỊN</td>\n",
       "      <td>kính nam xịn</td>\n",
       "      <td>Kính Mắt Nam</td>\n",
       "      <td>550000.0</td>\n",
       "      <td>0.0</td>\n",
       "      <td>0.469690</td>\n",
       "      <td>0.366443</td>\n",
       "    </tr>\n",
       "    <tr>\n",
       "      <th>3</th>\n",
       "      <td>241905</td>\n",
       "      <td>Kinh nam Poscher đổi màu chui tròn</td>\n",
       "      <td>kinh nam poscher đổi màu chui tròn</td>\n",
       "      <td>Đồ Hóa Trang</td>\n",
       "      <td>180000.0</td>\n",
       "      <td>0.0</td>\n",
       "      <td>0.442409</td>\n",
       "      <td>0.378886</td>\n",
       "    </tr>\n",
       "    <tr>\n",
       "      <th>4</th>\n",
       "      <td>103621</td>\n",
       "      <td>Cà Vạt Có Khóa Kéo Dễ Kéo Phong Cách Bắc Kinh ...</td>\n",
       "      <td>cà_vạt có khóa kéo dễ kéo phong_cách bắc kinh ...</td>\n",
       "      <td>Cà vạt &amp; Nơ cổ</td>\n",
       "      <td>133000.0</td>\n",
       "      <td>0.0</td>\n",
       "      <td>0.430994</td>\n",
       "      <td>0.351456</td>\n",
       "    </tr>\n",
       "    <tr>\n",
       "      <th>5</th>\n",
       "      <td>113402</td>\n",
       "      <td>kinh nam siêu xin</td>\n",
       "      <td>kinh nam xin</td>\n",
       "      <td>Khác</td>\n",
       "      <td>145000.0</td>\n",
       "      <td>0.0</td>\n",
       "      <td>NaN</td>\n",
       "      <td>0.518623</td>\n",
       "    </tr>\n",
       "  </tbody>\n",
       "</table>\n",
       "</div>"
      ],
      "text/plain": [
       "   product_id                                       product_name  \\\n",
       "0       12486             kinh mát nam cao cấp gọng dẻo đẹp nhất   \n",
       "1       12995                                       Kính nam xịn   \n",
       "2      122972                                       KÍNH NAM XỊN   \n",
       "3      241905                 Kinh nam Poscher đổi màu chui tròn   \n",
       "4      103621  Cà Vạt Có Khóa Kéo Dễ Kéo Phong Cách Bắc Kinh ...   \n",
       "5      113402                                  kinh nam siêu xin   \n",
       "\n",
       "                                      clean_prd_name    sub_category  \\\n",
       "0             kinh mát_nam cao_cấp gọng dẻo đẹp nhất    Kính Mắt Nam   \n",
       "1                                       kính nam xịn    Kính Mắt Nam   \n",
       "2                                       kính nam xịn    Kính Mắt Nam   \n",
       "3                 kinh nam poscher đổi màu chui tròn    Đồ Hóa Trang   \n",
       "4  cà_vạt có khóa kéo dễ kéo phong_cách bắc kinh ...  Cà vạt & Nơ cổ   \n",
       "5                                       kinh nam xin            Khác   \n",
       "\n",
       "      price  rating  score_gensim  score_simi  \n",
       "0  209000.0     4.5      0.518862    0.443889  \n",
       "1  250000.0     5.0      0.469690    0.366443  \n",
       "2  550000.0     0.0      0.469690    0.366443  \n",
       "3  180000.0     0.0      0.442409    0.378886  \n",
       "4  133000.0     0.0      0.430994    0.351456  \n",
       "5  145000.0     0.0           NaN    0.518623  "
      ]
     },
     "execution_count": 155,
     "metadata": {},
     "output_type": "execute_result"
    }
   ],
   "source": [
    "combine_both(gensim_df=results_df,cosim_df=sim_res_df)"
   ]
  },
  {
   "cell_type": "code",
   "execution_count": 154,
   "id": "4d4f30e2-3566-4005-8f63-06d0a9c4f3fe",
   "metadata": {},
   "outputs": [],
   "source": [
    "# combine_df = pd.merge(sim_res_df,\n",
    "#                      results_df,\n",
    "#                      on=['product_id','product_name','clean_prd_name','sub_category','price','rating'],\n",
    "#                      suffixes=('_gensim', '_simi'), \n",
    "#                      how='outer').drop(columns=['item_id_gensim','item_id_simi'])\n",
    "# combine_df[combine_df['rating']>3]"
   ]
  }
 ],
 "metadata": {
  "kernelspec": {
   "display_name": "Python 3 (ipykernel)",
   "language": "python",
   "name": "python3"
  },
  "language_info": {
   "codemirror_mode": {
    "name": "ipython",
    "version": 3
   },
   "file_extension": ".py",
   "mimetype": "text/x-python",
   "name": "python",
   "nbconvert_exporter": "python",
   "pygments_lexer": "ipython3",
   "version": "3.9.18"
  }
 },
 "nbformat": 4,
 "nbformat_minor": 5
}
