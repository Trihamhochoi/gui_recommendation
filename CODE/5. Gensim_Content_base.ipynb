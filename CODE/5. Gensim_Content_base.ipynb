{
 "cells": [
  {
   "cell_type": "code",
   "execution_count": 1,
   "id": "d1be3c69-e293-4ab6-98f6-8ae4ab3874df",
   "metadata": {},
   "outputs": [],
   "source": [
    "import numpy as np\n",
    "import pandas as pd\n",
    "import matplotlib.pyplot as plt\n",
    "from sklearn.feature_extraction.text import TfidfVectorizer\n",
    "from sklearn.metrics.pairwise import linear_kernel, cosine_similarity\n",
    "from underthesea import word_tokenize, pos_tag, sent_tokenize\n",
    "import warnings\n",
    "from gensim import corpora, models, similarities\n",
    "#import jieba\n",
    "import re"
   ]
  },
  {
   "cell_type": "code",
   "execution_count": 2,
   "id": "0bd6fff5-8d75-4b47-93cb-f8040f6d65c0",
   "metadata": {},
   "outputs": [],
   "source": [
    "import matplotlib.pyplot as plt \n",
    "import seaborn as sns\n",
    "import glob\n",
    "import os \n",
    "from tqdm.auto import tqdm\n",
    "import re"
   ]
  },
  {
   "cell_type": "markdown",
   "id": "13d7aae5-663b-425d-aa21-42639a4b1558",
   "metadata": {},
   "source": [
    "# Load file data:"
   ]
  },
  {
   "cell_type": "code",
   "execution_count": 3,
   "id": "10202ea0-16ff-4224-8f74-a74b163a4339",
   "metadata": {},
   "outputs": [],
   "source": [
    "use_cols = ['product_id','sub_category','price','rating','clean_desc','product_name','clean_prd_name']\n",
    "clean_prd_df = pd.read_csv('../DATA/final_details.csv',usecols=use_cols)"
   ]
  },
  {
   "cell_type": "code",
   "execution_count": 4,
   "id": "b4fc7627-c2b2-4514-a9ff-a1049b77a09e",
   "metadata": {},
   "outputs": [
    {
     "data": {
      "text/html": [
       "<div>\n",
       "<style scoped>\n",
       "    .dataframe tbody tr th:only-of-type {\n",
       "        vertical-align: middle;\n",
       "    }\n",
       "\n",
       "    .dataframe tbody tr th {\n",
       "        vertical-align: top;\n",
       "    }\n",
       "\n",
       "    .dataframe thead th {\n",
       "        text-align: right;\n",
       "    }\n",
       "</style>\n",
       "<table border=\"1\" class=\"dataframe\">\n",
       "  <thead>\n",
       "    <tr style=\"text-align: right;\">\n",
       "      <th></th>\n",
       "      <th>product_id</th>\n",
       "      <th>product_name</th>\n",
       "      <th>sub_category</th>\n",
       "      <th>price</th>\n",
       "      <th>rating</th>\n",
       "      <th>clean_desc</th>\n",
       "      <th>clean_prd_name</th>\n",
       "    </tr>\n",
       "  </thead>\n",
       "  <tbody>\n",
       "    <tr>\n",
       "      <th>0</th>\n",
       "      <td>190</td>\n",
       "      <td>Áo ba lỗ thun gân ,form body tôn dáng</td>\n",
       "      <td>Áo Ba Lỗ</td>\n",
       "      <td>86250.0</td>\n",
       "      <td>4.9</td>\n",
       "      <td>áo lỗ chiều đường_phố nhiệt_đới tal fit xuất_x...</td>\n",
       "      <td>áo lỗ thun gân form body</td>\n",
       "    </tr>\n",
       "    <tr>\n",
       "      <th>1</th>\n",
       "      <td>191</td>\n",
       "      <td>Áo Ba Lỗ Nam Trắng Chất Cotton Siêu Mát, Siêu Đẹp</td>\n",
       "      <td>Áo Ba Lỗ</td>\n",
       "      <td>26800.0</td>\n",
       "      <td>4.9</td>\n",
       "      <td>áo lỗ xuất_xứ việt_nam tổ_chức trách_nhiệm sản...</td>\n",
       "      <td>áo lỗ nam trắng chất_cotton siêu_mát đẹp</td>\n",
       "    </tr>\n",
       "    <tr>\n",
       "      <th>2</th>\n",
       "      <td>192</td>\n",
       "      <td>Áo Ba Lỗ Nam Tyasuo chất vải co dãn mát, không...</td>\n",
       "      <td>Áo Ba Lỗ</td>\n",
       "      <td>39500.0</td>\n",
       "      <td>4.8</td>\n",
       "      <td>áo lỗ thương_hiệu tyasuo chiều áo không_thể đư...</td>\n",
       "      <td>áo lỗ nam tyasuo chất vải co_dãn mát không_xù mềm</td>\n",
       "    </tr>\n",
       "    <tr>\n",
       "      <th>3</th>\n",
       "      <td>193</td>\n",
       "      <td>ÁO BA LỖ HÀNG VIỆT NAM 100% COTTON</td>\n",
       "      <td>Áo Ba Lỗ</td>\n",
       "      <td>16500.0</td>\n",
       "      <td>4.8</td>\n",
       "      <td>áo lỗ chất_liệu hàng gửi hà_nội áo lỗ nam mặc ...</td>\n",
       "      <td>áo lỗ hàng việt_nam</td>\n",
       "    </tr>\n",
       "    <tr>\n",
       "      <th>4</th>\n",
       "      <td>194</td>\n",
       "      <td>Áo Thun Nam Thể Thao Ba Lỗ Mẫu Mới Siêu Đẹp (B...</td>\n",
       "      <td>Áo Ba Lỗ</td>\n",
       "      <td>45000.0</td>\n",
       "      <td>4.8</td>\n",
       "      <td>áo lỗ chiều áo không_thể hàng gửi hà_nội thông...</td>\n",
       "      <td>áo thun nam thể_thao lỗ mẫu mới đẹp</td>\n",
       "    </tr>\n",
       "  </tbody>\n",
       "</table>\n",
       "</div>"
      ],
      "text/plain": [
       "   product_id                                       product_name sub_category  \\\n",
       "0         190              Áo ba lỗ thun gân ,form body tôn dáng     Áo Ba Lỗ   \n",
       "1         191  Áo Ba Lỗ Nam Trắng Chất Cotton Siêu Mát, Siêu Đẹp     Áo Ba Lỗ   \n",
       "2         192  Áo Ba Lỗ Nam Tyasuo chất vải co dãn mát, không...     Áo Ba Lỗ   \n",
       "3         193                 ÁO BA LỖ HÀNG VIỆT NAM 100% COTTON     Áo Ba Lỗ   \n",
       "4         194  Áo Thun Nam Thể Thao Ba Lỗ Mẫu Mới Siêu Đẹp (B...     Áo Ba Lỗ   \n",
       "\n",
       "     price  rating                                         clean_desc  \\\n",
       "0  86250.0     4.9  áo lỗ chiều đường_phố nhiệt_đới tal fit xuất_x...   \n",
       "1  26800.0     4.9  áo lỗ xuất_xứ việt_nam tổ_chức trách_nhiệm sản...   \n",
       "2  39500.0     4.8  áo lỗ thương_hiệu tyasuo chiều áo không_thể đư...   \n",
       "3  16500.0     4.8  áo lỗ chất_liệu hàng gửi hà_nội áo lỗ nam mặc ...   \n",
       "4  45000.0     4.8  áo lỗ chiều áo không_thể hàng gửi hà_nội thông...   \n",
       "\n",
       "                                      clean_prd_name  \n",
       "0                           áo lỗ thun gân form body  \n",
       "1           áo lỗ nam trắng chất_cotton siêu_mát đẹp  \n",
       "2  áo lỗ nam tyasuo chất vải co_dãn mát không_xù mềm  \n",
       "3                                áo lỗ hàng việt_nam  \n",
       "4                áo thun nam thể_thao lỗ mẫu mới đẹp  "
      ]
     },
     "execution_count": 4,
     "metadata": {},
     "output_type": "execute_result"
    }
   ],
   "source": [
    "clean_prd_df.head()"
   ]
  },
  {
   "cell_type": "markdown",
   "id": "d2fb26fa-9354-4062-8038-7a116b05b80c",
   "metadata": {},
   "source": [
    "## Check na values from clean data"
   ]
  },
  {
   "cell_type": "code",
   "execution_count": 6,
   "id": "2b8a0fef-bc76-486a-a2b7-46c66b2ef2d8",
   "metadata": {},
   "outputs": [],
   "source": [
    "#clean_prd_df[clean_prd_df['clean_prd_name'].apply(lambda x: isinstance(x,float))]"
   ]
  },
  {
   "cell_type": "code",
   "execution_count": 5,
   "id": "4213b63c-d3b9-4bc2-9f73-d3fec7710001",
   "metadata": {},
   "outputs": [
    {
     "data": {
      "text/plain": [
       "Int64Index([], dtype='int64')"
      ]
     },
     "execution_count": 5,
     "metadata": {},
     "output_type": "execute_result"
    }
   ],
   "source": [
    "drop_idx = clean_prd_df[clean_prd_df['clean_prd_name'].apply(lambda x: isinstance(x,float))].index\n",
    "drop_idx"
   ]
  },
  {
   "cell_type": "code",
   "execution_count": 6,
   "id": "717333e9-f97b-44a2-8563-a9c4052b28b3",
   "metadata": {},
   "outputs": [],
   "source": [
    "clean_prd_df = clean_prd_df.drop(index=drop_idx)"
   ]
  },
  {
   "cell_type": "code",
   "execution_count": 7,
   "id": "4f4371bc-aa3a-4984-ac84-a237ec666a1d",
   "metadata": {},
   "outputs": [],
   "source": [
    "def export_dict_gensim(col_values: np.array):\n",
    "    # Tokenize(split) the sentences into words\n",
    "    #products_gem = [ for x in col_values]\n",
    "    products_gem = list()\n",
    "    for x in tqdm(col_values,\"Tokenize data\"):\n",
    "        if isinstance(x,str):\n",
    "            split_txt = [text for text in x.split()]\n",
    "            products_gem.append(split_txt)\n",
    "            \n",
    "    # remove some special elements in texts\n",
    "    # number\n",
    "    products_gem_re = [[re.sub('[0-9]+', '', e) for e in text] for text in products_gem]\n",
    "    # special symbols\n",
    "    special_ls = ['', ' ', ',', '.', '...', '-', ':', ';', '?',\n",
    "                  '%', '_%', '(', ')', '+', '/', 'g', 'ml']\n",
    "    products_gem_re = [[t.lower() for t in text if t not in special_ls] for text in products_gem_re]\n",
    "\n",
    "    # Obtain the number of features based on dictionary: Use corpora.Dictionary\n",
    "    dictionary = corpora.Dictionary(products_gem_re)\n",
    "    print('Numbers of features in **Dictionary**:',len(dictionary.token2id))\n",
    "\n",
    "    # Obtain corpus based on dictionary (dense matrix)\n",
    "    corpus = [dictionary.doc2bow(text) for text in products_gem_re]\n",
    "    return dictionary, corpus"
   ]
  },
  {
   "cell_type": "code",
   "execution_count": 8,
   "id": "5c889e82-cf13-46e2-8547-81634559649a",
   "metadata": {},
   "outputs": [],
   "source": [
    "prd_name_values = clean_prd_df['clean_prd_name'].values"
   ]
  },
  {
   "cell_type": "code",
   "execution_count": 9,
   "id": "ba1551b1-f41a-4be2-8b20-08980d9d1b2c",
   "metadata": {},
   "outputs": [
    {
     "data": {
      "application/vnd.jupyter.widget-view+json": {
       "model_id": "b547af2866b84bbd9a89559049d4e373",
       "version_major": 2,
       "version_minor": 0
      },
      "text/plain": [
       "Tokenize data:   0%|          | 0/49594 [00:00<?, ?it/s]"
      ]
     },
     "metadata": {},
     "output_type": "display_data"
    },
    {
     "name": "stdout",
     "output_type": "stream",
     "text": [
      "Numbers of features in **Dictionary**: 21589\n"
     ]
    }
   ],
   "source": [
    "name_prd_dict, name_prd_corpus = export_dict_gensim(col_values=prd_name_values)"
   ]
  },
  {
   "cell_type": "markdown",
   "id": "3e7de36b-d64b-4abd-938b-b0c385b7f8fc",
   "metadata": {},
   "source": [
    "- View the sample of words from Gensim"
   ]
  },
  {
   "cell_type": "code",
   "execution_count": 10,
   "id": "e6f007fe-2c6c-4b5c-acf2-309bb5bb6185",
   "metadata": {},
   "outputs": [
    {
     "data": {
      "text/plain": [
       "['body',\n",
       " 'form',\n",
       " 'gân',\n",
       " 'lỗ',\n",
       " 'thun',\n",
       " 'áo',\n",
       " 'chất_cotton',\n",
       " 'nam',\n",
       " 'siêu_mát',\n",
       " 'trắng']"
      ]
     },
     "execution_count": 10,
     "metadata": {},
     "output_type": "execute_result"
    }
   ],
   "source": [
    "list(name_prd_dict.token2id.keys())[0:10]"
   ]
  },
  {
   "cell_type": "code",
   "execution_count": 11,
   "id": "d00dbfda-a8f5-431d-b3cd-88222b5dcb1b",
   "metadata": {},
   "outputs": [
    {
     "data": {
      "text/plain": [
       "[(0, 1), (1, 1), (2, 1), (3, 1), (4, 1), (5, 1)]"
      ]
     },
     "execution_count": 11,
     "metadata": {},
     "output_type": "execute_result"
    }
   ],
   "source": [
    "name_prd_corpus[0]"
   ]
  },
  {
   "cell_type": "markdown",
   "id": "d547d1d9-c461-47b3-a1ec-3d9734a4d840",
   "metadata": {},
   "source": [
    "# Apply model TFIDF:"
   ]
  },
  {
   "cell_type": "code",
   "execution_count": 12,
   "id": "18b6dd08-b615-408c-bee5-0eeb2b5d24c1",
   "metadata": {},
   "outputs": [],
   "source": [
    "# Create the TF-IDF model\n",
    "tfidf = models.TfidfModel(corpus=name_prd_corpus, smartirs='ntc')"
   ]
  },
  {
   "cell_type": "code",
   "execution_count": 13,
   "id": "8cb80bc0-d594-4ee1-91bb-7546070913c3",
   "metadata": {
    "scrolled": true
   },
   "outputs": [
    {
     "name": "stdout",
     "output_type": "stream",
     "text": [
      "[['body', 0.49], ['form', 0.34], ['gân', 0.68], ['lỗ', 0.35], ['thun', 0.23], ['áo', 0.13]]\n",
      "\n",
      "\n",
      "\n",
      "[['lỗ', 0.35], ['áo', 0.13], ['chất_cotton', 0.57], ['nam', 0.08], ['siêu_mát', 0.58], ['trắng', 0.36], ['đẹp', 0.26]]\n",
      "\n",
      "\n",
      "\n",
      "[['lỗ', 0.26], ['áo', 0.09], ['nam', 0.06], ['chất', 0.21], ['co_dãn', 0.3], ['không_xù', 0.43], ['mát', 0.22], ['mềm', 0.28], ['tyasuo', 0.67], ['vải', 0.19]]\n",
      "\n",
      "\n",
      "\n",
      "[['lỗ', 0.49], ['áo', 0.18], ['hàng', 0.35], ['việt_nam', 0.78]]\n",
      "\n",
      "\n",
      "\n",
      "[['lỗ', 0.48], ['thun', 0.31], ['áo', 0.17], ['nam', 0.1], ['đẹp', 0.35], ['mẫu', 0.49], ['mới', 0.42], ['thể_thao', 0.3]]\n",
      "\n",
      "\n",
      "\n",
      "[['lỗ', 0.19], ['áo', 0.07], ['nam', 0.04], ['siêu_mát', 0.31], ['thể_thao', 0.12], ['chất_liệu', 0.17], ['co_giãn', 0.17], ['cotton', 0.15], ['hút', 0.22], ['kĩ_hàng', 0.49], ['may', 0.29], ['mồ_hôi', 0.24], ['sát_nách', 0.42], ['thấm', 0.22], ['đường', 0.33]]\n",
      "\n",
      "\n",
      "\n",
      "[['lỗ', 0.31], ['áo', 0.11], ['nam', 0.03], ['mềm', 0.17], ['co_giãn', 0.14], ['sát_nách', 0.34], ['cao_cấp', 0.09], ['gym', 0.19], ['kiểu', 0.19], ['lót_form', 0.44], ['màu', 0.09], ['mịn_tập', 0.44], ['rộng', 0.12], ['tank', 0.23], ['top', 0.23], ['unifun', 0.36]]\n",
      "\n",
      "\n",
      "\n",
      "[['thun', 0.18], ['áo', 0.2], ['nam', 0.12], ['đẹp', 0.2], ['hàng', 0.2], ['thể_thao', 0.17], ['gym', 0.34], ['lỗ_thể', 0.75], ['tập', 0.36]]\n",
      "\n",
      "\n",
      "\n",
      "[['lỗ', 0.2], ['áo', 0.07], ['mát', 0.17], ['vải', 0.15], ['may', 0.3], ['coton', 0.33], ['giảm', 0.25], ['mã', 0.26], ['mặc', 0.19], ['mặc_lót', 0.44], ['mỏng', 0.27], ['nhà', 0.22], ['ô', 0.39], ['đơn', 0.27]]\n",
      "\n",
      "\n",
      "\n",
      "[['lỗ', 0.24], ['áo', 0.09], ['nam', 0.05], ['trắng', 0.24], ['màu', 0.13], ['cộc', 0.29], ['lót', 0.33], ['maxtino', 0.58], ['tay', 0.14], ['xuân', 0.35], ['xuất_nhật', 0.34], ['đông', 0.25]]\n",
      "\n",
      "\n",
      "\n"
     ]
    }
   ],
   "source": [
    "# Show the TF-IDF weights\n",
    "for doc in tfidf[name_prd_corpus][0:10]:\n",
    "    print([[name_prd_dict[id], np.around(freq, decimals=2)] for id, freq in doc])\n",
    "    print(\"\\n\\n\")"
   ]
  },
  {
   "cell_type": "code",
   "execution_count": 14,
   "id": "b6ea6fa7-c40b-4410-badc-5c3d76e58b6d",
   "metadata": {},
   "outputs": [],
   "source": [
    "# tính toán sự tương tự trong ma trận thưa thớt\n",
    "feature_cnt = len(name_prd_dict.token2id)\n",
    "index = similarities.SparseMatrixSimilarity(tfidf[name_prd_corpus],\n",
    "                                            num_features = feature_cnt)"
   ]
  },
  {
   "cell_type": "code",
   "execution_count": 20,
   "id": "faad15d9-493f-42df-accf-8580e41ea7a0",
   "metadata": {},
   "outputs": [],
   "source": [
    "#index[tfidf[name_prd_corpus]][0]"
   ]
  },
  {
   "cell_type": "code",
   "execution_count": 15,
   "id": "0520ea6b-ed8e-4137-be4c-1387e53fcf5e",
   "metadata": {},
   "outputs": [
    {
     "data": {
      "text/plain": [
       "array([1.        , 0.13861008, 0.10136303, ..., 0.        , 0.        ,\n",
       "       0.        ], dtype=float32)"
      ]
     },
     "execution_count": 15,
     "metadata": {},
     "output_type": "execute_result"
    }
   ],
   "source": [
    "index[tfidf[name_prd_corpus[0]]]"
   ]
  },
  {
   "cell_type": "code",
   "execution_count": 16,
   "id": "7468c227-3ee9-481b-a3d8-2d418d991a32",
   "metadata": {},
   "outputs": [
    {
     "data": {
      "text/plain": [
       "gensim.similarities.docsim.SparseMatrixSimilarity"
      ]
     },
     "execution_count": 16,
     "metadata": {},
     "output_type": "execute_result"
    }
   ],
   "source": [
    "type(index)"
   ]
  },
  {
   "cell_type": "markdown",
   "id": "15dc73dc-0392-41f4-aa49-a39ecf323e04",
   "metadata": {},
   "source": [
    "# Save Data:"
   ]
  },
  {
   "cell_type": "code",
   "execution_count": 17,
   "id": "bb94c109-2eb2-4121-8ea7-9db4eefef40d",
   "metadata": {},
   "outputs": [
    {
     "data": {
      "text/plain": [
       "gensim.models.tfidfmodel.TfidfModel"
      ]
     },
     "execution_count": 17,
     "metadata": {},
     "output_type": "execute_result"
    }
   ],
   "source": [
    "type(tfidf)"
   ]
  },
  {
   "cell_type": "code",
   "execution_count": 18,
   "id": "d4d29df5-f95a-45a9-9fbf-9824c614af2d",
   "metadata": {},
   "outputs": [],
   "source": [
    "tfidf.save('../DATA/Gensim/tfidf_model')"
   ]
  },
  {
   "cell_type": "code",
   "execution_count": 19,
   "id": "e69425e9-70fc-4b06-8d06-4337f4104344",
   "metadata": {},
   "outputs": [],
   "source": [
    "name_prd_dict.save('../DATA/Gensim/corpus_dictionary')"
   ]
  },
  {
   "cell_type": "code",
   "execution_count": 20,
   "id": "33d988e8-9a3b-46f8-9361-67b7f61c9696",
   "metadata": {},
   "outputs": [],
   "source": [
    "index.save(\"../DATA/Gensim/similarity_matrix.index\")"
   ]
  },
  {
   "cell_type": "code",
   "execution_count": 1,
   "id": "1168e87e-fce1-4c8f-b0f8-7f9a08ac818a",
   "metadata": {},
   "outputs": [],
   "source": [
    "#data_result = index[tfidf[name_prd_corpus]]"
   ]
  }
 ],
 "metadata": {
  "kernelspec": {
   "display_name": "Python 3 (ipykernel)",
   "language": "python",
   "name": "python3"
  },
  "language_info": {
   "codemirror_mode": {
    "name": "ipython",
    "version": 3
   },
   "file_extension": ".py",
   "mimetype": "text/x-python",
   "name": "python",
   "nbconvert_exporter": "python",
   "pygments_lexer": "ipython3",
   "version": "3.9.18"
  }
 },
 "nbformat": 4,
 "nbformat_minor": 5
}
