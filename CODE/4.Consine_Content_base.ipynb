{
 "cells": [
  {
   "cell_type": "code",
   "execution_count": 2,
   "id": "b81f11d0-6d09-4278-b80b-fc8cb6490419",
   "metadata": {},
   "outputs": [],
   "source": [
    "import numpy as np\n",
    "import pandas as pd\n",
    "import matplotlib.pyplot as plt\n",
    "from sklearn.feature_extraction.text import TfidfVectorizer\n",
    "from sklearn.metrics.pairwise import linear_kernel, cosine_similarity\n",
    "from underthesea import word_tokenize, pos_tag, sent_tokenize\n",
    "import warnings\n",
    "import re"
   ]
  },
  {
   "cell_type": "code",
   "execution_count": 50,
   "id": "8447b859-b1a1-4a11-a1af-12d4758a6c69",
   "metadata": {},
   "outputs": [],
   "source": [
    "from tqdm.auto import tqdm\n",
    "from scipy.sparse import csr_matrix, save_npz, load_npz"
   ]
  },
  {
   "cell_type": "code",
   "execution_count": 41,
   "id": "721d58b6-bbef-4537-baa0-8adfc3ddbf44",
   "metadata": {},
   "outputs": [],
   "source": [
    "import pickle"
   ]
  },
  {
   "cell_type": "code",
   "execution_count": 4,
   "id": "c2944cff-3c37-4c44-ba83-98538029e326",
   "metadata": {},
   "outputs": [
    {
     "name": "stdout",
     "output_type": "stream",
     "text": [
      "The autoreload extension is already loaded. To reload it, use:\n",
      "  %reload_ext autoreload\n"
     ]
    }
   ],
   "source": [
    "%load_ext autoreload\n",
    "%autoreload 2\n",
    "from project_transformer import Data_Wrangling"
   ]
  },
  {
   "cell_type": "code",
   "execution_count": 11,
   "id": "9068a7af-9afb-4c65-b980-5afe934244f7",
   "metadata": {},
   "outputs": [],
   "source": [
    "warnings.filterwarnings(\"ignore\")"
   ]
  },
  {
   "cell_type": "markdown",
   "id": "89a5ca6d-70cc-44a3-badd-3c6511162b89",
   "metadata": {},
   "source": [
    "# Load Some Data to preprocess Vietnamese languages"
   ]
  },
  {
   "cell_type": "code",
   "execution_count": 5,
   "id": "62ca0420-30d7-4b0a-b945-9b83d34f70dc",
   "metadata": {},
   "outputs": [],
   "source": [
    "# EMOJI\n",
    "with open('../DATA/files/emojicon.txt', 'r', encoding=\"utf8\") as file:\n",
    "    emoji_lst = file.read().split('\\n')\n",
    "    emoji_dict = {}\n",
    "    for line in emoji_lst:\n",
    "        key, value = line.split('\\t')\n",
    "        emoji_dict[key] = str(value)\n",
    "\n",
    "# TEEN CODE\n",
    "with open('../DATA/files/teencode.txt', 'r', encoding=\"utf8\") as file:\n",
    "    teen_lst = file.read().split('\\n')\n",
    "    teen_dict = {}\n",
    "    for line in teen_lst:\n",
    "        key, value = line.split('\\t')\n",
    "        teen_dict[key] = str(value)\n",
    "\n",
    "# ENG VIET\n",
    "with open('../DATA/files/english-vnmese.txt', 'r', encoding=\"utf8\") as file:\n",
    "    eng_lst = file.read().split('\\n')\n",
    "    eng_dict = {}\n",
    "    for line in eng_lst:\n",
    "        key, value = line.split('\\t')\n",
    "        eng_dict[key] = str(value)\n",
    "\n",
    "# WRONG WORD\n",
    "with open('../DATA/files/wrong-word.txt', 'r', encoding=\"utf8\") as file:\n",
    "    wrong_lst = file.read().split('\\n')\n",
    "\n",
    "# STOP WORD\n",
    "with open('../DATA/files/vietnamese-stopwords.txt', 'r', encoding=\"utf8\") as file:\n",
    "    stop_lst = file.read().split('\\n')"
   ]
  },
  {
   "cell_type": "markdown",
   "id": "448d72c8-6544-4c8c-a1ca-050dd43198c8",
   "metadata": {},
   "source": [
    "# Load file data:"
   ]
  },
  {
   "cell_type": "code",
   "execution_count": 6,
   "id": "bbd4dc01-9631-48ee-9f5d-0bc350cc4860",
   "metadata": {},
   "outputs": [],
   "source": [
    "use_cols = ['product_id','sub_category','price','rating','clean_desc','product_name','clean_prd_name']\n",
    "clean_prd_df = pd.read_csv('../DATA/clean_products.csv',usecols=use_cols)"
   ]
  },
  {
   "cell_type": "code",
   "execution_count": 7,
   "id": "768d9bcb-6f8b-4552-8e7f-4d7bf4ce6a80",
   "metadata": {},
   "outputs": [
    {
     "data": {
      "text/html": [
       "<div>\n",
       "<style scoped>\n",
       "    .dataframe tbody tr th:only-of-type {\n",
       "        vertical-align: middle;\n",
       "    }\n",
       "\n",
       "    .dataframe tbody tr th {\n",
       "        vertical-align: top;\n",
       "    }\n",
       "\n",
       "    .dataframe thead th {\n",
       "        text-align: right;\n",
       "    }\n",
       "</style>\n",
       "<table border=\"1\" class=\"dataframe\">\n",
       "  <thead>\n",
       "    <tr style=\"text-align: right;\">\n",
       "      <th></th>\n",
       "      <th>product_id</th>\n",
       "      <th>product_name</th>\n",
       "      <th>sub_category</th>\n",
       "      <th>price</th>\n",
       "      <th>rating</th>\n",
       "      <th>clean_desc</th>\n",
       "      <th>clean_prd_name</th>\n",
       "    </tr>\n",
       "  </thead>\n",
       "  <tbody>\n",
       "    <tr>\n",
       "      <th>0</th>\n",
       "      <td>190</td>\n",
       "      <td>Áo ba lỗ thun gân ,form body tôn dáng</td>\n",
       "      <td>Áo Ba Lỗ</td>\n",
       "      <td>86250.0</td>\n",
       "      <td>4.9</td>\n",
       "      <td>áo lỗ chiều đường_phố nhiệt_đới tal fit xuất_x...</td>\n",
       "      <td>áo lỗ thun gân form body</td>\n",
       "    </tr>\n",
       "    <tr>\n",
       "      <th>1</th>\n",
       "      <td>191</td>\n",
       "      <td>Áo Ba Lỗ Nam Trắng Chất Cotton Siêu Mát, Siêu Đẹp</td>\n",
       "      <td>Áo Ba Lỗ</td>\n",
       "      <td>26800.0</td>\n",
       "      <td>4.9</td>\n",
       "      <td>áo lỗ xuất_xứ việt_nam tổ_chức trách_nhiệm sản...</td>\n",
       "      <td>áo lỗ nam trắng chất_cotton siêu_mát đẹp</td>\n",
       "    </tr>\n",
       "    <tr>\n",
       "      <th>2</th>\n",
       "      <td>192</td>\n",
       "      <td>Áo Ba Lỗ Nam Tyasuo chất vải co dãn mát, không...</td>\n",
       "      <td>Áo Ba Lỗ</td>\n",
       "      <td>39500.0</td>\n",
       "      <td>4.8</td>\n",
       "      <td>áo lỗ thương_hiệu tyasuo chiều áo không_thể đư...</td>\n",
       "      <td>áo lỗ nam tyasuo chất vải co_dãn mát không_xù mềm</td>\n",
       "    </tr>\n",
       "    <tr>\n",
       "      <th>3</th>\n",
       "      <td>193</td>\n",
       "      <td>ÁO BA LỖ HÀNG VIỆT NAM 100% COTTON</td>\n",
       "      <td>Áo Ba Lỗ</td>\n",
       "      <td>16500.0</td>\n",
       "      <td>4.8</td>\n",
       "      <td>áo lỗ chất_liệu hàng gửi hà_nội áo lỗ nam mặc ...</td>\n",
       "      <td>áo lỗ hàng việt_nam</td>\n",
       "    </tr>\n",
       "    <tr>\n",
       "      <th>4</th>\n",
       "      <td>194</td>\n",
       "      <td>Áo Thun Nam Thể Thao Ba Lỗ Mẫu Mới Siêu Đẹp (B...</td>\n",
       "      <td>Áo Ba Lỗ</td>\n",
       "      <td>45000.0</td>\n",
       "      <td>4.8</td>\n",
       "      <td>áo lỗ chiều áo không_thể hàng gửi hà_nội thông...</td>\n",
       "      <td>áo thun nam thể_thao lỗ mẫu mới đẹp</td>\n",
       "    </tr>\n",
       "  </tbody>\n",
       "</table>\n",
       "</div>"
      ],
      "text/plain": [
       "   product_id                                       product_name sub_category  \\\n",
       "0         190              Áo ba lỗ thun gân ,form body tôn dáng     Áo Ba Lỗ   \n",
       "1         191  Áo Ba Lỗ Nam Trắng Chất Cotton Siêu Mát, Siêu Đẹp     Áo Ba Lỗ   \n",
       "2         192  Áo Ba Lỗ Nam Tyasuo chất vải co dãn mát, không...     Áo Ba Lỗ   \n",
       "3         193                 ÁO BA LỖ HÀNG VIỆT NAM 100% COTTON     Áo Ba Lỗ   \n",
       "4         194  Áo Thun Nam Thể Thao Ba Lỗ Mẫu Mới Siêu Đẹp (B...     Áo Ba Lỗ   \n",
       "\n",
       "     price  rating                                         clean_desc  \\\n",
       "0  86250.0     4.9  áo lỗ chiều đường_phố nhiệt_đới tal fit xuất_x...   \n",
       "1  26800.0     4.9  áo lỗ xuất_xứ việt_nam tổ_chức trách_nhiệm sản...   \n",
       "2  39500.0     4.8  áo lỗ thương_hiệu tyasuo chiều áo không_thể đư...   \n",
       "3  16500.0     4.8  áo lỗ chất_liệu hàng gửi hà_nội áo lỗ nam mặc ...   \n",
       "4  45000.0     4.8  áo lỗ chiều áo không_thể hàng gửi hà_nội thông...   \n",
       "\n",
       "                                      clean_prd_name  \n",
       "0                           áo lỗ thun gân form body  \n",
       "1           áo lỗ nam trắng chất_cotton siêu_mát đẹp  \n",
       "2  áo lỗ nam tyasuo chất vải co_dãn mát không_xù mềm  \n",
       "3                                áo lỗ hàng việt_nam  \n",
       "4                áo thun nam thể_thao lỗ mẫu mới đẹp  "
      ]
     },
     "execution_count": 7,
     "metadata": {},
     "output_type": "execute_result"
    }
   ],
   "source": [
    "clean_prd_df.head()"
   ]
  },
  {
   "cell_type": "markdown",
   "id": "fe53a592-fde7-4e26-b55e-92b9838cdd4e",
   "metadata": {},
   "source": [
    "## Check na values from clean data"
   ]
  },
  {
   "cell_type": "code",
   "execution_count": 8,
   "id": "705b6bbb-7712-4ae2-bb74-c5d65f3b8ee0",
   "metadata": {},
   "outputs": [],
   "source": [
    "drop_idx = clean_prd_df[clean_prd_df['clean_prd_name'].apply(lambda x: isinstance(x,float))].index"
   ]
  },
  {
   "cell_type": "code",
   "execution_count": 9,
   "id": "eb42c0d8-6a79-4dca-a003-05354f3de120",
   "metadata": {},
   "outputs": [],
   "source": [
    "clean_prd_df = clean_prd_df.drop(index=drop_idx)"
   ]
  },
  {
   "cell_type": "code",
   "execution_count": 10,
   "id": "6b3088c3-ab63-4d6d-986e-fe82b948a3f4",
   "metadata": {},
   "outputs": [],
   "source": [
    "clean_prd_df = clean_prd_df.reset_index(drop=True)"
   ]
  },
  {
   "cell_type": "markdown",
   "id": "e6bd8e4c-3f54-4f6a-84c8-d75e7b52fa78",
   "metadata": {
    "id": "bRLniR9_-54G"
   },
   "source": [
    "# Cosine_similarity\n",
    "- link https://scikit-learn.org/stable/modules/generated/sklearn.metrics.pairwise.cosine_similarity.html\n",
    "- link https://en.wikipedia.org/wiki/Cosine_similarity"
   ]
  },
  {
   "cell_type": "code",
   "execution_count": 131,
   "id": "c641e318-df3a-4922-8558-31bf2e075192",
   "metadata": {
    "id": "Z0Co_spi-KMS"
   },
   "outputs": [
    {
     "data": {
      "text/html": [
       "<style>#sk-container-id-2 {color: black;background-color: white;}#sk-container-id-2 pre{padding: 0;}#sk-container-id-2 div.sk-toggleable {background-color: white;}#sk-container-id-2 label.sk-toggleable__label {cursor: pointer;display: block;width: 100%;margin-bottom: 0;padding: 0.3em;box-sizing: border-box;text-align: center;}#sk-container-id-2 label.sk-toggleable__label-arrow:before {content: \"▸\";float: left;margin-right: 0.25em;color: #696969;}#sk-container-id-2 label.sk-toggleable__label-arrow:hover:before {color: black;}#sk-container-id-2 div.sk-estimator:hover label.sk-toggleable__label-arrow:before {color: black;}#sk-container-id-2 div.sk-toggleable__content {max-height: 0;max-width: 0;overflow: hidden;text-align: left;background-color: #f0f8ff;}#sk-container-id-2 div.sk-toggleable__content pre {margin: 0.2em;color: black;border-radius: 0.25em;background-color: #f0f8ff;}#sk-container-id-2 input.sk-toggleable__control:checked~div.sk-toggleable__content {max-height: 200px;max-width: 100%;overflow: auto;}#sk-container-id-2 input.sk-toggleable__control:checked~label.sk-toggleable__label-arrow:before {content: \"▾\";}#sk-container-id-2 div.sk-estimator input.sk-toggleable__control:checked~label.sk-toggleable__label {background-color: #d4ebff;}#sk-container-id-2 div.sk-label input.sk-toggleable__control:checked~label.sk-toggleable__label {background-color: #d4ebff;}#sk-container-id-2 input.sk-hidden--visually {border: 0;clip: rect(1px 1px 1px 1px);clip: rect(1px, 1px, 1px, 1px);height: 1px;margin: -1px;overflow: hidden;padding: 0;position: absolute;width: 1px;}#sk-container-id-2 div.sk-estimator {font-family: monospace;background-color: #f0f8ff;border: 1px dotted black;border-radius: 0.25em;box-sizing: border-box;margin-bottom: 0.5em;}#sk-container-id-2 div.sk-estimator:hover {background-color: #d4ebff;}#sk-container-id-2 div.sk-parallel-item::after {content: \"\";width: 100%;border-bottom: 1px solid gray;flex-grow: 1;}#sk-container-id-2 div.sk-label:hover label.sk-toggleable__label {background-color: #d4ebff;}#sk-container-id-2 div.sk-serial::before {content: \"\";position: absolute;border-left: 1px solid gray;box-sizing: border-box;top: 0;bottom: 0;left: 50%;z-index: 0;}#sk-container-id-2 div.sk-serial {display: flex;flex-direction: column;align-items: center;background-color: white;padding-right: 0.2em;padding-left: 0.2em;position: relative;}#sk-container-id-2 div.sk-item {position: relative;z-index: 1;}#sk-container-id-2 div.sk-parallel {display: flex;align-items: stretch;justify-content: center;background-color: white;position: relative;}#sk-container-id-2 div.sk-item::before, #sk-container-id-2 div.sk-parallel-item::before {content: \"\";position: absolute;border-left: 1px solid gray;box-sizing: border-box;top: 0;bottom: 0;left: 50%;z-index: -1;}#sk-container-id-2 div.sk-parallel-item {display: flex;flex-direction: column;z-index: 1;position: relative;background-color: white;}#sk-container-id-2 div.sk-parallel-item:first-child::after {align-self: flex-end;width: 50%;}#sk-container-id-2 div.sk-parallel-item:last-child::after {align-self: flex-start;width: 50%;}#sk-container-id-2 div.sk-parallel-item:only-child::after {width: 0;}#sk-container-id-2 div.sk-dashed-wrapped {border: 1px dashed gray;margin: 0 0.4em 0.5em 0.4em;box-sizing: border-box;padding-bottom: 0.4em;background-color: white;}#sk-container-id-2 div.sk-label label {font-family: monospace;font-weight: bold;display: inline-block;line-height: 1.2em;}#sk-container-id-2 div.sk-label-container {text-align: center;}#sk-container-id-2 div.sk-container {/* jupyter's `normalize.less` sets `[hidden] { display: none; }` but bootstrap.min.css set `[hidden] { display: none !important; }` so we also need the `!important` here to be able to override the default hidden behavior on the sphinx rendered scikit-learn.org. See: https://github.com/scikit-learn/scikit-learn/issues/21755 */display: inline-block !important;position: relative;}#sk-container-id-2 div.sk-text-repr-fallback {display: none;}</style><div id=\"sk-container-id-2\" class=\"sk-top-container\"><div class=\"sk-text-repr-fallback\"><pre>TfidfVectorizer(stop_words=[&#x27;Danh Mục&#x27;, &#x27;Shopee&#x27;, &#x27;Thời Trang Nam&#x27;, &#x27;a_lô&#x27;,\n",
       "                            &#x27;a_ha&#x27;, &#x27;ai&#x27;, &#x27;ai_ai&#x27;, &#x27;ai_nấy&#x27;, &#x27;ai_đó&#x27;, &#x27;alô&#x27;,\n",
       "                            &#x27;amen&#x27;, &#x27;anh&#x27;, &#x27;anh_ấy&#x27;, &#x27;ba&#x27;, &#x27;ba_ba&#x27;, &#x27;ba_bản&#x27;,\n",
       "                            &#x27;ba_cùng&#x27;, &#x27;ba_họ&#x27;, &#x27;ba_ngày&#x27;, &#x27;ba_ngôi&#x27;, &#x27;ba_tăng&#x27;,\n",
       "                            &#x27;bao_giờ&#x27;, &#x27;bao_lâu&#x27;, &#x27;bao_nhiêu&#x27;, &#x27;bao_nả&#x27;,\n",
       "                            &#x27;bay_biến&#x27;, &#x27;biết&#x27;, &#x27;biết_bao&#x27;, &#x27;biết_bao_nhiêu&#x27;,\n",
       "                            &#x27;biết_chắc&#x27;, ...])</pre><b>In a Jupyter environment, please rerun this cell to show the HTML representation or trust the notebook. <br />On GitHub, the HTML representation is unable to render, please try loading this page with nbviewer.org.</b></div><div class=\"sk-container\" hidden><div class=\"sk-item\"><div class=\"sk-estimator sk-toggleable\"><input class=\"sk-toggleable__control sk-hidden--visually\" id=\"sk-estimator-id-2\" type=\"checkbox\" checked><label for=\"sk-estimator-id-2\" class=\"sk-toggleable__label sk-toggleable__label-arrow\">TfidfVectorizer</label><div class=\"sk-toggleable__content\"><pre>TfidfVectorizer(stop_words=[&#x27;Danh Mục&#x27;, &#x27;Shopee&#x27;, &#x27;Thời Trang Nam&#x27;, &#x27;a_lô&#x27;,\n",
       "                            &#x27;a_ha&#x27;, &#x27;ai&#x27;, &#x27;ai_ai&#x27;, &#x27;ai_nấy&#x27;, &#x27;ai_đó&#x27;, &#x27;alô&#x27;,\n",
       "                            &#x27;amen&#x27;, &#x27;anh&#x27;, &#x27;anh_ấy&#x27;, &#x27;ba&#x27;, &#x27;ba_ba&#x27;, &#x27;ba_bản&#x27;,\n",
       "                            &#x27;ba_cùng&#x27;, &#x27;ba_họ&#x27;, &#x27;ba_ngày&#x27;, &#x27;ba_ngôi&#x27;, &#x27;ba_tăng&#x27;,\n",
       "                            &#x27;bao_giờ&#x27;, &#x27;bao_lâu&#x27;, &#x27;bao_nhiêu&#x27;, &#x27;bao_nả&#x27;,\n",
       "                            &#x27;bay_biến&#x27;, &#x27;biết&#x27;, &#x27;biết_bao&#x27;, &#x27;biết_bao_nhiêu&#x27;,\n",
       "                            &#x27;biết_chắc&#x27;, ...])</pre></div></div></div></div></div>"
      ],
      "text/plain": [
       "TfidfVectorizer(stop_words=['Danh Mục', 'Shopee', 'Thời Trang Nam', 'a_lô',\n",
       "                            'a_ha', 'ai', 'ai_ai', 'ai_nấy', 'ai_đó', 'alô',\n",
       "                            'amen', 'anh', 'anh_ấy', 'ba', 'ba_ba', 'ba_bản',\n",
       "                            'ba_cùng', 'ba_họ', 'ba_ngày', 'ba_ngôi', 'ba_tăng',\n",
       "                            'bao_giờ', 'bao_lâu', 'bao_nhiêu', 'bao_nả',\n",
       "                            'bay_biến', 'biết', 'biết_bao', 'biết_bao_nhiêu',\n",
       "                            'biết_chắc', ...])"
      ]
     },
     "execution_count": 131,
     "metadata": {},
     "output_type": "execute_result"
    }
   ],
   "source": [
    "tf_model = TfidfVectorizer(analyzer='word', stop_words=stop_lst,max_features=None)\n",
    "tf_model.fit(raw_documents=clean_prd_df['clean_prd_name'])"
   ]
  },
  {
   "cell_type": "code",
   "execution_count": 133,
   "id": "8f6dda69-22ba-43d4-84a2-ee8ecccfe064",
   "metadata": {},
   "outputs": [],
   "source": [
    "#tf_model.vocabulary_ "
   ]
  },
  {
   "cell_type": "code",
   "execution_count": 134,
   "id": "342f4a37-53fe-494b-82bc-34173b43c29c",
   "metadata": {
    "id": "Q4hifg_YLD5S"
   },
   "outputs": [],
   "source": [
    "tfidf_matrix = tf_model.transform(raw_documents=clean_prd_df['clean_prd_name'])"
   ]
  },
  {
   "cell_type": "code",
   "execution_count": 135,
   "id": "09807ddb-82b7-4aad-83e3-127a0154902f",
   "metadata": {},
   "outputs": [
    {
     "data": {
      "text/plain": [
       "scipy.sparse._csr.csr_matrix"
      ]
     },
     "execution_count": 135,
     "metadata": {},
     "output_type": "execute_result"
    }
   ],
   "source": [
    "type(tfidf_matrix)"
   ]
  },
  {
   "cell_type": "code",
   "execution_count": 137,
   "id": "2f941ac0-3ccf-4afa-a6a7-7f036ef69235",
   "metadata": {},
   "outputs": [],
   "source": [
    "#tfidf_matrix[0]"
   ]
  },
  {
   "cell_type": "code",
   "execution_count": 37,
   "id": "67828846-85fd-442b-bb23-33955de2a1a6",
   "metadata": {
    "id": "y8mOycJtLUW-"
   },
   "outputs": [],
   "source": [
    "# cosine_similarities = cosine_similarity(tfidf_matrix, \n",
    "#                                         tfidf_matrix,\n",
    "#                                         dense_output=True)"
   ]
  },
  {
   "cell_type": "code",
   "execution_count": 138,
   "id": "d3a0771d-669e-444d-ba8a-c2548e93150e",
   "metadata": {},
   "outputs": [],
   "source": [
    "#tfidf_matrix[0]"
   ]
  },
  {
   "cell_type": "code",
   "execution_count": 91,
   "id": "fab40c9d-98d3-495c-9ee2-c9e0a09e942c",
   "metadata": {
    "colab": {
     "base_uri": "https://localhost:8080/"
    },
    "id": "NqfY7tHlLYon",
    "outputId": "8737f4ec-8c03-4832-f32e-4df3f50129e9"
   },
   "outputs": [
    {
     "data": {
      "text/plain": [
       "numpy.ndarray"
      ]
     },
     "execution_count": 91,
     "metadata": {},
     "output_type": "execute_result"
    }
   ],
   "source": [
    "type(cosine_similarities)"
   ]
  },
  {
   "cell_type": "code",
   "execution_count": 92,
   "id": "1262cc41-a9a4-4f28-a334-35eb32bd7544",
   "metadata": {
    "colab": {
     "base_uri": "https://localhost:8080/"
    },
    "id": "JmR09B0hLdXG",
    "outputId": "7d7021b9-df4b-4ef9-e4a4-d4937938dc60"
   },
   "outputs": [
    {
     "data": {
      "text/plain": [
       "array([0., 0., 0., ..., 0., 0., 0.])"
      ]
     },
     "execution_count": 92,
     "metadata": {},
     "output_type": "execute_result"
    }
   ],
   "source": [
    "cosine_similarities[0]"
   ]
  },
  {
   "cell_type": "code",
   "execution_count": 98,
   "id": "4dab8a85-7572-4dc3-a512-d7c8e8be4037",
   "metadata": {
    "colab": {
     "base_uri": "https://localhost:8080/"
    },
    "id": "RhlbsLkmLeEf",
    "outputId": "6d369fe2-44ea-43d5-950e-c3201ada6757",
    "scrolled": true
   },
   "outputs": [],
   "source": [
    "# với mỗi sản phẩm, lấy 3 sản phẩm tương quan nhất\n",
    "# results = {}\n",
    "\n",
    "# for idx, row in tqdm(clean_prd_df.iterrows(),'Calcualte the high correaltion',total=clean_prd_df.shape[0]):\n",
    "#     similar_indices = cosine_similarities[idx].argsort()[-6:-1]\n",
    "#     similar_items = [(cosine_similarities[idx][i]) for i in similar_indices]\n",
    "#     similar_items = [(cosine_similarities[idx][i], clean_prd_df.index[i]) for i in similar_indices]\n",
    "#     #print(similar_items[0:])\n",
    "#     results[idx] = similar_items[0:]"
   ]
  },
  {
   "cell_type": "code",
   "execution_count": 99,
   "id": "4a9c6b9e-cde8-41bf-8767-d503f920871b",
   "metadata": {
    "colab": {
     "base_uri": "https://localhost:8080/"
    },
    "id": "suhVcWK5MVPL",
    "outputId": "fca74265-ab41-459c-ae8d-626635ebf90b"
   },
   "outputs": [],
   "source": [
    "#results[0]"
   ]
  },
  {
   "cell_type": "markdown",
   "id": "f9619a23-19d7-451d-8f93-ddda8913f10d",
   "metadata": {},
   "source": [
    "## Save file"
   ]
  },
  {
   "cell_type": "code",
   "execution_count": 100,
   "id": "1349ba2b-735f-41b4-8179-80da0e86904d",
   "metadata": {},
   "outputs": [],
   "source": [
    "#np.save('../DATA/cosine_sim_prd.npy', cosine_similarities)"
   ]
  },
  {
   "cell_type": "code",
   "execution_count": 139,
   "id": "50f36915-e6c0-41fa-835c-7379c7640129",
   "metadata": {},
   "outputs": [],
   "source": [
    "# Save the TF-IDF vectorizer using pickle\n",
    "with open('../DATA/tfidf_vectorizer.pkl', 'wb') as f:\n",
    "    pickle.dump(tf_model, f)"
   ]
  },
  {
   "cell_type": "code",
   "execution_count": 140,
   "id": "b36962de-364f-44af-95a9-191dfda3b60e",
   "metadata": {},
   "outputs": [],
   "source": [
    "# Save the sparse matrix\n",
    "save_npz('../DATA/tfidf_matrix.npz', tfidf_matrix)"
   ]
  },
  {
   "cell_type": "markdown",
   "id": "30b882e5-f06e-4857-9ef6-bedcb2fee91c",
   "metadata": {},
   "source": [
    "## Apply Cosine Similarity"
   ]
  },
  {
   "cell_type": "markdown",
   "id": "05105139-ba4a-4d4b-a632-37bfd853cd26",
   "metadata": {},
   "source": [
    "### Load model and matrix:"
   ]
  },
  {
   "cell_type": "code",
   "execution_count": 141,
   "id": "a28209ad-8533-4299-b984-15a192c8a023",
   "metadata": {},
   "outputs": [
    {
     "data": {
      "text/plain": [
       "sklearn.feature_extraction.text.TfidfVectorizer"
      ]
     },
     "execution_count": 141,
     "metadata": {},
     "output_type": "execute_result"
    }
   ],
   "source": [
    "with open('../DATA/tfidf_vectorizer.pkl', 'rb') as f:\n",
    "    loaded_tfidf_model = pickle.load(f)\n",
    "type(loaded_tfidf_model)"
   ]
  },
  {
   "cell_type": "code",
   "execution_count": 142,
   "id": "c8c7bcf2-8ba7-4abe-aed2-4de2cd04c849",
   "metadata": {},
   "outputs": [
    {
     "data": {
      "text/plain": [
       "scipy.sparse._csr.csr_matrix"
      ]
     },
     "execution_count": 142,
     "metadata": {},
     "output_type": "execute_result"
    }
   ],
   "source": [
    "load_tfidf_matrix = load_npz('../DATA/tfidf_matrix.npz')\n",
    "type(load_tfidf_matrix)"
   ]
  },
  {
   "cell_type": "markdown",
   "id": "3b6a59c8-fa42-4627-b334-3599d55377e7",
   "metadata": {},
   "source": [
    "### Build Function"
   ]
  },
  {
   "cell_type": "code",
   "execution_count": 143,
   "id": "4b3a42b3-d072-4013-b669-23380b1c17b9",
   "metadata": {},
   "outputs": [
    {
     "name": "stdout",
     "output_type": "stream",
     "text": [
      "Shape of final DF: (49594, 8)\n"
     ]
    },
    {
     "data": {
      "text/html": [
       "<div>\n",
       "<style scoped>\n",
       "    .dataframe tbody tr th:only-of-type {\n",
       "        vertical-align: middle;\n",
       "    }\n",
       "\n",
       "    .dataframe tbody tr th {\n",
       "        vertical-align: top;\n",
       "    }\n",
       "\n",
       "    .dataframe thead th {\n",
       "        text-align: right;\n",
       "    }\n",
       "</style>\n",
       "<table border=\"1\" class=\"dataframe\">\n",
       "  <thead>\n",
       "    <tr style=\"text-align: right;\">\n",
       "      <th></th>\n",
       "      <th>item_id</th>\n",
       "      <th>product_id</th>\n",
       "      <th>product_name</th>\n",
       "      <th>sub_category</th>\n",
       "      <th>price</th>\n",
       "      <th>rating</th>\n",
       "      <th>clean_desc</th>\n",
       "      <th>clean_prd_name</th>\n",
       "    </tr>\n",
       "  </thead>\n",
       "  <tbody>\n",
       "    <tr>\n",
       "      <th>0</th>\n",
       "      <td>0</td>\n",
       "      <td>190</td>\n",
       "      <td>Áo ba lỗ thun gân ,form body tôn dáng</td>\n",
       "      <td>Áo Ba Lỗ</td>\n",
       "      <td>86250.0</td>\n",
       "      <td>4.9</td>\n",
       "      <td>áo lỗ chiều đường_phố nhiệt_đới tal fit xuất_x...</td>\n",
       "      <td>áo lỗ thun gân form body</td>\n",
       "    </tr>\n",
       "    <tr>\n",
       "      <th>1</th>\n",
       "      <td>1</td>\n",
       "      <td>191</td>\n",
       "      <td>Áo Ba Lỗ Nam Trắng Chất Cotton Siêu Mát, Siêu Đẹp</td>\n",
       "      <td>Áo Ba Lỗ</td>\n",
       "      <td>26800.0</td>\n",
       "      <td>4.9</td>\n",
       "      <td>áo lỗ xuất_xứ việt_nam tổ_chức trách_nhiệm sản...</td>\n",
       "      <td>áo lỗ nam trắng chất_cotton siêu_mát đẹp</td>\n",
       "    </tr>\n",
       "    <tr>\n",
       "      <th>2</th>\n",
       "      <td>2</td>\n",
       "      <td>192</td>\n",
       "      <td>Áo Ba Lỗ Nam Tyasuo chất vải co dãn mát, không...</td>\n",
       "      <td>Áo Ba Lỗ</td>\n",
       "      <td>39500.0</td>\n",
       "      <td>4.8</td>\n",
       "      <td>áo lỗ thương_hiệu tyasuo chiều áo không_thể đư...</td>\n",
       "      <td>áo lỗ nam tyasuo chất vải co_dãn mát không_xù mềm</td>\n",
       "    </tr>\n",
       "    <tr>\n",
       "      <th>3</th>\n",
       "      <td>3</td>\n",
       "      <td>193</td>\n",
       "      <td>ÁO BA LỖ HÀNG VIỆT NAM 100% COTTON</td>\n",
       "      <td>Áo Ba Lỗ</td>\n",
       "      <td>16500.0</td>\n",
       "      <td>4.8</td>\n",
       "      <td>áo lỗ chất_liệu hàng gửi hà_nội áo lỗ nam mặc ...</td>\n",
       "      <td>áo lỗ hàng việt_nam</td>\n",
       "    </tr>\n",
       "    <tr>\n",
       "      <th>4</th>\n",
       "      <td>4</td>\n",
       "      <td>194</td>\n",
       "      <td>Áo Thun Nam Thể Thao Ba Lỗ Mẫu Mới Siêu Đẹp (B...</td>\n",
       "      <td>Áo Ba Lỗ</td>\n",
       "      <td>45000.0</td>\n",
       "      <td>4.8</td>\n",
       "      <td>áo lỗ chiều áo không_thể hàng gửi hà_nội thông...</td>\n",
       "      <td>áo thun nam thể_thao lỗ mẫu mới đẹp</td>\n",
       "    </tr>\n",
       "  </tbody>\n",
       "</table>\n",
       "</div>"
      ],
      "text/plain": [
       "   item_id  product_id                                       product_name  \\\n",
       "0        0         190              Áo ba lỗ thun gân ,form body tôn dáng   \n",
       "1        1         191  Áo Ba Lỗ Nam Trắng Chất Cotton Siêu Mát, Siêu Đẹp   \n",
       "2        2         192  Áo Ba Lỗ Nam Tyasuo chất vải co dãn mát, không...   \n",
       "3        3         193                 ÁO BA LỖ HÀNG VIỆT NAM 100% COTTON   \n",
       "4        4         194  Áo Thun Nam Thể Thao Ba Lỗ Mẫu Mới Siêu Đẹp (B...   \n",
       "\n",
       "  sub_category    price  rating  \\\n",
       "0     Áo Ba Lỗ  86250.0     4.9   \n",
       "1     Áo Ba Lỗ  26800.0     4.9   \n",
       "2     Áo Ba Lỗ  39500.0     4.8   \n",
       "3     Áo Ba Lỗ  16500.0     4.8   \n",
       "4     Áo Ba Lỗ  45000.0     4.8   \n",
       "\n",
       "                                          clean_desc  \\\n",
       "0  áo lỗ chiều đường_phố nhiệt_đới tal fit xuất_x...   \n",
       "1  áo lỗ xuất_xứ việt_nam tổ_chức trách_nhiệm sản...   \n",
       "2  áo lỗ thương_hiệu tyasuo chiều áo không_thể đư...   \n",
       "3  áo lỗ chất_liệu hàng gửi hà_nội áo lỗ nam mặc ...   \n",
       "4  áo lỗ chiều áo không_thể hàng gửi hà_nội thông...   \n",
       "\n",
       "                                      clean_prd_name  \n",
       "0                           áo lỗ thun gân form body  \n",
       "1           áo lỗ nam trắng chất_cotton siêu_mát đẹp  \n",
       "2  áo lỗ nam tyasuo chất vải co_dãn mát không_xù mềm  \n",
       "3                                áo lỗ hàng việt_nam  \n",
       "4                áo thun nam thể_thao lỗ mẫu mới đẹp  "
      ]
     },
     "execution_count": 143,
     "metadata": {},
     "output_type": "execute_result"
    }
   ],
   "source": [
    "final_df = clean_prd_df.reset_index().rename(columns={'index':'item_id'})\n",
    "print(\"Shape of final DF:\", final_df.shape)\n",
    "final_df.head()"
   ]
  },
  {
   "cell_type": "code",
   "execution_count": 183,
   "id": "616471ec-c61d-44bd-b132-b8533ad2d832",
   "metadata": {},
   "outputs": [],
   "source": [
    "final_df.to_csv(path_or_buf='../DATA/final_details.csv',index=False)"
   ]
  },
  {
   "cell_type": "code",
   "execution_count": 144,
   "id": "698ec5a6-9af3-44e2-85c9-b211940ba325",
   "metadata": {},
   "outputs": [
    {
     "data": {
      "text/plain": [
       "'áo lỗ nam cao_cấp aristino thun lỗ_lót sơ_mi màu trắng trơn đơn_giản_dáng classic_chất cotton mềm'"
      ]
     },
     "execution_count": 144,
     "metadata": {},
     "output_type": "execute_result"
    }
   ],
   "source": [
    "text_ = final_df.loc[final_df['item_id'] == 10,'clean_prd_name'].values[0]\n",
    "text_"
   ]
  },
  {
   "cell_type": "code",
   "execution_count": 145,
   "id": "d2df4b29-ecd6-49df-9173-0ad4af7692f9",
   "metadata": {},
   "outputs": [
    {
     "data": {
      "text/plain": [
       "scipy.sparse._csr.csr_matrix"
      ]
     },
     "execution_count": 145,
     "metadata": {},
     "output_type": "execute_result"
    }
   ],
   "source": [
    "txt_sparse_matrix = loaded_tfidf_model.transform([text_])\n",
    "type(txt_sparse_matrix)"
   ]
  },
  {
   "cell_type": "code",
   "execution_count": 146,
   "id": "7486b548-e941-43e0-b175-034b7033bcf5",
   "metadata": {},
   "outputs": [
    {
     "data": {
      "text/plain": [
       "array([[0.1307439 , 0.17763791, 0.14192402, ..., 0.        , 0.01230257,\n",
       "        0.02827438]])"
      ]
     },
     "execution_count": 146,
     "metadata": {},
     "output_type": "execute_result"
    }
   ],
   "source": [
    "cosine_text_ = cosine_similarity(X=txt_sparse_matrix,Y=load_tfidf_matrix)\n",
    "cosine_text_"
   ]
  },
  {
   "cell_type": "code",
   "execution_count": 169,
   "id": "e7d46df2-ea68-4c69-9f42-dd420ace9867",
   "metadata": {},
   "outputs": [],
   "source": [
    "top5_prd = cosine_text_.flatten().argsort()[-6:-1]\n",
    "top5_score = [(cosine_text_.flatten()[i]) for i in top5_indices]\n",
    "\n",
    "# Extract Product\n",
    "ls_item = []\n",
    "for id, sim in zip(top5_prd,top5_score):\n",
    "    sim_item = {'ite_id': id, 'score':sim}\n",
    "    ls_item.append(sim_item)"
   ]
  },
  {
   "cell_type": "code",
   "execution_count": 170,
   "id": "5835e617-058a-409e-bf64-5603836d1315",
   "metadata": {},
   "outputs": [
    {
     "data": {
      "text/plain": [
       "[{'ite_id': 1039, 'score': 0.3501156647875863},\n",
       " {'ite_id': 40962, 'score': 0.3569730458639763},\n",
       " {'ite_id': 795, 'score': 0.3844639807598642},\n",
       " {'ite_id': 1046, 'score': 0.4157450865077967},\n",
       " {'ite_id': 121, 'score': 0.6654457923085177}]"
      ]
     },
     "execution_count": 170,
     "metadata": {},
     "output_type": "execute_result"
    }
   ],
   "source": [
    "ls_item"
   ]
  },
  {
   "cell_type": "code",
   "execution_count": 173,
   "id": "2da41ca6-7607-4076-be54-251b7da9d32f",
   "metadata": {},
   "outputs": [
    {
     "data": {
      "text/plain": [
       "[{'item_id': 1039, 'score': 0.3501156647875863},\n",
       " {'item_id': 40962, 'score': 0.3569730458639763},\n",
       " {'item_id': 795, 'score': 0.3844639807598642},\n",
       " {'item_id': 1046, 'score': 0.4157450865077967},\n",
       " {'item_id': 121, 'score': 0.6654457923085177}]"
      ]
     },
     "execution_count": 173,
     "metadata": {},
     "output_type": "execute_result"
    }
   ],
   "source": [
    "# Sample text\n",
    "text_ = final_df.loc[final_df['item_id'] == 10,'clean_prd_name'].values[0]\n",
    "\n",
    "# Get Sparse Matrix from TFIDF\n",
    "txt_sparse_matrix = loaded_tfidf_model.transform([text_])\n",
    "\n",
    "# Calcualte the cosine score\n",
    "cosine_text_ = cosine_similarity(X=txt_sparse_matrix,Y=load_tfidf_matrix)\n",
    "\n",
    "top5_prd = cosine_text_.flatten().argsort()[-6:-1]\n",
    "top5_score = [(cosine_text_.flatten()[i]) for i in top5_indices]\n",
    "\n",
    "# Extract Product\n",
    "ls_item = []\n",
    "for id, sim in zip(top5_prd,top5_score):\n",
    "    sim_item = {'item_id': id, 'score':sim}\n",
    "    ls_item.append(sim_item)\n",
    "\n",
    "ls_item"
   ]
  },
  {
   "cell_type": "markdown",
   "id": "f784d2f6-e224-4b78-a94f-62e6629b9f17",
   "metadata": {},
   "source": [
    "## Function"
   ]
  },
  {
   "cell_type": "code",
   "execution_count": 180,
   "id": "6abf9bf0-03ab-4e3c-84a9-16e71f3acdac",
   "metadata": {},
   "outputs": [],
   "source": [
    "def recommend_cosine(text_,\n",
    "                     df,\n",
    "                     tf_idf_model,\n",
    "                     tf_idf_arr,\n",
    "                     num = 5):\n",
    "    # Get Sparse Matrix from TFIDF\n",
    "    txt_sparse_matrix = loaded_tfidf_model.transform([text_])\n",
    "    \n",
    "    # Calcualte the cosine score\n",
    "    cosine_text_ = cosine_similarity(X=txt_sparse_matrix,\n",
    "                                     Y=load_tfidf_matrix)\n",
    "    \n",
    "    top5_prd = cosine_text_.flatten().argsort()[-num:-1]\n",
    "    top5_score = [(cosine_text_.flatten()[i]) for i in top5_indices]\n",
    "    \n",
    "    # Extract Product\n",
    "    ls_item = []\n",
    "    for id, sim in zip(top5_prd,top5_score):\n",
    "        sim_item = {'item_id': id, 'score':sim}\n",
    "        ls_item.append(sim_item)\n",
    "    print(f\"San Pham user nhap: {text_}\\n\\n\")\n",
    "    for rec in ls_item:\n",
    "        #print(rec[1])\n",
    "        print(f\"Recommnended:\\tItem ID: {rec['item_id']}, {df.loc[df['item_id'] == rec['item_id'],'product_name'].values[0]}, (score: {rec['score']})\\n\")\n",
    "    get_item =  df['item_id'].isin(top5_prd)\n",
    "    \n",
    "    return df[get_item]"
   ]
  },
  {
   "cell_type": "code",
   "execution_count": 181,
   "id": "a62cda79-beaa-4fbe-bd10-14a1ca4c9fca",
   "metadata": {},
   "outputs": [
    {
     "name": "stdout",
     "output_type": "stream",
     "text": [
      "San Pham user nhap: áo lỗ nam cao_cấp aristino thun lỗ_lót sơ_mi màu trắng trơn đơn_giản_dáng classic_chất cotton mềm\n",
      "\n",
      "\n",
      "Recommnended:\tItem ID: 40962, Áo sơ mi Cotton dài tay trơn màu dành cho nam, (score: 0.3501156647875863)\n",
      "\n",
      "Recommnended:\tItem ID: 795, Áo Ba Lỗ Nam ARISTINO Chất Cotton Basic ATTR05 - AC21, (score: 0.3569730458639763)\n",
      "\n",
      "Recommnended:\tItem ID: 1046, Áo Ba Lỗ Nam ARISTINO - ATTR05 Cotton Siêu Mát, (score: 0.3844639807598642)\n",
      "\n",
      "Recommnended:\tItem ID: 121, Áo Ba Lỗ Nam Cao Cấp RAMSEY Thun 3 Lỗ Lót Trong Sơ Mi Màu Trắng Trơn Dáng Classic Chất Cotton Mềm Mịn RSC01, (score: 0.4157450865077967)\n",
      "\n"
     ]
    }
   ],
   "source": [
    "text_ = final_df.loc[final_df['item_id'] == 10,'clean_prd_name'].values[0]\n",
    "#print(text_)\n",
    "recm_df = recommend_cosine(text_=text_,df=final_df,tf_idf_model=loaded_tfidf_model,tf_idf_arr=load_tfidf_matrix)"
   ]
  },
  {
   "cell_type": "code",
   "execution_count": 182,
   "id": "ed3d308f-7d64-476f-a143-684098bd399a",
   "metadata": {},
   "outputs": [
    {
     "data": {
      "text/html": [
       "<div>\n",
       "<style scoped>\n",
       "    .dataframe tbody tr th:only-of-type {\n",
       "        vertical-align: middle;\n",
       "    }\n",
       "\n",
       "    .dataframe tbody tr th {\n",
       "        vertical-align: top;\n",
       "    }\n",
       "\n",
       "    .dataframe thead th {\n",
       "        text-align: right;\n",
       "    }\n",
       "</style>\n",
       "<table border=\"1\" class=\"dataframe\">\n",
       "  <thead>\n",
       "    <tr style=\"text-align: right;\">\n",
       "      <th></th>\n",
       "      <th>item_id</th>\n",
       "      <th>product_id</th>\n",
       "      <th>product_name</th>\n",
       "      <th>sub_category</th>\n",
       "      <th>price</th>\n",
       "      <th>rating</th>\n",
       "      <th>clean_desc</th>\n",
       "      <th>clean_prd_name</th>\n",
       "    </tr>\n",
       "  </thead>\n",
       "  <tbody>\n",
       "    <tr>\n",
       "      <th>121</th>\n",
       "      <td>121</td>\n",
       "      <td>19121</td>\n",
       "      <td>Áo Ba Lỗ Nam Cao Cấp RAMSEY Thun 3 Lỗ Lót Tron...</td>\n",
       "      <td>Áo Ba Lỗ</td>\n",
       "      <td>29000.0</td>\n",
       "      <td>5.0</td>\n",
       "      <td>áo lỗ thương_hiệu ramsey chiều áo không_thể ta...</td>\n",
       "      <td>áo lỗ nam cao_cấp ramsey thun lỗ_lót sơ_mi màu...</td>\n",
       "    </tr>\n",
       "    <tr>\n",
       "      <th>795</th>\n",
       "      <td>795</td>\n",
       "      <td>19296</td>\n",
       "      <td>Áo Ba Lỗ Nam ARISTINO Chất Cotton Basic ATTR05...</td>\n",
       "      <td>Áo Ba Lỗ</td>\n",
       "      <td>124375.0</td>\n",
       "      <td>5.0</td>\n",
       "      <td>áo lỗ thương_hiệu aristino chất_liệu hàng gửi ...</td>\n",
       "      <td>áo lỗ nam aristino chất cotton</td>\n",
       "    </tr>\n",
       "    <tr>\n",
       "      <th>1046</th>\n",
       "      <td>1046</td>\n",
       "      <td>19547</td>\n",
       "      <td>Áo Ba Lỗ Nam ARISTINO - ATTR05 Cotton Siêu Mát</td>\n",
       "      <td>Áo Ba Lỗ</td>\n",
       "      <td>111000.0</td>\n",
       "      <td>5.0</td>\n",
       "      <td>áo lỗ thương_hiệu aristino chiều áo không_thể ...</td>\n",
       "      <td>áo lỗ nam aristino cotton</td>\n",
       "    </tr>\n",
       "    <tr>\n",
       "      <th>40962</th>\n",
       "      <td>40962</td>\n",
       "      <td>161415</td>\n",
       "      <td>Áo sơ mi Cotton dài tay trơn màu dành cho nam</td>\n",
       "      <td>Trang Phục Truyền Thống</td>\n",
       "      <td>470000.0</td>\n",
       "      <td>0.0</td>\n",
       "      <td>phục truyền_thống áo mẫu họa_tiết hàng gửi mur...</td>\n",
       "      <td>áo sơ_mi cotton dài tay trơn màu dành nam</td>\n",
       "    </tr>\n",
       "  </tbody>\n",
       "</table>\n",
       "</div>"
      ],
      "text/plain": [
       "       item_id  product_id                                       product_name  \\\n",
       "121        121       19121  Áo Ba Lỗ Nam Cao Cấp RAMSEY Thun 3 Lỗ Lót Tron...   \n",
       "795        795       19296  Áo Ba Lỗ Nam ARISTINO Chất Cotton Basic ATTR05...   \n",
       "1046      1046       19547     Áo Ba Lỗ Nam ARISTINO - ATTR05 Cotton Siêu Mát   \n",
       "40962    40962      161415      Áo sơ mi Cotton dài tay trơn màu dành cho nam   \n",
       "\n",
       "                  sub_category     price  rating  \\\n",
       "121                   Áo Ba Lỗ   29000.0     5.0   \n",
       "795                   Áo Ba Lỗ  124375.0     5.0   \n",
       "1046                  Áo Ba Lỗ  111000.0     5.0   \n",
       "40962  Trang Phục Truyền Thống  470000.0     0.0   \n",
       "\n",
       "                                              clean_desc  \\\n",
       "121    áo lỗ thương_hiệu ramsey chiều áo không_thể ta...   \n",
       "795    áo lỗ thương_hiệu aristino chất_liệu hàng gửi ...   \n",
       "1046   áo lỗ thương_hiệu aristino chiều áo không_thể ...   \n",
       "40962  phục truyền_thống áo mẫu họa_tiết hàng gửi mur...   \n",
       "\n",
       "                                          clean_prd_name  \n",
       "121    áo lỗ nam cao_cấp ramsey thun lỗ_lót sơ_mi màu...  \n",
       "795                       áo lỗ nam aristino chất cotton  \n",
       "1046                           áo lỗ nam aristino cotton  \n",
       "40962          áo sơ_mi cotton dài tay trơn màu dành nam  "
      ]
     },
     "execution_count": 182,
     "metadata": {},
     "output_type": "execute_result"
    }
   ],
   "source": [
    "recm_df"
   ]
  }
 ],
 "metadata": {
  "kernelspec": {
   "display_name": "Python 3 (ipykernel)",
   "language": "python",
   "name": "python3"
  },
  "language_info": {
   "codemirror_mode": {
    "name": "ipython",
    "version": 3
   },
   "file_extension": ".py",
   "mimetype": "text/x-python",
   "name": "python",
   "nbconvert_exporter": "python",
   "pygments_lexer": "ipython3",
   "version": "3.9.18"
  }
 },
 "nbformat": 4,
 "nbformat_minor": 5
}
